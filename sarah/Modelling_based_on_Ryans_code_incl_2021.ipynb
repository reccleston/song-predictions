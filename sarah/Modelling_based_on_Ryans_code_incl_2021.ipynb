{
 "cells": [
  {
   "cell_type": "code",
   "execution_count": 1,
   "metadata": {},
   "outputs": [],
   "source": [
    "# imports\n",
    "import pandas as pd\n",
    "import time\n",
    "import pickle\n",
    "import matplotlib.pyplot as plt\n",
    "from sklearn.model_selection import train_test_split\n",
    "from sklearn.preprocessing import MinMaxScaler\n",
    "from sklearn.linear_model import LogisticRegression\n",
    "from sklearn.metrics import classification_report, confusion_matrix"
   ]
  },
  {
   "cell_type": "code",
   "execution_count": 2,
   "metadata": {},
   "outputs": [
    {
     "data": {
      "text/html": [
       "<div>\n",
       "<style scoped>\n",
       "    .dataframe tbody tr th:only-of-type {\n",
       "        vertical-align: middle;\n",
       "    }\n",
       "\n",
       "    .dataframe tbody tr th {\n",
       "        vertical-align: top;\n",
       "    }\n",
       "\n",
       "    .dataframe thead th {\n",
       "        text-align: right;\n",
       "    }\n",
       "</style>\n",
       "<table border=\"1\" class=\"dataframe\">\n",
       "  <thead>\n",
       "    <tr style=\"text-align: right;\">\n",
       "      <th></th>\n",
       "      <th>song</th>\n",
       "      <th>performer</th>\n",
       "      <th>chart_position</th>\n",
       "      <th>previous_position</th>\n",
       "      <th>peak</th>\n",
       "      <th>weeks_on_chart</th>\n",
       "      <th>hitTF</th>\n",
       "      <th>id</th>\n",
       "      <th>danceability</th>\n",
       "      <th>energy</th>\n",
       "      <th>...</th>\n",
       "      <th>loudness</th>\n",
       "      <th>mode</th>\n",
       "      <th>speechiness</th>\n",
       "      <th>acousticness</th>\n",
       "      <th>instrumentalness</th>\n",
       "      <th>liveness</th>\n",
       "      <th>valence</th>\n",
       "      <th>tempo</th>\n",
       "      <th>duration_ms</th>\n",
       "      <th>time_signature</th>\n",
       "    </tr>\n",
       "  </thead>\n",
       "  <tbody>\n",
       "    <tr>\n",
       "      <th>0</th>\n",
       "      <td>Dance Monkey</td>\n",
       "      <td>Tones And I</td>\n",
       "      <td>11.0</td>\n",
       "      <td>19.0</td>\n",
       "      <td>11.0</td>\n",
       "      <td>8.0</td>\n",
       "      <td>1.0</td>\n",
       "      <td>2XU0oxnq2qxCpomAAuJY8K</td>\n",
       "      <td>0.824</td>\n",
       "      <td>0.588</td>\n",
       "      <td>...</td>\n",
       "      <td>-6.400</td>\n",
       "      <td>0.0</td>\n",
       "      <td>0.0924</td>\n",
       "      <td>0.6920</td>\n",
       "      <td>0.000104</td>\n",
       "      <td>0.149</td>\n",
       "      <td>0.513</td>\n",
       "      <td>98.027</td>\n",
       "      <td>209438.0</td>\n",
       "      <td>4.0</td>\n",
       "    </tr>\n",
       "    <tr>\n",
       "      <th>1</th>\n",
       "      <td>Mine</td>\n",
       "      <td>Bazzi</td>\n",
       "      <td>56.0</td>\n",
       "      <td>0.0</td>\n",
       "      <td>56.0</td>\n",
       "      <td>1.0</td>\n",
       "      <td>1.0</td>\n",
       "      <td>7uzmGiiJyRfuViKKK3lVmR</td>\n",
       "      <td>0.710</td>\n",
       "      <td>0.789</td>\n",
       "      <td>...</td>\n",
       "      <td>-3.874</td>\n",
       "      <td>1.0</td>\n",
       "      <td>0.0722</td>\n",
       "      <td>0.0161</td>\n",
       "      <td>0.000003</td>\n",
       "      <td>0.451</td>\n",
       "      <td>0.717</td>\n",
       "      <td>142.929</td>\n",
       "      <td>131064.0</td>\n",
       "      <td>4.0</td>\n",
       "    </tr>\n",
       "    <tr>\n",
       "      <th>2</th>\n",
       "      <td>Final Fantasy</td>\n",
       "      <td>Drake</td>\n",
       "      <td>56.0</td>\n",
       "      <td>0.0</td>\n",
       "      <td>56.0</td>\n",
       "      <td>1.0</td>\n",
       "      <td>1.0</td>\n",
       "      <td>44Du2IM1bGY7dicmLfXbUs</td>\n",
       "      <td>0.500</td>\n",
       "      <td>0.449</td>\n",
       "      <td>...</td>\n",
       "      <td>-10.977</td>\n",
       "      <td>1.0</td>\n",
       "      <td>0.4420</td>\n",
       "      <td>0.4220</td>\n",
       "      <td>0.000008</td>\n",
       "      <td>0.115</td>\n",
       "      <td>0.104</td>\n",
       "      <td>144.206</td>\n",
       "      <td>219960.0</td>\n",
       "      <td>1.0</td>\n",
       "    </tr>\n",
       "    <tr>\n",
       "      <th>3</th>\n",
       "      <td>Hear Me Calling</td>\n",
       "      <td>Juice WRLD</td>\n",
       "      <td>56.0</td>\n",
       "      <td>0.0</td>\n",
       "      <td>56.0</td>\n",
       "      <td>1.0</td>\n",
       "      <td>1.0</td>\n",
       "      <td>13ZyrkCDmRz5xY3seuAWYk</td>\n",
       "      <td>0.699</td>\n",
       "      <td>0.687</td>\n",
       "      <td>...</td>\n",
       "      <td>-3.997</td>\n",
       "      <td>0.0</td>\n",
       "      <td>0.1060</td>\n",
       "      <td>0.3080</td>\n",
       "      <td>0.000036</td>\n",
       "      <td>0.121</td>\n",
       "      <td>0.499</td>\n",
       "      <td>88.932</td>\n",
       "      <td>189977.0</td>\n",
       "      <td>4.0</td>\n",
       "    </tr>\n",
       "    <tr>\n",
       "      <th>4</th>\n",
       "      <td>Liar</td>\n",
       "      <td>Camila Cabello</td>\n",
       "      <td>56.0</td>\n",
       "      <td>0.0</td>\n",
       "      <td>56.0</td>\n",
       "      <td>1.0</td>\n",
       "      <td>1.0</td>\n",
       "      <td>7LzouaWGFCy4tkXDOOnEyM</td>\n",
       "      <td>0.740</td>\n",
       "      <td>0.498</td>\n",
       "      <td>...</td>\n",
       "      <td>-6.684</td>\n",
       "      <td>0.0</td>\n",
       "      <td>0.0456</td>\n",
       "      <td>0.0169</td>\n",
       "      <td>0.002820</td>\n",
       "      <td>0.319</td>\n",
       "      <td>0.652</td>\n",
       "      <td>98.016</td>\n",
       "      <td>207039.0</td>\n",
       "      <td>4.0</td>\n",
       "    </tr>\n",
       "  </tbody>\n",
       "</table>\n",
       "<p>5 rows × 21 columns</p>\n",
       "</div>"
      ],
      "text/plain": [
       "              song       performer  chart_position  previous_position  peak  \\\n",
       "0     Dance Monkey     Tones And I            11.0               19.0  11.0   \n",
       "1             Mine           Bazzi            56.0                0.0  56.0   \n",
       "2    Final Fantasy           Drake            56.0                0.0  56.0   \n",
       "3  Hear Me Calling      Juice WRLD            56.0                0.0  56.0   \n",
       "4             Liar  Camila Cabello            56.0                0.0  56.0   \n",
       "\n",
       "   weeks_on_chart  hitTF                      id  danceability  energy  ...  \\\n",
       "0             8.0    1.0  2XU0oxnq2qxCpomAAuJY8K         0.824   0.588  ...   \n",
       "1             1.0    1.0  7uzmGiiJyRfuViKKK3lVmR         0.710   0.789  ...   \n",
       "2             1.0    1.0  44Du2IM1bGY7dicmLfXbUs         0.500   0.449  ...   \n",
       "3             1.0    1.0  13ZyrkCDmRz5xY3seuAWYk         0.699   0.687  ...   \n",
       "4             1.0    1.0  7LzouaWGFCy4tkXDOOnEyM         0.740   0.498  ...   \n",
       "\n",
       "   loudness  mode  speechiness  acousticness  instrumentalness  liveness  \\\n",
       "0    -6.400   0.0       0.0924        0.6920          0.000104     0.149   \n",
       "1    -3.874   1.0       0.0722        0.0161          0.000003     0.451   \n",
       "2   -10.977   1.0       0.4420        0.4220          0.000008     0.115   \n",
       "3    -3.997   0.0       0.1060        0.3080          0.000036     0.121   \n",
       "4    -6.684   0.0       0.0456        0.0169          0.002820     0.319   \n",
       "\n",
       "   valence    tempo  duration_ms  time_signature  \n",
       "0    0.513   98.027     209438.0             4.0  \n",
       "1    0.717  142.929     131064.0             4.0  \n",
       "2    0.104  144.206     219960.0             1.0  \n",
       "3    0.499   88.932     189977.0             4.0  \n",
       "4    0.652   98.016     207039.0             4.0  \n",
       "\n",
       "[5 rows x 21 columns]"
      ]
     },
     "execution_count": 2,
     "metadata": {},
     "output_type": "execute_result"
    }
   ],
   "source": [
    "# reading in final data csv\n",
    "finalDataSet = pd.read_csv('../data/finalDataSet2018to2021.csv')\n",
    "finalDataSet.head()"
   ]
  },
  {
   "cell_type": "code",
   "execution_count": 3,
   "metadata": {},
   "outputs": [
    {
     "data": {
      "text/plain": [
       "song                  object\n",
       "performer             object\n",
       "chart_position       float64\n",
       "previous_position    float64\n",
       "peak                 float64\n",
       "weeks_on_chart       float64\n",
       "hitTF                float64\n",
       "id                    object\n",
       "danceability         float64\n",
       "energy               float64\n",
       "key                  float64\n",
       "loudness             float64\n",
       "mode                 float64\n",
       "speechiness          float64\n",
       "acousticness         float64\n",
       "instrumentalness     float64\n",
       "liveness             float64\n",
       "valence              float64\n",
       "tempo                float64\n",
       "duration_ms          float64\n",
       "time_signature       float64\n",
       "dtype: object"
      ]
     },
     "execution_count": 3,
     "metadata": {},
     "output_type": "execute_result"
    }
   ],
   "source": [
    "# checking dtypes to make sure all numbers are numeric types\n",
    "finalDataSet.dtypes"
   ]
  },
  {
   "cell_type": "code",
   "execution_count": 4,
   "metadata": {},
   "outputs": [],
   "source": [
    "# getting the cols that will be features in the models\n",
    "bb_feature_num = finalDataSet.select_dtypes(['int', 'float'])"
   ]
  },
  {
   "cell_type": "code",
   "execution_count": 5,
   "metadata": {},
   "outputs": [],
   "source": [
    "# Logistic Regression model function\n",
    "def LogRegModel(X, y, size=None):\n",
    "#     splitting test and training datasets\n",
    "    X_train, X_test, y_train, y_test = train_test_split(X, y, test_size=size)\n",
    "    X_train, X_val, y_train, y_val = train_test_split(X_train, y_train, test_size=size + 0.05)\n",
    "#     fitting the scaler to the x_train dataset\n",
    "    X_scaler = MinMaxScaler().fit(X_train)\n",
    "# scaling the x train, test and values datasets\n",
    "    X_train_scaled = X_scaler.transform(X_train)\n",
    "    X_test_scaled = X_scaler.transform(X_test)\n",
    "    X_val_scaled = X_scaler.transform(X_val)\n",
    "    \n",
    "    LogReg = LogisticRegression()\n",
    "    \n",
    "    t = time.time()\n",
    "    LogReg.fit(X_train_scaled, y_train)\n",
    "    elapsed_time = time.time() - t\n",
    "#     print results of training and testing \n",
    "    print(f\"Training Data Score: {LogReg.score(X_train_scaled, y_train)}\")\n",
    "    print(f\"Testing Data Score: {LogReg.score(X_test_scaled, y_test)}\", '\\n')\n",
    "#     creating predictions\n",
    "    predictions = LogReg.predict(X_val_scaled)\n",
    "#     scoring predictions\n",
    "    print(classification_report(y_val, predictions, target_names=['not hit','hit']), '\\n')\n",
    "# saving model    \n",
    "    pickle.dump(LogReg, open('../models/LogRegW2021.sav', 'wb'))\n",
    "    return LogReg.score(X_train_scaled, y_train), LogReg.score(X_test_scaled, y_test)"
   ]
  },
  {
   "cell_type": "code",
   "execution_count": 6,
   "metadata": {},
   "outputs": [],
   "source": [
    "# setting the X and y values for input into the LogReg model\n",
    "# song numeric fields are x values\n",
    "X = bb_feature_num.loc[:, bb_feature_num.columns != 'hitTF'].values\n",
    "# whether it is a hit is the y value\n",
    "y = bb_feature_num['hitTF'].values"
   ]
  },
  {
   "cell_type": "code",
   "execution_count": 7,
   "metadata": {},
   "outputs": [
    {
     "name": "stdout",
     "output_type": "stream",
     "text": [
<<<<<<< HEAD
      "Training Data Score: 0.9850948509485095\n",
      "Testing Data Score: 0.9796954314720813 \n",
      "\n",
      "              precision    recall  f1-score   support\n",
      "\n",
      "     not hit       0.98      1.00      0.99       840\n",
      "         hit       1.00      0.87      0.93       145\n",
      "\n",
      "    accuracy                           0.98       985\n",
      "   macro avg       0.99      0.93      0.96       985\n",
      "weighted avg       0.98      0.98      0.98       985\n",
=======
      "Training Data Score: 0.9854336043360433\n",
      "Testing Data Score: 0.9847715736040609 \n",
      "\n",
      "              precision    recall  f1-score   support\n",
      "\n",
      "     not hit       0.97      1.00      0.98       852\n",
      "         hit       1.00      0.78      0.88       133\n",
      "\n",
      "    accuracy                           0.97       985\n",
      "   macro avg       0.98      0.89      0.93       985\n",
      "weighted avg       0.97      0.97      0.97       985\n",
>>>>>>> ff8ace43b69c7b0cda6797c3e38a89c1ace0068a
      " \n",
      "\n"
     ]
    }
   ],
   "source": [
    "# calling the LogRegModel funct on data w/ test size 20%\n",
    "LogRegModel(X, y, size=0.2);"
   ]
  },
  {
   "cell_type": "code",
   "execution_count": 8,
   "metadata": {},
   "outputs": [],
   "source": [
    "# creating variety of test sizes for the function\n",
    "test_size = [x / 10 for x in range(1,10)]"
   ]
  },
  {
   "cell_type": "code",
   "execution_count": 9,
   "metadata": {
    "scrolled": true
   },
   "outputs": [
    {
     "name": "stdout",
     "output_type": "stream",
     "text": [
      "10.0% of data is test --> 90.0% is training\n",
<<<<<<< HEAD
      "Training Data Score: 0.9853878852284803\n",
      "Testing Data Score: 0.9817444219066938 \n",
      "\n",
      "              precision    recall  f1-score   support\n",
      "\n",
      "     not hit       0.98      1.00      0.99       578\n",
      "         hit       1.00      0.90      0.95        87\n",
=======
      "Training Data Score: 0.9851222104144527\n",
      "Testing Data Score: 0.9878296146044625 \n",
      "\n",
      "              precision    recall  f1-score   support\n",
      "\n",
      "     not hit       0.98      1.00      0.99       576\n",
      "         hit       1.00      0.90      0.95        89\n",
>>>>>>> ff8ace43b69c7b0cda6797c3e38a89c1ace0068a
      "\n",
      "    accuracy                           0.99       665\n",
      "   macro avg       0.99      0.95      0.97       665\n",
      "weighted avg       0.99      0.99      0.99       665\n",
      " \n",
      "\n",
      "20.0% of data is test --> 80.0% is training\n",
<<<<<<< HEAD
      "Training Data Score: 0.9840785907859079\n",
=======
      "Training Data Score: 0.9844173441734417\n",
>>>>>>> ff8ace43b69c7b0cda6797c3e38a89c1ace0068a
      "Testing Data Score: 0.983756345177665 \n",
      "\n",
      "              precision    recall  f1-score   support\n",
      "\n",
<<<<<<< HEAD
      "     not hit       0.98      1.00      0.99       858\n",
      "         hit       1.00      0.87      0.93       127\n",
      "\n",
      "    accuracy                           0.98       985\n",
      "   macro avg       0.99      0.93      0.96       985\n",
=======
      "     not hit       0.98      1.00      0.99       861\n",
      "         hit       1.00      0.87      0.93       124\n",
      "\n",
      "    accuracy                           0.98       985\n",
      "   macro avg       0.99      0.94      0.96       985\n",
>>>>>>> ff8ace43b69c7b0cda6797c3e38a89c1ace0068a
      "weighted avg       0.98      0.98      0.98       985\n",
      " \n",
      "\n",
      "30.0% of data is test --> 70.0% is training\n",
<<<<<<< HEAD
      "Training Data Score: 0.9852612773559625\n",
      "Testing Data Score: 0.977657413676371 \n",
      "\n",
      "              precision    recall  f1-score   support\n",
      "\n",
      "     not hit       0.97      1.00      0.99      1034\n",
      "         hit       1.00      0.84      0.91       172\n",
      "\n",
      "    accuracy                           0.98      1206\n",
      "   macro avg       0.99      0.92      0.95      1206\n",
=======
      "Training Data Score: 0.9825815096025011\n",
      "Testing Data Score: 0.987813134732566 \n",
      "\n",
      "              precision    recall  f1-score   support\n",
      "\n",
      "     not hit       0.98      1.00      0.99      1039\n",
      "         hit       1.00      0.86      0.93       167\n",
      "\n",
      "    accuracy                           0.98      1206\n",
      "   macro avg       0.99      0.93      0.96      1206\n",
>>>>>>> ff8ace43b69c7b0cda6797c3e38a89c1ace0068a
      "weighted avg       0.98      0.98      0.98      1206\n",
      " \n",
      "\n",
      "40.0% of data is test --> 60.0% is training\n",
<<<<<<< HEAD
      "Training Data Score: 0.9827586206896551\n",
      "Testing Data Score: 0.9862874555611986 \n",
      "\n",
      "              precision    recall  f1-score   support\n",
      "\n",
      "     not hit       0.97      1.00      0.98      1150\n",
      "         hit       1.00      0.79      0.88       179\n",
      "\n",
      "    accuracy                           0.97      1329\n",
      "   macro avg       0.98      0.90      0.93      1329\n",
      "weighted avg       0.97      0.97      0.97      1329\n",
      " \n",
      "\n",
      "50.0% of data is test --> 50.0% is training\n",
      "Training Data Score: 0.9774164408310749\n",
      "Testing Data Score: 0.9776513612352702 \n",
      "\n",
      "              precision    recall  f1-score   support\n",
      "\n",
      "     not hit       0.97      1.00      0.99      1179\n",
      "         hit       1.00      0.81      0.89       175\n",
      "\n",
      "    accuracy                           0.97      1354\n",
      "   macro avg       0.99      0.90      0.94      1354\n",
      "weighted avg       0.98      0.97      0.97      1354\n",
      " \n",
      "\n",
      "60.0% of data is test --> 40.0% is training\n",
      "Training Data Score: 0.9738372093023255\n",
      "Testing Data Score: 0.9807041299932295 \n",
      "\n",
      "              precision    recall  f1-score   support\n",
      "\n",
      "     not hit       0.98      1.00      0.99      1134\n",
      "         hit       1.00      0.82      0.90       146\n",
      "\n",
      "    accuracy                           0.98      1280\n",
      "   macro avg       0.99      0.91      0.94      1280\n",
      "weighted avg       0.98      0.98      0.98      1280\n",
      " \n",
      "\n",
      "70.0% of data is test --> 30.000000000000004% is training\n",
      "Training Data Score: 0.967479674796748\n",
      "Testing Data Score: 0.9730121880441092 \n",
      "\n",
      "              precision    recall  f1-score   support\n",
      "\n",
      "     not hit       0.97      1.00      0.98       956\n",
      "         hit       1.00      0.78      0.88       151\n",
      "\n",
      "    accuracy                           0.97      1107\n",
      "   macro avg       0.98      0.89      0.93      1107\n",
=======
      "Training Data Score: 0.979679802955665\n",
      "Testing Data Score: 0.9827323514474352 \n",
      "\n",
      "              precision    recall  f1-score   support\n",
      "\n",
      "     not hit       0.98      1.00      0.99      1170\n",
      "         hit       1.00      0.82      0.90       159\n",
      "\n",
      "    accuracy                           0.98      1329\n",
      "   macro avg       0.99      0.91      0.94      1329\n",
      "weighted avg       0.98      0.98      0.98      1329\n",
      " \n",
      "\n",
      "50.0% of data is test --> 50.0% is training\n",
      "Training Data Score: 0.978319783197832\n",
      "Testing Data Score: 0.983746444534742 \n",
      "\n",
      "              precision    recall  f1-score   support\n",
      "\n",
      "     not hit       0.97      1.00      0.98      1160\n",
      "         hit       1.00      0.78      0.88       194\n",
      "\n",
      "    accuracy                           0.97      1354\n",
      "   macro avg       0.98      0.89      0.93      1354\n",
      "weighted avg       0.97      0.97      0.97      1354\n",
      " \n",
      "\n",
      "60.0% of data is test --> 40.0% is training\n",
      "Training Data Score: 0.9796511627906976\n",
      "Testing Data Score: 0.9739336492890995 \n",
      "\n",
      "              precision    recall  f1-score   support\n",
      "\n",
      "     not hit       0.97      1.00      0.99      1109\n",
      "         hit       1.00      0.82      0.90       171\n",
      "\n",
      "    accuracy                           0.98      1280\n",
      "   macro avg       0.99      0.91      0.94      1280\n",
      "weighted avg       0.98      0.98      0.97      1280\n",
      " \n",
      "\n",
      "70.0% of data is test --> 30.000000000000004% is training\n",
      "Training Data Score: 0.9701897018970189\n",
      "Testing Data Score: 0.9701102727800348 \n",
      "\n",
      "              precision    recall  f1-score   support\n",
      "\n",
      "     not hit       0.97      1.00      0.98       985\n",
      "         hit       1.00      0.75      0.86       122\n",
      "\n",
      "    accuracy                           0.97      1107\n",
      "   macro avg       0.99      0.88      0.92      1107\n",
>>>>>>> ff8ace43b69c7b0cda6797c3e38a89c1ace0068a
      "weighted avg       0.97      0.97      0.97      1107\n",
      " \n",
      "\n",
      "80.0% of data is test --> 19.999999999999996% is training\n",
<<<<<<< HEAD
      "Training Data Score: 0.9523809523809523\n",
      "Testing Data Score: 0.9588623666835957 \n",
      "\n",
      "              precision    recall  f1-score   support\n",
      "\n",
      "     not hit       0.94      1.00      0.97       708\n",
      "         hit       1.00      0.62      0.77       129\n",
      "\n",
      "    accuracy                           0.94       837\n",
      "   macro avg       0.97      0.81      0.87       837\n",
      "weighted avg       0.95      0.94      0.94       837\n",
      " \n",
      "\n",
      "90.0% of data is test --> 9.999999999999998% is training\n",
      "Training Data Score: 0.9583333333333334\n",
      "Testing Data Score: 0.9162528216704289 \n",
      "\n",
      "              precision    recall  f1-score   support\n",
      "\n",
      "     not hit       0.92      1.00      0.96       404\n",
      "         hit       1.00      0.44      0.61        64\n",
      "\n",
      "    accuracy                           0.92       468\n",
      "   macro avg       0.96      0.72      0.78       468\n",
      "weighted avg       0.93      0.92      0.91       468\n",
=======
      "Training Data Score: 0.9455782312925171\n",
      "Testing Data Score: 0.9680040629761301 \n",
      "\n",
      "              precision    recall  f1-score   support\n",
      "\n",
      "     not hit       0.96      1.00      0.98       730\n",
      "         hit       1.00      0.75      0.86       107\n",
      "\n",
      "    accuracy                           0.97       837\n",
      "   macro avg       0.98      0.87      0.92       837\n",
      "weighted avg       0.97      0.97      0.97       837\n",
      " \n",
      "\n",
      "90.0% of data is test --> 9.999999999999998% is training\n",
      "Training Data Score: 0.9166666666666666\n",
      "Testing Data Score: 0.9255079006772009 \n",
      "\n",
      "              precision    recall  f1-score   support\n",
      "\n",
      "     not hit       0.91      1.00      0.95       399\n",
      "         hit       1.00      0.41      0.58        69\n",
      "\n",
      "    accuracy                           0.91       468\n",
      "   macro avg       0.95      0.70      0.76       468\n",
      "weighted avg       0.92      0.91      0.90       468\n",
>>>>>>> ff8ace43b69c7b0cda6797c3e38a89c1ace0068a
      " \n",
      "\n"
     ]
    }
   ],
   "source": [
    "# calling LogRegModel on data for different %ages of testing sizes\n",
    "scores = {\n",
    "    'test_size': [],\n",
    "    'train_score': [],\n",
    "    'test_score': []\n",
    "}\n",
    "\n",
    "for size in test_size:\n",
    "    print(f'{size * 100}% of data is test --> {(1 - size) * 100}% is training')\n",
    "    train_score, test_score = LogRegModel(X, y, size)\n",
    "    scores['test_size'].append(size)\n",
    "    scores['train_score'].append(train_score)\n",
    "    scores['test_score'].append(test_score)"
   ]
  },
  {
   "cell_type": "code",
   "execution_count": 10,
   "metadata": {},
   "outputs": [],
   "source": [
    "score_df = pd.DataFrame(scores)"
   ]
  },
  {
   "cell_type": "code",
   "execution_count": 11,
   "metadata": {
    "scrolled": true
   },
   "outputs": [
    {
     "data": {
<<<<<<< HEAD
      "image/png": "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\n",
=======
      "image/png": "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\n",
>>>>>>> ff8ace43b69c7b0cda6797c3e38a89c1ace0068a
      "text/plain": [
       "<Figure size 432x288 with 1 Axes>"
      ]
     },
     "metadata": {
      "needs_background": "light"
     },
     "output_type": "display_data"
    }
   ],
   "source": [
    "# plotting the size of testing data set against how well the model performed on test and train sets\n",
    "score_df.plot.line(x='test_size');"
   ]
  },
  {
   "cell_type": "code",
   "execution_count": 12,
   "metadata": {},
   "outputs": [],
   "source": [
    "# prep for SVM\n",
    "X = bb_feature_num.loc[:, bb_feature_num.columns != 'hitTF'].values\n",
    "y = bb_feature_num['hitTF'].values\n",
    "\n",
    "X_train, X_test, y_train, y_test = train_test_split(X, y, train_size=0.2)\n",
    "\n",
    "X_train, X_val, y_train, y_val = train_test_split(X_train, y_train)\n",
    "\n",
    "# scaling data\n",
    "X_scaler = MinMaxScaler().fit(X_train)\n",
    "\n",
    "X_train_scaled = X_scaler.transform(X_train)\n",
    "X_test_scaled = X_scaler.transform(X_test)\n",
    "X_val_scaled = X_scaler.transform(X_val)"
   ]
  },
  {
   "cell_type": "code",
   "execution_count": 13,
   "metadata": {},
   "outputs": [
    {
     "data": {
      "text/plain": [
<<<<<<< HEAD
       "array([[0.        , 0.        , 0.        , ..., 0.45112627, 0.06219815,\n",
       "        0.8       ],\n",
       "       [0.        , 0.        , 0.        , ..., 0.58805412, 0.0385223 ,\n",
       "        0.8       ],\n",
       "       [0.        , 0.        , 0.        , ..., 0.48970344, 0.04181723,\n",
=======
       "array([[0.41      , 0.        , 0.41      , ..., 0.6221458 , 0.04402722,\n",
       "        0.8       ],\n",
       "       [0.        , 0.        , 0.        , ..., 0.62136738, 0.05006562,\n",
>>>>>>> ff8ace43b69c7b0cda6797c3e38a89c1ace0068a
       "        0.8       ],\n",
       "       [0.        , 0.        , 0.        , ..., 0.        , 0.05395044,\n",
       "        0.        ],\n",
       "       ...,\n",
<<<<<<< HEAD
       "       [0.        , 0.        , 0.        , ..., 0.62110906, 0.06105997,\n",
       "        0.8       ],\n",
       "       [0.        , 0.        , 0.        , ..., 0.54078655, 0.05816704,\n",
       "        0.8       ],\n",
       "       [0.        , 0.        , 0.        , ..., 0.55382706, 0.05271203,\n",
=======
       "       [0.        , 0.        , 0.        , ..., 0.83054518, 0.0684517 ,\n",
       "        0.8       ],\n",
       "       [0.        , 0.        , 0.        , ..., 0.78393909, 0.05447776,\n",
       "        0.8       ],\n",
       "       [0.        , 0.        , 0.        , ..., 0.55203144, 0.04604593,\n",
>>>>>>> ff8ace43b69c7b0cda6797c3e38a89c1ace0068a
       "        0.8       ]])"
      ]
     },
     "execution_count": 13,
     "metadata": {},
     "output_type": "execute_result"
    }
   ],
   "source": [
    "X_train_scaled"
   ]
  },
  {
   "cell_type": "code",
   "execution_count": 14,
   "metadata": {},
   "outputs": [],
   "source": [
    "from sklearn.svm import SVC \n",
    "SVM = SVC(kernel='linear')\n",
    "SVM.fit(X_train_scaled, y_train);"
   ]
  },
  {
   "cell_type": "code",
   "execution_count": 15,
   "metadata": {},
   "outputs": [],
   "source": [
    "svm_predictions = SVM.predict(X_test_scaled)"
   ]
  },
  {
   "cell_type": "code",
   "execution_count": 16,
   "metadata": {},
   "outputs": [
    {
     "name": "stdout",
     "output_type": "stream",
     "text": [
      "              precision    recall  f1-score   support\n",
      "\n",
<<<<<<< HEAD
      "     not hit       0.99      1.00      1.00      3429\n",
      "         hit       1.00      0.96      0.98       509\n",
      "\n",
      "    accuracy                           0.99      3938\n",
      "   macro avg       1.00      0.98      0.99      3938\n",
=======
      "     not hit       0.99      1.00      0.99      3439\n",
      "         hit       1.00      0.90      0.95       499\n",
      "\n",
      "    accuracy                           0.99      3938\n",
      "   macro avg       0.99      0.95      0.97      3938\n",
>>>>>>> ff8ace43b69c7b0cda6797c3e38a89c1ace0068a
      "weighted avg       0.99      0.99      0.99      3938\n",
      "\n"
     ]
    }
   ],
   "source": [
    "print(classification_report(y_test, svm_predictions, target_names=['not hit','hit']))"
   ]
  },
  {
   "cell_type": "code",
   "execution_count": 17,
   "metadata": {},
   "outputs": [
    {
     "data": {
      "text/plain": [
<<<<<<< HEAD
       "array([[3429,    0],\n",
       "       [  22,  487]])"
=======
       "array([[3439,    0],\n",
       "       [  52,  447]])"
>>>>>>> ff8ace43b69c7b0cda6797c3e38a89c1ace0068a
      ]
     },
     "execution_count": 17,
     "metadata": {},
     "output_type": "execute_result"
    }
   ],
   "source": [
    "confusion_matrix(y_test, svm_predictions)"
   ]
  },
  {
   "cell_type": "code",
   "execution_count": 18,
   "metadata": {},
   "outputs": [
    {
     "name": "stdout",
     "output_type": "stream",
     "text": [
      "              precision    recall  f1-score   support\n",
      "\n",
<<<<<<< HEAD
      "     not hit       1.00      1.00      1.00       211\n",
      "         hit       1.00      1.00      1.00        35\n",
=======
      "     not hit       1.00      1.00      1.00       208\n",
      "         hit       1.00      0.97      0.99        38\n",
>>>>>>> ff8ace43b69c7b0cda6797c3e38a89c1ace0068a
      "\n",
      "    accuracy                           1.00       246\n",
      "   macro avg       1.00      0.99      0.99       246\n",
      "weighted avg       1.00      1.00      1.00       246\n",
      "\n"
     ]
    }
   ],
   "source": [
    "svm_predictions = SVM.predict(X_val_scaled)\n",
    "print(classification_report(y_val, svm_predictions, target_names=['not hit','hit']))"
   ]
  },
  {
   "cell_type": "code",
   "execution_count": 19,
   "metadata": {},
   "outputs": [
    {
     "data": {
      "text/plain": [
<<<<<<< HEAD
       "array([[211,   0],\n",
       "       [  0,  35]])"
=======
       "array([[208,   0],\n",
       "       [  1,  37]])"
>>>>>>> ff8ace43b69c7b0cda6797c3e38a89c1ace0068a
      ]
     },
     "execution_count": 19,
     "metadata": {},
     "output_type": "execute_result"
    }
   ],
   "source": [
    "confusion_matrix(y_val, svm_predictions)"
   ]
  },
  {
   "cell_type": "code",
   "execution_count": 20,
   "metadata": {},
   "outputs": [],
   "source": [
    "# from sklearn.decomposition import PCA\n",
    "\n",
    "# pca = PCA(n_components=2)\n",
    "# pca.fit(X)\n",
    "\n",
    "# reduced_X = pca.transform(X)"
   ]
  },
  {
   "cell_type": "code",
<<<<<<< HEAD
   "execution_count": 32,
=======
   "execution_count": 22,
>>>>>>> ff8ace43b69c7b0cda6797c3e38a89c1ace0068a
   "metadata": {},
   "outputs": [
    {
     "name": "stdout",
     "output_type": "stream",
     "text": [
      "              precision    recall  f1-score   support\n",
      "\n",
<<<<<<< HEAD
      "     not hit       0.99      1.00      1.00      3420\n",
      "         hit       1.00      0.94      0.97       518\n",
      "\n",
      "    accuracy                           0.99      3938\n",
      "   macro avg       1.00      0.97      0.98      3938\n",
      "weighted avg       0.99      0.99      0.99      3938\n",
=======
      "     not hit       0.99      1.00      1.00      3425\n",
      "         hit       1.00      0.96      0.98       513\n",
      "\n",
      "    accuracy                           1.00      3938\n",
      "   macro avg       1.00      0.98      0.99      3938\n",
      "weighted avg       1.00      1.00      1.00      3938\n",
>>>>>>> ff8ace43b69c7b0cda6797c3e38a89c1ace0068a
      "\n"
     ]
    },
    {
     "data": {
      "text/plain": [
<<<<<<< HEAD
       "array([[3420,    0],\n",
       "       [  33,  485]])"
      ]
     },
     "execution_count": 32,
=======
       "array([[3425,    0],\n",
       "       [  19,  494]])"
      ]
     },
     "execution_count": 22,
>>>>>>> ff8ace43b69c7b0cda6797c3e38a89c1ace0068a
     "metadata": {},
     "output_type": "execute_result"
    }
   ],
   "source": [
    "y = bb_feature_num['hitTF'].values\n",
    "\n",
    "X_train, X_test, y_train, y_test = train_test_split(X, y, train_size=0.2)\n",
    "\n",
    "X_train, X_val, y_train, y_val = train_test_split(X_train, y_train)\n",
    "\n",
    "# Scale data\n",
    "X_scaler = MinMaxScaler().fit(X_train)\n",
    "\n",
    "X_train_scaled = X_scaler.transform(X_train)\n",
    "X_test_scaled = X_scaler.transform(X_test)\n",
    "X_val_scaled = X_scaler.transform(X_val)\n",
    "\n",
    "SVM = SVC(kernel='linear')\n",
    "SVM.fit(X_train_scaled, y_train)\n",
    "\n",
    "svm_predictions = SVM.predict(X_test_scaled)\n",
    "print(classification_report(y_test, svm_predictions, target_names=['not hit','hit']))\n",
    "\n",
    "confusion_matrix(y_test, svm_predictions)"
   ]
  },
  {
   "cell_type": "code",
<<<<<<< HEAD
   "execution_count": 33,
=======
   "execution_count": 23,
>>>>>>> ff8ace43b69c7b0cda6797c3e38a89c1ace0068a
   "metadata": {},
   "outputs": [
    {
     "name": "stdout",
     "output_type": "stream",
     "text": [
<<<<<<< HEAD
      "Number of support vectors: 75\n"
=======
      "Number of support vectors: 86\n"
>>>>>>> ff8ace43b69c7b0cda6797c3e38a89c1ace0068a
     ]
    },
    {
     "data": {
<<<<<<< HEAD
      "image/png": "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\n",
=======
      "image/png": "iVBORw0KGgoAAAANSUhEUgAAAYcAAAEGCAYAAACO8lkDAAAAOXRFWHRTb2Z0d2FyZQBNYXRwbG90bGliIHZlcnNpb24zLjMuMiwgaHR0cHM6Ly9tYXRwbG90bGliLm9yZy8vihELAAAACXBIWXMAAAsTAAALEwEAmpwYAABCbUlEQVR4nO3dd3yO1/vA8c/JkqSIWq1Z1aoniS2CGDUrds0qpYqKFrVXlVJFS41Ss9SuWVVqVkttFbGy1KhNxayVff3+SOSnX4K2Se6M6/16ndcz7txPrqsj13Puc59zjIiglFJKPcjO6gCUUkqlPloclFJKPUSLg1JKqYdocVBKKfUQLQ5KKaUe4mB1AEkhZ86cUqhQIavDUEqpNGX//v1XRCTXo46li+JQqFAh/P39rQ5DKaXSFGPM6cSO6WUlpZRSD9HioJRS6iFaHJRSSj1Ei4NSSqmHaHFQSin1EC0OSimlHqLFQSml1EMyfHG4evUq58+ftzoMpZRKVTJ8cRg0aBDu7u5MnjyZmJgYq8NRSqlUIcMXhwEDBlCxYkU++OADKlSowIEDB6wOSSmlLJfhi8NLL73Ehg0b+Pbbbzl79ixeXl4sWLDA6rCUUspSGbo4RERE0LdvX/7880/efPNNQkJCeP/996levToAd+7csThCpZSyRoYuDnv37mXy5MnYbDamT5+Om5sbkydPJn/+/IgIDRs2pEmTJpw9e9bqUJVSKkVl6OJQtWpVDh8+TJkyZXjvvfeoXLkyR44cASA2NhZfX182btyIh4cHEydOJDo62uKIlVIqZWTo4gBQtGhRfv75Z+bNm8exY8coXbo0AwYMIDw8nP79+xMUFESVKlXo1asX3t7enDx50uqQlVIq2WX44nDjxg2uXLlCu3btCA0N5e2332bMmDF4enqybt06XnzxRdauXcuyZctwcnIid+7cVoeslFLJLsMXhw8//BCbzcY333xD9uzZmT17Nr/++iuurq7Ur1+fli1bcvHiRVq0aMHu3bvJnDkzERER1KpVi5UrVyIiVqeglFJJLsMXh65du+Lh4UHHjh2pVq0aISEhVK1alYMHD/Lpp5+yevVq3N3dmTJlCrGxsQBcunSJK1eu0KxZMxo1asTp04lupqSUUmmTiFjSAGfgN+AQEAQMj38/O/ATcCz+8dknfVbZsmXlv4iJiZFZs2bJs88+K46OjrJo0aKEY8eOHZPatWsLIOXKlZMDBw6IiEhUVJSMGzdOXF1dxdXVVcaOHStRUVH/KQ6llEpJgL8k8nfVyp5DBFBDREoCpQBfY0wFYCDws4gUAX6Of52s7Ozs6NixI6GhobRt25ZKlSrFBRgRwcsvv8zGjRv59ttvOX36NF5eXvTp04fw8HB69+5NSEgINWvWZOnSpRhjkjtUpZRKGYlVjZRsgCsQAJQHjgJ54t/PAxx90vn/tefwKLGxsVKnTh1p3bq1XLp0SURErl27Jp07dxZAChQoIKtXr0742Rs3boiISFhYmPTu3VuuX7+e5DEppVRSIpX2HDDG2BtjDgKXgZ9EZC/wnIhcBIh/fOTtQcaYzsYYf2OMf1hYWJLHFhMTQ4UKFVixYgU2m42ZM2fi5ubGjBkz2LFjB25ubjRq1IimTZty/vx53NzcANi8eTMTJ07E3d2dpUuX6oC1UiptSqxqpGQDsgFbgGLAjf85dv1J5ydHz+G+kJAQefXVVwUQHx8fOXXqlIiIREZGymeffSYuLi6SOXNmmThxokRHR4uIiL+/v5QtW1YA8fX1lRMnTiRbfEop9W+RWnsO94nIDWAr4Av8aYzJAxD/eNm6yMBms7FlyxbmzJnD7du3yZYtGwCOjo4MGDCAwMBAKleuTM+ePSlfvjz79++nbNmy7N27ly+//JIdO3YwePBgK1NQSql/zLLiYIzJZYzJFv/cBagFhAKrgbfjf+xt4AdLAnyAMYb27dtz4MAB3NzciIqKolGjRmzYsIHChQuzbt06li5dyvnz5/H29qZnz57cvXuXDz74gJCQEMaPHw/AsWPH2Llzp8XZKKXUk1nZc8gDbDHGHAb2ETfm8CPwGVDbGHMMqB3/OlWws4v7x3X+/HmOHTtG3bp1adWqFZcuXaJly5aEhITQpUsXJk2ahLu7O99//z358uUjT548AAwfPpzKlSvTuXNnrl27ZmUqSin1eIldb0pLLTnHHBITHh4un3zyiWTKlEmyZs0qU6ZMSRhz2LNnj5QoUUIAadiwoZw+fVpERG7duiV9+/YVe3t7yZ07tyxcuFBiY2NTPHallBJ5/JiD5X/Yk6JZURzu+/3336VmzZpSsmTJv02Ci4yMlLFjx4qrq6s888wz8sUXXyQcP3DggHh7ewsgU6dOtSp0pVQGp8UhmcXGxkpYWJiIiFy/fl2GDBkit2/fFhGRP/74Q+rXry+AlCpVSvbu3SsiItHR0fL111/LrVu3RETkxIkTEhERYU0CSqkM6XHFIVXcrZTWGWPImTMnAGvXrmXEiBF4eHjw448/UqhQIdasWcOKFSu4fPkyFSpUoFu3bty+fZtOnTqROXNmoqOjqVevHqVKlWLbtm0WZ6OUUrrwXpJr06YN27dvJ0uWLDRs2JBmzZpx4cIFmjVrRkhICN27d2fatGm4u7uzbNkyRAQHBwcmTJjAvXv3ePXVV+nYsSNXr161OhWlVEaWWJciLTWrLys9SkREhIwaNUqcnZ2lRYsWfzu2b98+KVOmjABSt25dOXnypIiI3LlzRwYMGCAODg6SM2dOCQ4OtiJ0pVQGwWMuK5m442mbl5eX+Pv7Wx3GI508eRJHR0cKFCjAH3/8wfXr1ylTpgzR0dF89dVXDBkyhJiYGD7++GN69+6No6MjR44cYcqUKUyZMgV7e3vu3buHi4uL1akopdIZY8x+EfF61DG9rJTMChcuTIECBQAYMmQI5cqVo1evXty7d4+ePXsSEhKCr68vAwcOpEyZMuzevZvixYszffp07O3tuXLlCkWKFGHYsGGEh4dbnI1SKqPQ4pCCvvrqKzp37syXX36Jh4cHq1atIn/+/KxcuZJVq1Zx8+ZNfHx86NKlC9evX08479VXX2X48OGUKFGCX375xcIMlFIZhRaHFJQtWzamTZvGzp07efbZZ2nSpAkzZswAoHHjxgQHB9O7d2++/vprbDYbixcvJkeOHCxatIhNmzYRGxtLzZo1adeuHZGRkRZno5RKz7Q4WKBixYrs37+fiRMn0qpVKwDOnj2Ls7Mz48aNw9/fnxdeeIHWrVtTp04dTpw4Qe3atTly5AgfffQRkZGRODk5WZyFUio90+JgEUdHR3r06IGbm1vCPIdy5cqxb98+Spcuze7du5k8eTJ79uyhWLFijBw5Ent7e0aMGMHixYsBOHr0KLVr1yY4ONjibJRS6Y0Wh1TA3t6eYcOGcfnyZcqXL0/37t25ffs23bp1IzQ0lIYNG/LRRx9RqlQptm/fnrAd6cmTJwkICKBUqVIMHjyYe/fuWZyJUirdSOwe17TUUuM8h3/j5s2b0r17dzHGSJ48eSQ0NDTh2Nq1a6VQoUICSMeOHeXKlSsiInL58mVp166dAFK4cGHZuHGjVeErpdIYdPmMtCFr1qxMmjSJvXv3UqtWLV566SUAoqKiqFevHoGBgfTv35+5c+dis9lYsGABOXPmZN68efz88884ODiwceNGi7NQSqUHOgkulbtx4wZly5bFz8+PXr164ejoyOHDh/Hz82PPnj3UqFGDadOm8corrxAeHk5sbCyurq5s27aNkJAQ3n333YR9KJRS6kE6CS4Ni4iIoESJEgwYMICyZcuye/duSpQowc6dO5k+fTr79++nePHiDB8+HGMMrq6uACxYsIAuXbpQuXJljhw5YnEWSqk0J7HrTWmppZcxh8dZtWqV5M+fX4wx0qVLl4TlvS9evChvvvmmAFK0aFHZsmWLiMQtIz5v3jzJmTOnODg4SP/+/ROWEVdKKREdc0gX7k+S69mzJxcuXMDR0RGA559/nm+//ZaNGzcSFRVF9erVad++PVevXqVdu3aEhobSrl07xowZk3ALrFJKPVFiVSMttYzQc3hQTEyMiMRtENS4cWM5ceKEiIjcvXtXBg8eLI6OjpI9e3aZPXt2wjake/bsSdjGdMuWLXL+/HlrgldKpRpozyF9uT/AHBQUxC+//IKnpyejRo3C3t6eTz/9lAMHDuDh4UHHjh2pVq0awcHBlC9fHnt7e6Kiomjbti3u7u5MmTKFmJgYi7NRSqVGWhzSsIYNGxISEkL9+vUZPHgwpUuXZseOHXh6evLrr78ya9Ysjhw5QqlSpRgyZAj37t3D0dGRLVu24O3tTbdu3fDx8eHgwYNWp6KUSmW0OKRx+fLlY8WKFaxZs4bbt2+zZMkSIK530bFjR0JDQ2nVqhWffvopJUqUYPPmzbz88sts2rSJhQsXcurUKby8vAgJCbE4E6VUamJZcTDGFDDGbDHGhBhjgowxPeLfz26M+ckYcyz+8VmrYkxLGjRoQHBwMKNHjwZgz549LFy4kFy5cjF//nw2b96MMYbatWvTpk0bLl++TJs2bQgNDeWrr77C3d0dgOPHj1uZhlIqlbCy5xAN9BERd6AC0NUY4wEMBH4WkSLAz/Gv1VN45plnyJIlCwAzZsygbdu21K5dm2PHjlGzZk0OHz7M0KFDWb58OTabja+//ho3Nze6dOkCwLFjx/D09KRp06acO3fOylSUUlZLbKQ6pRvwA1AbOArkiX8vD3D0SedmtLuVnkZ0dLRMnTpVsmbNKpkyZZJPPvlEwsPDRUQkJCREXn31VQGkUqVKcuTIERGJ2/d69OjR4uLiIpkzZ5aJEycm3OGklEp/eMzdSpYXhbj4KAScAbICN/7n2PVEzukM+AP+BQsWTPp/aunEhQsX5I033hBAZsyYkfB+bGyszJkzR3LkyCEODg4ycOBAuXPnjojE3SLr6+srgHh7e0tkZKRV4SulklGqLg5AZmA/0DT+9VMVhweb9hyebMuWLRIVFSUiIrt27ZKwsDAREQkLC5P27dsLIC+++KKsX79eROKKx9KlS+XTTz9N+Iz7PQ+lVPrwuOJg6d1KxhhH4DtgkYisjH/7T2NMnvjjeYDLVsWXnlSrVg0HBweioqJo2bIlNpuNuXPnkiNHDubMmcOWLVtwcnKibt26tGrVikuXLtGyZUsGDx4MwNatW3n55Zf5/vvv7xdtpVQ6ZuXdSgaYDYSIyPgHDq0G3o5//jZxYxEqiTg6OrJ+/XpsNhvvvPMO1atXJzQ0lGrVqnHo0CGGDx/OqlWrsNlsTJs2jdjYWACyZMlC9uzZadq0KY0bN+bMmTMWZ6KUSlaJdSmSuwGVAQEOAwfjWz0gB3F3KR2Lf8z+pM/Sy0r/XExMjMycOVOyZcsmjo6OEhwcnHDs6NGjUqNGDQGkfPnycvDgQRERiYyMlLFjx4qrq6s888wzMnXqVKvCV0olAVLjZSUR2SEiRkRKiEip+LZORK6KSE0RKRL/eM2qGNMzOzs73n33XY4ePcro0aOx2WwAnDt3jldeeYXNmzezYMECTp48SdmyZenXrx+RkZH07duX4OBgqlWrRnR0tMVZKKWSTWJVIy017TkkjRMnToiLi4u89dZb8ueff4qIyNWrV+Xdd98VQAoWLChr1qwRkbgB6/uL+s2fP1+6du0qN27csCx2pdQ/R2rsOajUJ2/evPTp04elS5dis9mYNWsW2bJlY+bMmWzfvp0sWbLQsGFDmjVrxoULF4gbNoITJ04wbdo03N3dWb58uQ5YK5UeJFY10lLTnkPSCg4OlqpVqwogVatWTZjnEBERIaNGjRJnZ2fJkiWLTJo0KWGS3L59+6RMmTICSN26deXkyZNWpqCUegpoz0H9E+7u7mzdupVvvvmGKlWqJGwsZGdnx6BBgwgMDMTHx4cPPviAChUqEBAQgJeXF3v37mXixIls376dwMBAi7NQSv0niVWNtNS055D8du7cKS+//LJs2LBBROLGHBYvXizPPfec2NnZSc+ePeWvv/4SEUmYYCciMnPmTNm1a5clMSulHg/tOaj/yhiDnZ0dvr6+tG7dmj///JNWrVoRGhqKn58fX375JR4eHqxatYqcOXMCEBkZyZgxY/Dx8aFLly5cv37d4iyUUk9Li4N6KhUrVuTw4cMMGzaM7777DpvNxpw5c8iWLRtTp05l165dZM+enSZNmvD6669z9uxZnJycOHDgAL179+brr7/G3d2dxYsX64C1UmmAFgf11DJlysTHH3/M4cOHKVOmDFevXk04VqFCBfz9/RkzZgw//fQT7u7ujB8/HmdnZ8aNG4e/vz8FCxbkrbfe4tixYxZmoZR6GiY9fIvz8vISf39/q8PIUESE2NhY7O3tWbZsGfv372fo0KE888wznDp1im7durF27VpKlSrFzJkzKVeuHDExMezevZvKlSsDsHr1anx9fXFycrI4G6UyJmPMfhHxetQx7Tmof8UYg729PQABAQGMGTMGT09P1q5dS6FChVizZg3Lly/n8uXLlC9fnu7du3P79u2EwhAUFETjxo0pVaoU27dvtzIVpdQjaHFQ/9lnn33Gtm3bcHV1pUGDBrRo0YKLFy/SvHlzQkJC6NatG1OmTMHDw4MVK1YgIgmF5O7du1StWpVOnTr97TKVUspaWhxUkqhSpQoHDx5k5MiR/Pjjj+zatQuArFmzMmnSJPbs2UPu3Llp0aIFDRo04NSpU9SrV4+goCD69+/P3Llz8fb21vWalEoldMxBJbnz58+TN29ejDEsXLgQT09PSpcuTXR0NJMnT2bIkCGICMOGDaNnz544Ojpy+PBhfv/9d5o3b46IcObMGV544QWrU1EqXXvcmIPlE9iSoukkuNQpIiJCChUqJHZ2dtKrVy+5deuWiIicPn1aGjduLIAUL178oUly8+fPFycnJxk2bJjuPqdUMkInwSkrODk5ERAQwLvvvsuECRPw8PDghx9+oGDBgqxatYrvv/+e69evU6lSpb9NkqtduzZNmzZl2LBhlCxZkq1bt1qbiFIZkBYHlayeffZZpk+fzs6dO3Fzc6NJkyYcPXoUgNdff53g4GB69uz5t0lyzz33HIsXL2bDhg1ERkZSvXp1Bg0aZHEmSmUsWhxUivDx8SEgIICNGzdStGhRADZv3oyLiwvjx49n3759FChQgNatW+Pr68uJEyeoU6cOgYGBDBo0CB8fHwCio6N1hrVSKUCLg0oxjo6O1K5dG4DAwEBq166Nt7c3+/bto0yZMuzZs4dJkyaxe/duihUrxqhRo3BwcGDUqFE0bNgQgJEjR1KtWjVCQkKsTEWpdE+Lg7KEp6cny5cv59KlSwmT5O7cuUP37t0JCQmhfv36DB48mNKlS7Njx46E8woVKsSRI0coWbIkQ4YM4d69exZmoVQ6lthIdVpqerdS2nXjxg3p1q2bGGOkSJEiEhUVlXBszZo1UrBgQQGkU6dOcvXqVRER+fPPP+Wtt94SQF566SXZuXOnVeErlaahdyup1MrNzY3JkyezZ88ePv74YxwcHBARLl68SIMGDQgODqZv377MmTMHm83GwoULyZUrFwsWLGDz5s04OTnh4uJidRpKpTuWFgdjzDfGmMvGmMAH3stujPnJGHMs/vFZK2NUKcPb25s2bdoAsHTpUl5++WXGjh2Lk5MTY8eOZf/+/RQuXJi2bdtSu3Ztjh07Rs2aNQkMDKR06dIA9O7dm5kzZxIbG2tlKkqlC1b3HOYCvv/z3kDgZxEpAvwc/1plID4+PtSsWZP+/fvj5eXFnj17KFmyJDt37mTq1Kn4+/tTvHhxRowYQVRUFBC3sdCBAwfw8/OjSpUquk2pUv9VYtebUqoBhYDAB14fBfLEP88DHH3SZ+iYQ/oTGxsrK1eulHz58okxRoYOHZpw7MKFC/LGG28IIDabTbZu3Zpwzpw5cyRHjhzi4OAgAwcOlDt37liVglKpHmlszOE5EbkIEP+Y+1E/ZIzpbIzxN8b4h4WFpWiAKvkZY2jSpAkhISF88MEHFC9eHICYmBief/55lixZwrp164iIiKBatWq88847XL16lfbt2xMaGkrbtm2ZOnWqbk2q1L+VWNVIqcbDPYcb/3P8+pM+Q3sOGcfo0aPF19dXTp48KSIid+7ckYEDB4qDg4PkyJFD5s6dK7GxsSIicunSJRGJ61F88skncuHCBcviVio1Io31HP40xuQBiH+8bHE8KhXJli0bO3bswNPTk88++wxHR0dGjx7NgQMHsNlstG/fnho1ahAaGspzzz0HxE24GzlyJDabjWnTpumAtVJPITUWh9XA2/HP3wZ+sDAWlcp06dKFkJAQfH19GTRoEKVLl8bf359ixYqxbds2Zs6cycGDBylZsiQff/wx4eHhFC9enCNHjlCuXDnef/99fHx8OHTokNWpKJWqWX0r62JgN1DUGHPOGNMR+AyobYw5BtSOf61Ugvz587Ny5UpWr17NnTt3EnoCdnZ2vPvuuxw9epQWLVrwySefUKJECX7++WeKFCnCTz/9xIIFCzh58iRNmzbVjYWUegzd7EelaVFRUTg6OgLw0Ucf4eHhwZtvvokxhs2bN/Pee+9x/Phx3nrrLcaNG0fu3Lm5du0af/zxB2XLliUiIoJff/2V1157zeJMlEp5j9vsJzVeVlLqqd0vDJGRkfz888+0adOG1157jePHj1OrVi0OHz7MRx99xNKlS7HZbMyaNYts2bJRtmxZAGbMmEGdOnVo3rw558+ftzIVpVIVLQ4qXXBycmLHjh1MmTKF3377jWLFijFixAjs7OwYMWIEhw4donjx4rz77rtUrVqVoKAgIG4MY+TIkaxduxZ3d3cmT55MTEyMxdkolQokdhtTWmp6K6t60Pnz56VFixbi6uoqp06dSng/NjZWvvnmG8mePbs4ODjIhx9+KHfv3hURkePHj0udOnUSFvlTKiPgMbey6piDSrfOnDlDwYIFEREmTpxIu3btyJEjB2FhYfTr14958+ZRuHBhpk6dSp06dRARli5dStGiRSldujQ3btzA3t6eLFmyWJ2KUslCxxxUhlSwYEEAjhw5Qv/+/bHZbMyfP5+cOXMyd+5cfvnlFxwcHPD19eXNN9/kzz//pFWrVn9byM/Dw4NVq1ZZmIVS1tDioNK9EiVKEBAQQJEiRXj77bepWbMmR48epXr16hw+fJjhw4ezcuVKbDYb06dPT7g1tnPnzmTPnp0mTZrQuHFjzpw5Y3EmSqWgxK43paWmYw7qacTExMj06dMlW7ZsUqhQob9tLHT06FGpUaOGAFKhQgU5dOiQiIhERkbK2LFjxdXVVZ555hlZs2aNVeErleRIY8tnKJUs7Ozs8PPzIzQ0lG+//RYHBweioqLYsWMHr7zyCps3b2b+/PkcP36cMmXKMGDAACIjI+nbty9BQUHUq1ePUqVKAegEOpXuaXFQGc5zzz1HxYoVgbh5DlWqVKFdu3aEhYXRtm1bQkNDad++PWPGjMHT05O1a9dSqFAhli1bRv78+RERfH196d69Ozdv3rQ4G6WShxYHlaF17NiRwYMHs2TJEtzd3Zk9ezbPPvsss2bNYtu2bbi6utKgQQNatGjBhQsXgLgJdx4eHkyZMgV3d3dWrFhxfwVhpdKPxK433W9AVuClR7xf4knnplTTMQf1XwUHB0uVKlUEkC5duiS8HxERISNHjhRnZ2fJkiWLTJ48WaKjo0VEZO/evVKqVCkBpF69eglLhCuVVvBvxxyMMS2BUOA7Y0yQMabcA4fnJkexUsoK7u7ubN26ldmzZ/POO+8AcOvWLWJiYvjwww8JDAykYsWKdO/enQoVKnDgwAG8vb3Zt28f48eP59SpUzzzzDMWZ6FUEkqsasQVFQ7y/1t2ehNXKJrGvz7wuHNTsmnPQSUHPz8/KVy4sGzcuFFE4mZYf/vtt/Lcc8+JnZ2d9OrVS27duiUiktCbCA8Pl2bNmsnu3bsti1upp8V/uFvJXv5/y87fgOrAYGPMB4BeZFXp2htvvIGDgwN16tShdevW/Pnnn7z55puEhITw7rvvMmHCBDw8PPjhhx+wt7cH4OTJk+zduxcfHx/ee+89bty4YW0SSv1biVWNuKLCLv5nvAHIAvwMRDzu3JRs2nNQyeXevXsybNgwcXJykmzZssn69esTju3cuVOKFSsmgLz++uty5swZERH566+/pGfPnmJnZyfPPfecLF68OGHrUqVSE/5Dz+E9wPxPMbkF+AIdkrhOKZXqODs78/HHH3P48GEqVaqEzWYDIDY2Fh8fHwICAvj888/ZuHEjHh4eTJw4ERcXFyZMmMC+ffsoUKAA48aN061JVZrzjxbeM8ZkBRzuvxaRa8kR1D+lC++plCQiNGrUCE9PT4YOHYqrqyt//PEH3bp1Y926dZQuXZqZM2fi5eVFTEwMYWFhPP/881y5coU5c+bQo0cPnJycrE5Dqf++8J4xxs8Y8ydwGNgf3/SvscqQIiMjyZ07N59//jmenp6sX7+eF198kR9//JHly5dz6dIlypcvT48ePbhz5w7PP/88AMuWLaN///6ULl2aHTt2WJyFUk+Q2PWmBxtwDMj5ND9rRdMxB2WFX3/9VWw2mwDSokULuXz5soiI3LhxQ7p27SrGGMmbN6989913CWMOa9askYIFCybsG3H16lUrU1AZHP91PwdjzAbibmG9m5yF6t/Sy0rKKhEREYwdO5Y5c+YQEBCAm5tbwrHffvuNzp07c+jQIRo0aMBXX33FCy+8wJ07dxg2bBgTJkygXbt2fPPNN0/1u1YdOM/YjUc5f+Mehqe7XTBfNhf61SnK66Xz/bsEVbr2uMtKT1scSgNzgL1AxP33ReSDpAryv9DioKwWGRmJk5MTUVFRdOrUiV69elGqVCmio6OZNGkSQ4YMAWD48OH06NEDR0dHDh06RM6cOcmXLx8nTpwgNjaWoNuuCQUgqbg42jO6aXEtEOohSbHZzwzgF2AP/z/msD9pwlMq7bs/wPz777+zYcMGvLy86NOnD+Hh4fTu3Zsl7w+gangk/fr1o5yTE3uMoWDFKuz8YgGlP9lEcd82vOLuSfsPBnDuyl9JGtu9qBjGbjyapJ+p0r+n7TnsEhGfFIjnwd/pC3wJ2AOzROSzxH5Wew4qNbl+/ToDBw5k5syZFAAmA43ij60CugMXiLtPfCTgBlwEegLLAYfs+clRpyvOBYsD0ChoC/23zSfvX1e4kDUnY6q2Y7Vn9X8UkwH++Kz+f85NpS9JcVlpJHAaWMPfLysly62sxhh74HegNnAO2Ae8KSLBj/p5LQ4qtYk1hl1AF+Lu/d5P3LccgFvAEOKKRm7ivgG1IO4P+HrgbScXwiLvkbNhP96UWD7b8BWu0Qn/23HXIRMDfbv94wJxSouD+h9JcVmpNTCIuBnTKXErqzdwXEROikgksARonIy/T6kkZYDKQABx36jsgevAFMAFmAj8BuQF3gDqAX8AdYHjkeFkq9IWl5e96b9tPn9FR/xt8Nk1OoL+2+anWC4qY3qq4iAiLz6iFU7GuPIBZx94fS7+vQTGmM7GGH9jjH9YWFgyhqLUv+cEFIh/vhDoBpQn7ttVWeLu8JgI7AA8gc8AZwQ3nzewc3Ihx19hVCNuUbPQBz43719XUiR+lXE9acnuGvGPTR/VkjEu84j3/nb9S0RmioiXiHjlypUrGUNRKml0A5YSN97gDfQA7sY/hhC3Js0goAwQfi4EgLAsOekDHAJKAEOBcOBC1pwpHL3KaJ7Uc6ga/9gQaPCIx+Ryjv//wgWQn7j/p5RKE4SH5yEYoCVxhaALcWMOPeKP5QdWAj8Alxyd+XNRP65u+IpPK75BG4dMhMafOwIohuEjr9f/UTzO9o/6vqVU4hyecPyWMaY3EEjcf+v3/wtL7uW69wFFjDEvAueBVsSNeyiVJtiJEGse/QfZDfgKaAs8T9z/TGeAGAy3y9bDtWp7onZ8y1/+PzDbJSuni9dk1vHfmH/rKvVds/JxtufZUrZB3ES42BiMnf0jf899zvaG0JH1kjQ/lf49qThkjn8sCpQj7ouNIa7nsC25ghKRaGNMN2AjcWN534hIUHL9PqWSg90T7gSs8MDznk2a8NNPPzH8zeqc7PE6Dg7NOXjwIH5+fmz6bR0datVi2rRpvPnyy7wZf86VK1eoVKkS/fr1o0OHDtjZ6ZbwKgkltq7Ggw3YBGR54HUWYMPTnJsSTddWUmndqVOnpH79+gJIqVKlZO/evSISt8PclClTJGvWrJIpUyYZMWKEhIeHJ5xTtWpVAaRSpUoSGBhoZQoqDeIxays9bXEIBTI98DoTEPo056ZE0+Kg0oPY2FhZsWKF5M2bV4wxsmzZsoRj58+fl5YtWwogNptNtm7dmnDON998I9mzZxcHBwcZNGhQwpalSj3J44rD0/ZDFwC/GWOGGWM+Ju4OvHlJ1n1RSmGMoVmzZoSEhDBw4EBee+01AK5du0aePHlYunQp69atIzw8nGrVqtGhQweuXbvGO++8Q2hoKG3atOHo0aMJW5Yq9Z8kVjX+txF3h12P+Fb6ac9LiaY9B5VeRUZGSrFixaRevXryxx9/iIjInTt3ZMCAAeLg4CA5c+aUuXPnJiwJHhkZKSIioaGh8tZbb8nFixetCl2lASRBzwERCRCRL+PbgeQpVUqpB9nZ2dGpUye2bduGh4cHY8aMwdHRkc8++4yAgACKFClC+/btqVGjBkePHsXR0REAf39/li1bhs1mY/r06bpNqfrnEqsaaalpz0Gld2fPnpUmTZoIIMWLF5czZ86IiEhMTIxMnz5dsmXLJk5OTvLxxx/LvXv3RETk6NGjUqNGDQGkQoUKcujQIStTUKkQSdFzUEpZJ3/+/KxcuZIffviBF154IWHrUWMMfn5+hIaG0rx5c4YPH07JkiXZsmULr7zyCps3b2b+/PkcP36cefN0mFA9vadalTW101VZVUZ048YNqlWrxoABA2jVqhXGGDZt2sT777/PiRMnaNeuHV988QW5cuXi6tWrZMqUicyZM7Nz505u3rxJvXo6MS6jS4pVWZVSqcy1a9dwcnKidevW1KlThxMnTvDaa69x5MgRBg8ezOLFi7HZbHzzzTdkz56dzJnj5rSOGzeO+vXr06JFCy5c0FVpVCISu96UlpqOOaiMKjo6WiZPnixZsmQRZ2dn+fTTTxPmOQQFBUmVKlUEkCpVqkhQUJCIiERERMjIkSPF2dlZsmTJIpMnT9a5ERkUOuagVPpkb29Pt27dCAkJoUGDBuzevTthGQ0PDw+2bt3K7NmzCQoKolSpUnz00UfExMTw4YcfEhgYSIUKFejevTuLFy+2OBOV6iRWNdJS056DUnHu36l04sQJ8fPzk6tXr4qIyOXLl6Vdu3YCyEsvvSSbNm0SkbgZ1qtXr07oOezdu1du3bplTfAqxaE9B6UyBmdnZwC2bdvGrFmzsNlsLFiwgJw5czJv3jx+/vln7O3tee2112jdujV//vknDRs2xN7ennv37tGgQQM8PDxYvXq1xZkoq2lxUCodat++PQEBAbz00ku0a9eOWrVq8fvvv1OjRg0OHTrEsGHD+O6773B3d2fGjBnExsbi4uLCqlWrcHNzo3HjxjRp0oSzZ88++Zep9CmxLkVaanpZSalHi4mJkWnTpombm5t88MEHfzsWGhoq1atXF0AqVqwohw8fFpG4JTg+++wzcXFxkcyZM8upU6esCF2lAB5zWUnnOSiVAVy6dAlXV1eyZs3Kvn37uH37NtWrV0dEWLBgAb179+bmzZv06dOHoUOH4urqyh9//MHSpUsZOHAgAJcvXyZ37twWZ6KS0uPmOVj+rT8pmvYclHp6jRo1EkDefvttCQsLExGRK1euSIcOHQSQQoUKybp16/52ztGjR8XFxUW6d+8uN2/etCJslQzQAWml1H1Llizhww8/ZNGiRRQtWpQ5c+aQPXt2Zs+eza+//oqzszP16tWjZcuWCZPknnvuOTp06MBXX32Fu7s7K1euRNLBVQf1GIlVjbTUtOeg1D8XGBgolStXFkAWLFiQ8H54eLiMGDFCMmXKJFmzZpUpU6b87VbXkiVLCiCvv/66xMTEWBW+SgJoz0Ep9b88PT359ddfWbJkCW+88QYAhw4dIjY2lo8++ogjR47g7e1N165d8fHx4eDBg3h7e+Pv78+4ceMoXrx4woQ7XRI8/dHioFQGZmdnxxtvvIGjoyP37t2jTp06lChRgs2bN1OkSBE2bdrEwoULOXXqFF5eXvTt25fw8HB69+7NJ598AsDWrVspU6YMe/bssTgblZS0OCilAHBxcWHRokUYY6hduzZt2rQhLCyMNm3aEBISQocOHRg3bhyenp6sWbMm4byoqCiuXLmCj48P77//Pjdu3LAuCZV0ErvelJwNaAEEAbGA1/8cGwQcB44CdZ7m83TMQamkc+/ePRk6dKg4OjpKtmzZ/jbPYceOHeLp6SmANGnSRM6ePSsiIn/99Zf06NFD7Ozs5Pnnn5eVK1daFb76B0iFYw6BQFNg24NvGmM8gFaAJ+ALTDXG6G7pSqUgZ2dnhg8fzuHDh+nWrRsFCxYE4vaPqFSpEgEBAYwePZoNGzbg7u7Ol19+iaurKxMnTuS3334jb968nDt3zuIs1H+WWNVIiQZs5YGeA3G9hkEPvN4IVHzS52jPQankdeLECcmaNasMHDhQ7ty5k/Cer6+vAFKmTBnx9/cXEZGoqKiEu5sWLVoko0ePlsjISMtiV4kjFfYcEpMPeHAxl3Px7z3EGNPZGONvjPEPCwtLkeCUyqiyZs1K06ZN+eyzzyhWrBgbNmygcOHCrFu3jqVLl3LhwgW8vb3p0aMHd+/exd4+rsO/detWBg0aROnSpdm5c6fFWah/ItmKgzFmszEm8BGt8eNOe8R7j5xpIyIzRcRLRLxy5cqVNEErpR4pZ86czJkzhy1btuDk5ETdunVp3bo1IkLLli0JCQnBz8+PyZMn4+HhkTBJbubMmaxevZpbt25RuXJl/Pz8uH79utXpqKeQbMVBRGqJSLFHtB8ec9o5oMADr/MDuo+hUqlEtWrVOHToEMOHDydv3rwJ8xzc3NyYOnUqu3fvJkeOHDRr1ozGjRtz+vRpGjZsSFBQEH369GH27Nnag0grErvelBKNh8ccPIFDQCbgReAkYP+kz9ExB6Wss3PnTqlYsaIcPHhQROJWdR07dqy4urqKq6urfPHFFxIVFSUiceMU93377bdy7NgxS2JWcUhtYw7GmCbGmHNARWCtMWYjgIgEAcuAYGAD0FVEYqyIUSn1dK5fv87x48cpW7Ys/fr1IzIykr59+xIcHEyNGjXo27cvXl5e7N27l8KFCwNw9+5devToQbFixfj000+JiIiwOAv1kMSqRlpq2nNQylpXr16VTp06CSAFCxaUtWvXikjcNqTfffed5MuXT4wx0rVrV7lx44aIiJw/f15atGghgNhsNvn111+tTCFDIrX1HJRS6Uv27Nn5+uuv2b59O1myZCE4OBgAYwxNmzYlODiY7t27M23aNNzd3Vm+fDl58uRh2bJlrF27lvDwcGrUqKE7z6UiutmPUipJRUZGYmdnh4ODA9999x3nz5+na9eu2Nvb4+/vj5+fHwEBAdStW5cpU6bw4osvcvfuXbZs2UL9+vUB2LFjB5UqVcKYR93AqJLK4zb70Z6DUipJOTk54eDgAMDq1avp0aMH5cuXZ//+/QljDxMmTGD79u14enoyZswYHB0dEwrDb7/9RpUqVahRowZHjx61MpUMTYuDUirZzJ07lyVLlnD+/Hm8vb3p1asX9+7do2fPngQHB1OnTh0GDBhA2bJl2b17NwBeXl7MmDGDgwcPUqJECYYNG0Z4eLjFmWRAiQ1GpKWmA9JKpW7Xr1+X9957T4wxDy3Kt2rVKilQoIAA4ufnJ9euXRMRkUuXLknr1q0FkLJly+rGQsmAxwxI65iDUirFBAcH4+7ujjGGlStX4uXlRcGCBbl9+zYff/wxEydOJGfOnEycOJFWrVphjGHTpk1cvnyZt956CxHh+vXrZM+e3epU0gUdc1BKpQoeHh4YY7h79y6dO3fGw8OD8ePH4+zszLhx49i3bx8FCxakdevW+Pr6cuLECV577TXeeustAObPn0+RIkWYPXu27j6XzLQ4KKVSnKurK/7+/lSrVo0+ffpQrlw59u3bl7Cj3OTJk9m9ezfFihVj5MiRREZGAlCuXDk8PT3p1KkT1apVS7hlViWDxK43paWmYw5KpU2xsbGyYsUKyZs3rzg4OMjp06cTjp07d06aN28ugLi7u8u2bdtERCQmJkZmz54t2bNnF0dHR5kwYYJF0ad96CQ4pVRqZIyhWbNmhISEsHjx4oSNhQICAsibNy/Lly/nxx9/5O7du1StWpWOHTty/fp1OnToQGhoKG+++SYvvfQSEPdFVyUdLQ5KKctlzZqV5s2bA+Dv70/ZsmVp2LAhp06don79+gQFBdG/f3/mzZuHzWZj/vz55MyZk3nz5tGwYUMAPvnkE1q3bs2lS5esTCXd0OKglEpVSpUqxfjx49m6dSuenp6MHTsWJycnPv/8cwICAnj55Zd5++23qVWrFr///nvCeU5OTnz33Xe4u7szc+ZMHbD+rxK73pSWmo45KJX+nDlzRho3biyAVKxYMWGeQ0xMjEybNk3c3NzEyclJhg0bJuHh4SIiEhoaKtWqVRNAfHx8JDg42MoUUj10zEEpldYUKFCAVatW8f3339OhQwfs7OwQEe7cuUOXLl0IDQ2ladOmDBs2jJIlS7J161aKFi3KL7/8wrx58zhx4gT37t2zOo00S4uDUipVe/311+nUqRMAS5cu5ZVXXmHp0qU899xzLF68mA0bNhAVFUX16tVp3749V69epV27dpw6dYoyZcoAMGTIENavX29lGmmOFgelVJpRtGhR8uXLR6tWrahbty4nT56kTp06HDlyhEGDBrFo0SKKFi3KnDlzyJQpEwB37tzhu+++o169erzxxhtcvHjR4izSBi0OSqk0o3Tp0uzdu5dJkyaxa9cuPD09mTZtGq6urowaNYqDBw/i7u5Ohw4dqF69OqGhoTzzzDMcOHCAESNG8MMPP2Cz2ZgyZQoxMbrJ5ONocVBKpSn29vZ0796dkJAQ6tevT65cuYC4m2s8PT3Ztm0bX3/9NYcPH6ZEiRIMHToUEeGjjz4iMDAQb29vBg0axOXLly3OJHXThfeUUunC559/zvHjx/n888/Jnj07ly9fpk+fPixcuJCXX36ZadOmUatWLUSEY8eO8corryAiTJs2jXbt2pE5c2arU0hxuvCeUirdu3PnDnPmzMFms7Fw4UJy5crFggUL+OmnnwCoXbs2bdq04fLly7zyyisA7N69m65du+Lp6cmaNWusDD/V0eKglEoXPvnkE/bv30/hwoVp27YttWvX5vjx49SqVYsjR44wdOhQli9fjs1mS5gk5+Pjw44dO8iSJQuNGjWiWbNmnDt3zupUUgUtDkqpdKNkyZLs2rWLadOmERAQwNWrVwFwdnZm+PDhHD58mJIlS+Ln50eVKlUIDAykUqVKBAQEMHr0aNavX4+vr6+u04RFxcEYM9YYE2qMOWyM+d4Yk+2BY4OMMceNMUeNMXWsiE8plXbZ2dnRpUsXzpw5Q/ny5QEYNWoUv/76KzabjS1btjBnzhyOHj1K6dKlGTRoENHR0QwcOJDAwEBmzpyJMYaIiAgOHjxobTJWSmzqdHI24DXAIf7558Dn8c89gENAJuBF4ARg/6TP0+UzlFKJuXXrlrz00ksCSPv27SUsLExERMLCwqR9+/YCyIsvvijr1q3723mff/652NnZSY8ePeSvv/6yIvRkR2pbPkNENolIdPzLPUD++OeNgSUiEiEifwDHAW8rYlRKpQ+ZM2fm8OHDDBo0iIULF2Kz2Zg3bx45cuRgzpw5bNmyBScnp4cmyXXu3JkuXbowadIk3N3dWbVqlbWJpLDUMObQAbg/rz0fcPaBY+fi33uIMaazMcbfGOMfFhaWzCEqpdKy+5PkDhw4gM1m4/333+fChQsAVKtWjUOHDvHJJ58kTJKbNm0aWbNmZcqUKezevZscOXLQpEkTBg0aZHEmKSfZioMxZrMxJvARrfEDPzMYiAYW3X/rER/1yJEhEZkpIl4i4nV/EoxSSj1OsWLF2LZtG3v27CFfvnyICHPnzkVEGDJkCEeOHKFcuXK8//77+Pj4cOjQIcqXL4+/vz9jx46lRYsWANy6dYvo6Ogn/LY0LrHrTcndgLeB3YDrA+8NAgY98HojUPFJn6VjDkqpf2Pnzp0CSJEiRWTz5s0iErd16cKFCyVXrlxib28vffv2ldu3b//tvPbt20upUqVk7969VoSdZEhtYw7GGF9gANBIRO4+cGg10MoYk8kY8yJQBPjNihiVUumfj48PmzZtQkSoVasWbdu2JSwsjDZt2hAaGkqHDh344osv8PDw4Mcff0w4r2HDhoSFhVGhQgW6du3KzZs3LcwimSRWNZKzETfQfBY4GN+mP3BsMHF3KR0F6j7N52nPQSn1X9y7d0+GDBkijo6OUqxYMYmNjU04tn37dvHw8BBAmjVrJufOnRMRkZs3b8oHH3wgdnZ2kidPHtm+fbtV4f9rPKbnYNllpaRsWhyUUkkhODhYfvnlFxERiYyMlJCQEBERiYiIkJEjR4qzs7NkyZJFJk2aJNHR0SIism/fPnn11Vfl7NmzIiJ/Kyyp3eOKQ2q4W0kppVIFd3d3qlevDsCkSZMoXrw4gwcPJiYmhg8//JDAwEB8fHz44IMPqFChAgEBAXh5ebF161by58+PiNCwYUM+//xzoqKiLM7mv9HioJRSj9CuXTvatGnDqFGjKFasGBs3buSll15i/fr1LF68mLNnz1KuXDl69erFrVu3gLjF/xwdHRk4cCBlypRh165dFmfx72lxUEqpR8iVKxdz587ll19+wcHBAV9fX4YOHYoxhlatWhEaGkrnzp2ZOHEiHh4erFq1isyZM/P999+zatUqbt68SaVKlejSpQt//fWX1en8Y1oclFLqMapXr87hw4cZPnw49evXB+DevXtkzZqVadOmsWvXLp599lmaNGnC66+/ztmzZ2ncuDHBwcH07t2bTZs2YWeX9v7Upr2IlVIqhWXKlImhQ4cmLOTXq1cvKleuzJEjR6hYsSL79+9nzJgxbNq0CXd3d8aPH4+zszPjxo0jKCiIzJkzExERgZ+fHydOnLA4m6ejxUEppf6hypUrc+zYMUqXLk3//v2JjIykX79+BAcH8+qrr9KnTx/KlSvHvn37cHFxAeDQoUMsXryYYsWKMWrUKCIjIy3O4gkSu40pLTW9lVUpldKuXLkiHTt2FEBeeOEF2b17t4jE3cq6fPlyyZs3rxhjpFu3bnLjxg0RETl37pw0b95cAPHw8JBt27ZZmYLeyqqUUkktR44czJo1i23btpE7d27y5MkDgDGG5s2bExISQrdu3ZgyZQoeHh6sWLGCvHnzsnz5cn788Ufu3LlDnz597k/+TXW0OCil1H9QpUoV9u7dywsvvICI8MYbb/DVV1/xzDPPMGnSJPbs2UPu3Llp0aIFDRs25NSpU9SvX5+goCCWLVuGMYYrV66waNGiVFUotDgopdR/ZEzcgtK3b9/m+vXrdO/enYoVK3LgwAG8vb3Zt28f48ePZ+vWrXh6ejJ27FicnJwoVKgQANOnT+ett96idu3a/P777xZm8oDErjelpaZjDkqp1CI2Nla+/fZbyZ07t9jZ2UmvXr3k1q1bIiJy+vRpady4sQBSvHhx2bVrl4iIxMTEyLRp08TNzU0yZcokw4cPl/Dw8GSPFV1bSSmlUta1a9fEz89P8uXLlzAgfd/3338v+fPnF2OMvPfee3L9+nUREbl48aK0atVKAOnevXuyx/i44mAkFV3j+re8vLzE39/f6jCUUuohf/31F1mzZiUqKor+/fvTu3dvChQowK1btxg6dCiTJk0id+7cTJw4kZYtW2KMYePGjXh6epI/f37OnDmDi4sLybGpmTFmv4h4PeqYjjkopVQyypo1KwABAQHMmDEDDw8PJk6ciIuLCxMmTGDfvn3ky5ePVq1aUbduXU6ePEmdOnXInz8/ELeXtc1m45tvvknRAWstDkoplQLKly9PUFAQVatWpVevXgnbj5YpU4a9e/cyadIkdu7ciaenJ6NHj06YJDdu3Djc3d3p2LEj1apVIyQkJGUCTux6U1pqOuaglEor7k+Sy5Mnj5QpU+Zv+z+cO3dOmjVrJoB4enombCAUExMjX3/9tTz77LPi6Ogo69atS5JY0ElwSimVOjw4SW7JkiUYY7h+/TqrVq0ib968rFixgjVr1nDr1i2qVKnCu+++y40bN+jUqROhoaG89957VKlSBSBZV3vV4qCUUhZwc3OjSJEiAHz11Vc0adKERo0acfr0aRo0aEBwcDB9+/Zlzpw52Gw2Fi5cSK5cufjyyy8TFvKrXLky58+fT5b4tDgopZTFBg0axLhx4/jll1/w8PDgiy++wMnJibFjx7J//34KFy5M27ZtqV27NseOHUs4b8KECeTLly9ZYtLioJRSFnNwcKB3796EhIRQs2ZN+vXrR79+/QAoWbIkO3fuZOrUqfj7+1O8eHFGjBgBQM2aNZMtJp3noJRSqYiIsGrVKsqUKcMLL7zAhQsXcHV1JVu2bFy8eJFevXqxdOlSihYtyowZM3j11Vf/9e9KdfMcjDEjjDGHjTEHjTGbjDF5Hzg2yBhz3Bhz1BhTx4r4lFLKKsYYmjRpwgsvvADEzXNwd3dn6dKlPP/88yxZsoT169cTGRlJtWrV6NmzZ7LEYdVlpbEiUkJESgE/AkMBjDEeQCvAE/AFphpj7C2KUSmlLDd8+HDy5s1Lq1atqFevHidPnsTX15fAwEAGDRqEu7t7svxeS4qDiDx4/9UzwP1rW42BJSISISJ/AMcB75SOTymlUouyZcuyd+9eJk6cyI4dO/D09GTTpk24uroyatQo/Pz8kuX3WjYgbYwZaYw5C7QhvucA5APOPvBj5+Lfe9T5nY0x/sYY/7CwsOQNVimlLOTg4ECPHj0ICQmhTZs2CXtZ37t3L9l+Z7IVB2PMZmNM4CNaYwARGSwiBYBFQLf7pz3iox45Yi4iM0XES0S8kmNBKqWUSm3y58/PrFmzcHNzIyoqKlnnOTgky6cCIlLrKX/0W2At8DFxPYUCDxzLD1xI4tCUUirNi46OZtiwYelrnoMxpsgDLxsBofHPVwOtjDGZjDEvAkWA31I6PqWUSu1cXFxo2LBhsn1+svUcnuAzY0xRIBY4DXQBEJEgY8wyIBiIBrqKSIxFMSqlVIZlSXEQkWaPOTYSGJmC4SillPofunyGUkqph2hxUEop9RAtDkoppR6ixUEppdRDtDgopZR6iBYHpZRSD0kX+zkYY8KImy+R1uQErlgdRArTnDOGjJZzWs33BRF55PpD6aI4pFXGGP/ENtpIrzTnjCGj5Zwe89XLSkoppR6ixUEppdRDtDhYa6bVAVhAc84YMlrO6S5fHXNQSin1EO05KKWUeogWB6WUUg/R4pBKGGP6GmPEGJPT6liSmzFmrDEm1Bhz2BjzvTEmm9UxJQdjjK8x5qgx5rgxZqDV8SQ3Y0wBY8wWY0yIMSbIGNPD6phSijHG3hhzwBjzo9WxJBUtDqmAMaYAUBs4Y3UsKeQnoJiIlAB+BwZZHE+SM8bYA1OAuoAH8KYxxsPaqJJdNNBHRNyBCkDXDJDzfT2AEKuDSEpaHFKHCUB/IEPcHSAim0QkOv7lHuL2Ck9vvIHjInJSRCKBJUBji2NKViJyUUQC4p/fIu6PZfJscJyKGGPyA/WBWVbHkpS0OFjMGNMIOC8ih6yOxSIdgPVWB5EM8gFnH3h9jgzwh/I+Y0whoDSw1+JQUsJE4r7cxVocR5Kyag/pDMUYsxl4/hGHBgMfAq+lbETJ73E5i8gP8T8zmLhLEYtSMrYUYh7xXoboGRpjMgPfAT1F5C+r40lOxpgGwGUR2W+MqWZxOElKi0MKEJFaj3rfGFMceBE4ZIyBuMsrAcYYbxG5lIIhJrnEcr7PGPM20ACoKelzss05oMADr/MDFyyKJcUYYxyJKwyLRGSl1fGkgEpAI2NMPcAZyGqMWSgib1kc13+mk+BSEWPMKcBLRNLi6o5PzRjjC4wHXhWRMKvjSQ7GGAfiBttrAueBfUBrEQmyNLBkZOK+4cwDrolIT4vDSXHxPYe+ItLA4lCShI45KCt8BWQBfjLGHDTGTLc6oKQWP+DeDdhI3MDssvRcGOJVAtoCNeL/vR6M/0at0iDtOSillHqI9hyUUko9RIuDUkqph2hxUEop9RAtDkoppR6ixUEppdRDdBKcUv+RMWYYcBvICmwTkc3/4NwNxC1StyO93B+v0gctDkolEREZ+i9OGwu4An5JHI5S/4leVlLqXzDGDI7fq2EzUDT+vbnGmObxz08ZY0YZY3YbY/yNMWWMMRuNMSeMMV3uf46I/AzcsiYLpRKnPQel/iFjTFmgFXGrjjoAAcD+R/zoWRGpaIyZAMwlbgaxMxAEpLtZ4Sp90eKg1D9XBfheRO4CGGNWJ/Jz998/AmSO3+PgljEm3BiTTURuJH+oSv07ellJqX/nadadiYh/jH3g+f3X+sVMpWpaHJT657YBTYwxLsaYLEBDqwNSKqnptxel/iERCTDGLAUOAqeB7f/2s4wx2wEbkNkYcw7oKCIbkyRQpf4DXZVVKaXUQ/SyklJKqYdocVBKKfUQLQ5KKaUeosVBKaXUQ7Q4KKWUeogWB6WUUg/R4qCUUuoh/we4bD0Q2Q637AAAAABJRU5ErkJggg==\n",
>>>>>>> ff8ace43b69c7b0cda6797c3e38a89c1ace0068a
      "text/plain": [
       "<Figure size 432x288 with 1 Axes>"
      ]
     },
     "metadata": {
      "needs_background": "light"
     },
     "output_type": "display_data"
    }
   ],
   "source": [
    "import numpy as np\n",
    "# get the separating hyperplane\n",
    "w = SVM.coef_[0]\n",
    "a = -w[0] / w[1]\n",
    "xx = np.linspace(-5, 5)\n",
    "yy = a * xx - (SVM.intercept_[0]) / w[1]\n",
    "\n",
    "margin = 1 / np.sqrt(np.sum(SVM.coef_ ** 2))\n",
    "yy_down = yy - np.sqrt(1 + a ** 2) * margin\n",
    "yy_up = yy + np.sqrt(1 + a ** 2) * margin\n",
    "\n",
    "plt.clf()\n",
    "plt.plot(xx, yy, 'k-')\n",
    "plt.plot(xx, yy_down, 'k--')\n",
    "plt.plot(xx, yy_up, 'k--')\n",
    "\n",
    "support_vectors = SVM.support_vectors_\n",
    "plt.scatter(X_train_scaled[:,0], X_train_scaled[:,1])\n",
    "plt.scatter(support_vectors[:,0], support_vectors[:,1], color='red')\n",
    "# plt.title('Linearly separable data with support vectors')\n",
    "plt.xlabel('dim1')\n",
    "plt.ylabel('dim2')\n",
    "\n",
    "plt.axis('tight')\n",
    "\n",
    "print(f'Number of support vectors: {len(support_vectors)}')"
   ]
  },
  {
   "cell_type": "code",
<<<<<<< HEAD
   "execution_count": 34,
=======
   "execution_count": 24,
>>>>>>> ff8ace43b69c7b0cda6797c3e38a89c1ace0068a
   "metadata": {},
   "outputs": [],
   "source": [
    "pickle.dump(SVM, open('../models/SVMw2021.sav', 'wb'))"
   ]
  },
  {
   "cell_type": "code",
<<<<<<< HEAD
   "execution_count": 35,
=======
   "execution_count": 25,
>>>>>>> ff8ace43b69c7b0cda6797c3e38a89c1ace0068a
   "metadata": {},
   "outputs": [],
   "source": [
    "from sklearn.ensemble import RandomForestClassifier"
   ]
  },
  {
   "cell_type": "code",
<<<<<<< HEAD
   "execution_count": 36,
=======
   "execution_count": 26,
>>>>>>> ff8ace43b69c7b0cda6797c3e38a89c1ace0068a
   "metadata": {},
   "outputs": [],
   "source": [
    "rf = RandomForestClassifier(n_estimators=200)"
   ]
  },
  {
   "cell_type": "code",
<<<<<<< HEAD
   "execution_count": 37,
=======
   "execution_count": 27,
>>>>>>> ff8ace43b69c7b0cda6797c3e38a89c1ace0068a
   "metadata": {},
   "outputs": [
    {
     "data": {
      "text/plain": [
<<<<<<< HEAD
       "0.999746063991874"
      ]
     },
     "execution_count": 37,
=======
       "1.0"
      ]
     },
     "execution_count": 27,
>>>>>>> ff8ace43b69c7b0cda6797c3e38a89c1ace0068a
     "metadata": {},
     "output_type": "execute_result"
    }
   ],
   "source": [
    "rf.fit(X_train_scaled, y_train)\n",
    "rf.score(X_test_scaled, y_test)"
   ]
  },
  {
   "cell_type": "code",
<<<<<<< HEAD
   "execution_count": 39,
=======
   "execution_count": 28,
   "metadata": {},
   "outputs": [
    {
     "data": {
      "text/plain": [
       "array([[0.        , 0.        , 0.        , ..., 0.68628329, 0.3430375 ,\n",
       "        0.8       ],\n",
       "       [0.        , 0.        , 0.        , ..., 0.62697074, 0.34241717,\n",
       "        0.8       ],\n",
       "       [0.        , 0.        , 0.        , ..., 0.63687109, 0.52832901,\n",
       "        0.8       ],\n",
       "       ...,\n",
       "       [0.        , 0.        , 0.        , ..., 0.62200067, 0.29145604,\n",
       "        0.8       ],\n",
       "       [0.        , 0.        , 0.        , ..., 0.64150784, 0.32447834,\n",
       "        0.8       ],\n",
       "       [0.        , 0.        , 0.        , ..., 0.73680492, 0.22579165,\n",
       "        0.8       ]])"
      ]
     },
     "execution_count": 28,
     "metadata": {},
     "output_type": "execute_result"
    }
   ],
   "source": [
    "X_train_scaled"
   ]
  },
  {
   "cell_type": "code",
   "execution_count": 29,
>>>>>>> ff8ace43b69c7b0cda6797c3e38a89c1ace0068a
   "metadata": {},
   "outputs": [
    {
     "data": {
      "text/plain": [
<<<<<<< HEAD
       "array([4.11686397e-01, 3.56336105e-02, 2.25366224e-01, 2.81160045e-01,\n",
       "       5.52584652e-03, 5.81944144e-03, 8.83835534e-04, 3.55725310e-03,\n",
       "       4.88585638e-04, 6.67124589e-03, 2.20118047e-03, 2.31384031e-03,\n",
       "       4.22776183e-03, 2.99617457e-03, 3.78946844e-03, 7.29659410e-03,\n",
       "       3.82495108e-04])"
      ]
     },
     "execution_count": 39,
=======
       "array([3.91349629e-01, 4.34768528e-02, 2.61439776e-01, 2.54907575e-01,\n",
       "       9.88335139e-03, 2.37696286e-03, 1.09362998e-03, 4.24504823e-03,\n",
       "       2.48992598e-04, 4.02145750e-03, 6.11370905e-03, 4.92750220e-03,\n",
       "       2.14444618e-03, 4.13071576e-03, 3.67818892e-03, 5.66221010e-03,\n",
       "       2.99952073e-04])"
      ]
     },
     "execution_count": 29,
>>>>>>> ff8ace43b69c7b0cda6797c3e38a89c1ace0068a
     "metadata": {},
     "output_type": "execute_result"
    }
   ],
   "source": [
    "importances = rf.feature_importances_\n",
    "importances"
   ]
  },
  {
   "cell_type": "code",
<<<<<<< HEAD
   "execution_count": 40,
=======
   "execution_count": 30,
>>>>>>> ff8ace43b69c7b0cda6797c3e38a89c1ace0068a
   "metadata": {},
   "outputs": [],
   "source": [
    "feature_cols = bb_feature_num.loc[:, bb_feature_num.columns != 'hitTF'].columns"
   ]
  },
  {
   "cell_type": "code",
<<<<<<< HEAD
   "execution_count": 41,
=======
   "execution_count": 31,
>>>>>>> ff8ace43b69c7b0cda6797c3e38a89c1ace0068a
   "metadata": {},
   "outputs": [],
   "source": [
    "feature_impt = {\n",
    "    'feats':feature_cols,\n",
    "    'importance': importances\n",
    "}"
   ]
  },
  {
   "cell_type": "code",
<<<<<<< HEAD
   "execution_count": 42,
=======
   "execution_count": 32,
>>>>>>> ff8ace43b69c7b0cda6797c3e38a89c1ace0068a
   "metadata": {},
   "outputs": [
    {
     "data": {
<<<<<<< HEAD
      "image/png": "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\n",
=======
      "image/png": "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\n",
>>>>>>> ff8ace43b69c7b0cda6797c3e38a89c1ace0068a
      "text/plain": [
       "<Figure size 432x288 with 1 Axes>"
      ]
     },
     "metadata": {
      "needs_background": "light"
     },
     "output_type": "display_data"
    }
   ],
   "source": [
    "plt.bar(x=feature_impt['feats'], height=feature_impt['importance'], color='purple')\n",
    "plt.xticks(rotation=90)\n",
    "plt.title('Feature Importance')\n",
    "plt.ylabel('Importance');\n",
    "plt.savefig('../data/feature_importanceW2021.png', dpi=400, bbox_inches='tight');"
   ]
  },
  {
   "cell_type": "code",
<<<<<<< HEAD
   "execution_count": 43,
=======
   "execution_count": 34,
>>>>>>> ff8ace43b69c7b0cda6797c3e38a89c1ace0068a
   "metadata": {},
   "outputs": [
    {
     "ename": "FileNotFoundError",
     "evalue": "[Errno 2] No such file or directory: '../../models/rfW2021.sav'",
     "output_type": "error",
     "traceback": [
      "\u001b[0;31m---------------------------------------------------------------------------\u001b[0m",
      "\u001b[0;31mFileNotFoundError\u001b[0m                         Traceback (most recent call last)",
      "\u001b[0;32m<ipython-input-43-57de24c63edc>\u001b[0m in \u001b[0;36m<module>\u001b[0;34m\u001b[0m\n\u001b[0;32m----> 1\u001b[0;31m \u001b[0mpickle\u001b[0m\u001b[0;34m.\u001b[0m\u001b[0mdump\u001b[0m\u001b[0;34m(\u001b[0m\u001b[0mrf\u001b[0m\u001b[0;34m,\u001b[0m \u001b[0mopen\u001b[0m\u001b[0;34m(\u001b[0m\u001b[0;34m'../../models/rfW2021.sav'\u001b[0m\u001b[0;34m,\u001b[0m \u001b[0;34m'wb'\u001b[0m\u001b[0;34m)\u001b[0m\u001b[0;34m)\u001b[0m\u001b[0;34m\u001b[0m\u001b[0;34m\u001b[0m\u001b[0m\n\u001b[0m",
      "\u001b[0;31mFileNotFoundError\u001b[0m: [Errno 2] No such file or directory: '../../models/rfW2021.sav'"
     ]
    }
   ],
   "source": [
    "pickle.dump(rf, open('../models/rfW2021.sav', 'wb'))"
   ]
  },
  {
   "cell_type": "code",
   "execution_count": null,
   "metadata": {},
   "outputs": [],
   "source": []
  }
 ],
 "metadata": {
  "kernelspec": {
   "display_name": "Python 3",
   "language": "python",
   "name": "python3"
  },
  "language_info": {
   "codemirror_mode": {
    "name": "ipython",
    "version": 3
   },
   "file_extension": ".py",
   "mimetype": "text/x-python",
   "name": "python",
   "nbconvert_exporter": "python",
   "pygments_lexer": "ipython3",
   "version": "3.8.5"
  }
 },
 "nbformat": 4,
 "nbformat_minor": 4
}
