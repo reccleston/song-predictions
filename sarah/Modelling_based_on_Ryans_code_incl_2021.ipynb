{
 "cells": [
  {
   "cell_type": "code",
   "execution_count": 1,
   "metadata": {},
   "outputs": [],
   "source": [
    "# imports\n",
    "import pandas as pd\n",
    "import time\n",
    "import pickle\n",
    "import matplotlib.pyplot as plt\n",
    "from sklearn.model_selection import train_test_split\n",
    "from sklearn.preprocessing import MinMaxScaler\n",
    "from sklearn.linear_model import LogisticRegression\n",
    "from sklearn.metrics import classification_report, confusion_matrix"
   ]
  },
  {
   "cell_type": "code",
   "execution_count": 2,
   "metadata": {},
   "outputs": [
    {
     "data": {
      "text/html": [
       "<div>\n",
       "<style scoped>\n",
       "    .dataframe tbody tr th:only-of-type {\n",
       "        vertical-align: middle;\n",
       "    }\n",
       "\n",
       "    .dataframe tbody tr th {\n",
       "        vertical-align: top;\n",
       "    }\n",
       "\n",
       "    .dataframe thead th {\n",
       "        text-align: right;\n",
       "    }\n",
       "</style>\n",
       "<table border=\"1\" class=\"dataframe\">\n",
       "  <thead>\n",
       "    <tr style=\"text-align: right;\">\n",
       "      <th></th>\n",
       "      <th>song</th>\n",
       "      <th>performer</th>\n",
       "      <th>chart_position</th>\n",
       "      <th>previous_position</th>\n",
       "      <th>peak</th>\n",
       "      <th>weeks_on_chart</th>\n",
       "      <th>hitTF</th>\n",
       "      <th>id</th>\n",
       "      <th>danceability</th>\n",
       "      <th>energy</th>\n",
       "      <th>...</th>\n",
       "      <th>loudness</th>\n",
       "      <th>mode</th>\n",
       "      <th>speechiness</th>\n",
       "      <th>acousticness</th>\n",
       "      <th>instrumentalness</th>\n",
       "      <th>liveness</th>\n",
       "      <th>valence</th>\n",
       "      <th>tempo</th>\n",
       "      <th>duration_ms</th>\n",
       "      <th>time_signature</th>\n",
       "    </tr>\n",
       "  </thead>\n",
       "  <tbody>\n",
       "    <tr>\n",
       "      <th>0</th>\n",
       "      <td>Dance Monkey</td>\n",
       "      <td>Tones And I</td>\n",
       "      <td>11.0</td>\n",
       "      <td>19.0</td>\n",
       "      <td>11.0</td>\n",
       "      <td>8.0</td>\n",
       "      <td>1.0</td>\n",
       "      <td>2XU0oxnq2qxCpomAAuJY8K</td>\n",
       "      <td>0.824</td>\n",
       "      <td>0.588</td>\n",
       "      <td>...</td>\n",
       "      <td>-6.400</td>\n",
       "      <td>0.0</td>\n",
       "      <td>0.0924</td>\n",
       "      <td>0.6920</td>\n",
       "      <td>0.000104</td>\n",
       "      <td>0.149</td>\n",
       "      <td>0.513</td>\n",
       "      <td>98.027</td>\n",
       "      <td>209438.0</td>\n",
       "      <td>4.0</td>\n",
       "    </tr>\n",
       "    <tr>\n",
       "      <th>1</th>\n",
       "      <td>Mine</td>\n",
       "      <td>Bazzi</td>\n",
       "      <td>56.0</td>\n",
       "      <td>0.0</td>\n",
       "      <td>56.0</td>\n",
       "      <td>1.0</td>\n",
       "      <td>1.0</td>\n",
       "      <td>7uzmGiiJyRfuViKKK3lVmR</td>\n",
       "      <td>0.710</td>\n",
       "      <td>0.789</td>\n",
       "      <td>...</td>\n",
       "      <td>-3.874</td>\n",
       "      <td>1.0</td>\n",
       "      <td>0.0722</td>\n",
       "      <td>0.0161</td>\n",
       "      <td>0.000003</td>\n",
       "      <td>0.451</td>\n",
       "      <td>0.717</td>\n",
       "      <td>142.929</td>\n",
       "      <td>131064.0</td>\n",
       "      <td>4.0</td>\n",
       "    </tr>\n",
       "    <tr>\n",
       "      <th>2</th>\n",
       "      <td>Final Fantasy</td>\n",
       "      <td>Drake</td>\n",
       "      <td>56.0</td>\n",
       "      <td>0.0</td>\n",
       "      <td>56.0</td>\n",
       "      <td>1.0</td>\n",
       "      <td>1.0</td>\n",
       "      <td>44Du2IM1bGY7dicmLfXbUs</td>\n",
       "      <td>0.500</td>\n",
       "      <td>0.449</td>\n",
       "      <td>...</td>\n",
       "      <td>-10.977</td>\n",
       "      <td>1.0</td>\n",
       "      <td>0.4420</td>\n",
       "      <td>0.4220</td>\n",
       "      <td>0.000008</td>\n",
       "      <td>0.115</td>\n",
       "      <td>0.104</td>\n",
       "      <td>144.206</td>\n",
       "      <td>219960.0</td>\n",
       "      <td>1.0</td>\n",
       "    </tr>\n",
       "    <tr>\n",
       "      <th>3</th>\n",
       "      <td>Hear Me Calling</td>\n",
       "      <td>Juice WRLD</td>\n",
       "      <td>56.0</td>\n",
       "      <td>0.0</td>\n",
       "      <td>56.0</td>\n",
       "      <td>1.0</td>\n",
       "      <td>1.0</td>\n",
       "      <td>13ZyrkCDmRz5xY3seuAWYk</td>\n",
       "      <td>0.699</td>\n",
       "      <td>0.687</td>\n",
       "      <td>...</td>\n",
       "      <td>-3.997</td>\n",
       "      <td>0.0</td>\n",
       "      <td>0.1060</td>\n",
       "      <td>0.3080</td>\n",
       "      <td>0.000036</td>\n",
       "      <td>0.121</td>\n",
       "      <td>0.499</td>\n",
       "      <td>88.932</td>\n",
       "      <td>189977.0</td>\n",
       "      <td>4.0</td>\n",
       "    </tr>\n",
       "    <tr>\n",
       "      <th>4</th>\n",
       "      <td>Liar</td>\n",
       "      <td>Camila Cabello</td>\n",
       "      <td>56.0</td>\n",
       "      <td>0.0</td>\n",
       "      <td>56.0</td>\n",
       "      <td>1.0</td>\n",
       "      <td>1.0</td>\n",
       "      <td>7LzouaWGFCy4tkXDOOnEyM</td>\n",
       "      <td>0.740</td>\n",
       "      <td>0.498</td>\n",
       "      <td>...</td>\n",
       "      <td>-6.684</td>\n",
       "      <td>0.0</td>\n",
       "      <td>0.0456</td>\n",
       "      <td>0.0169</td>\n",
       "      <td>0.002820</td>\n",
       "      <td>0.319</td>\n",
       "      <td>0.652</td>\n",
       "      <td>98.016</td>\n",
       "      <td>207039.0</td>\n",
       "      <td>4.0</td>\n",
       "    </tr>\n",
       "  </tbody>\n",
       "</table>\n",
       "<p>5 rows × 21 columns</p>\n",
       "</div>"
      ],
      "text/plain": [
       "              song       performer  chart_position  previous_position  peak  \\\n",
       "0     Dance Monkey     Tones And I            11.0               19.0  11.0   \n",
       "1             Mine           Bazzi            56.0                0.0  56.0   \n",
       "2    Final Fantasy           Drake            56.0                0.0  56.0   \n",
       "3  Hear Me Calling      Juice WRLD            56.0                0.0  56.0   \n",
       "4             Liar  Camila Cabello            56.0                0.0  56.0   \n",
       "\n",
       "   weeks_on_chart  hitTF                      id  danceability  energy  ...  \\\n",
       "0             8.0    1.0  2XU0oxnq2qxCpomAAuJY8K         0.824   0.588  ...   \n",
       "1             1.0    1.0  7uzmGiiJyRfuViKKK3lVmR         0.710   0.789  ...   \n",
       "2             1.0    1.0  44Du2IM1bGY7dicmLfXbUs         0.500   0.449  ...   \n",
       "3             1.0    1.0  13ZyrkCDmRz5xY3seuAWYk         0.699   0.687  ...   \n",
       "4             1.0    1.0  7LzouaWGFCy4tkXDOOnEyM         0.740   0.498  ...   \n",
       "\n",
       "   loudness  mode  speechiness  acousticness  instrumentalness  liveness  \\\n",
       "0    -6.400   0.0       0.0924        0.6920          0.000104     0.149   \n",
       "1    -3.874   1.0       0.0722        0.0161          0.000003     0.451   \n",
       "2   -10.977   1.0       0.4420        0.4220          0.000008     0.115   \n",
       "3    -3.997   0.0       0.1060        0.3080          0.000036     0.121   \n",
       "4    -6.684   0.0       0.0456        0.0169          0.002820     0.319   \n",
       "\n",
       "   valence    tempo  duration_ms  time_signature  \n",
       "0    0.513   98.027     209438.0             4.0  \n",
       "1    0.717  142.929     131064.0             4.0  \n",
       "2    0.104  144.206     219960.0             1.0  \n",
       "3    0.499   88.932     189977.0             4.0  \n",
       "4    0.652   98.016     207039.0             4.0  \n",
       "\n",
       "[5 rows x 21 columns]"
      ]
     },
     "execution_count": 2,
     "metadata": {},
     "output_type": "execute_result"
    }
   ],
   "source": [
    "# reading in final data csv\n",
    "finalDataSet = pd.read_csv('../data/finalDataSet2018to2021.csv')\n",
    "finalDataSet.head()"
   ]
  },
  {
   "cell_type": "code",
   "execution_count": 3,
   "metadata": {},
   "outputs": [
    {
     "data": {
      "text/plain": [
       "song                  object\n",
       "performer             object\n",
       "chart_position       float64\n",
       "previous_position    float64\n",
       "peak                 float64\n",
       "weeks_on_chart       float64\n",
       "hitTF                float64\n",
       "id                    object\n",
       "danceability         float64\n",
       "energy               float64\n",
       "key                  float64\n",
       "loudness             float64\n",
       "mode                 float64\n",
       "speechiness          float64\n",
       "acousticness         float64\n",
       "instrumentalness     float64\n",
       "liveness             float64\n",
       "valence              float64\n",
       "tempo                float64\n",
       "duration_ms          float64\n",
       "time_signature       float64\n",
       "dtype: object"
      ]
     },
     "execution_count": 3,
     "metadata": {},
     "output_type": "execute_result"
    }
   ],
   "source": [
    "# checking dtypes to make sure all numbers are numeric types\n",
    "finalDataSet.dtypes"
   ]
  },
  {
   "cell_type": "code",
   "execution_count": 4,
   "metadata": {},
   "outputs": [],
   "source": [
    "# getting the cols that will be features in the models\n",
    "bb_feature_num = finalDataSet.select_dtypes(['int', 'float'])"
   ]
  },
  {
   "cell_type": "code",
   "execution_count": 5,
   "metadata": {},
   "outputs": [],
   "source": [
    "# Logistic Regression model function\n",
    "def LogRegModel(X, y, size=None):\n",
    "#     splitting test and training datasets\n",
    "    X_train, X_test, y_train, y_test = train_test_split(X, y, test_size=size)\n",
    "    X_train, X_val, y_train, y_val = train_test_split(X_train, y_train, test_size=size + 0.05)\n",
    "#     fitting the scaler to the x_train dataset\n",
    "    X_scaler = MinMaxScaler().fit(X_train)\n",
    "# scaling the x train, test and values datasets\n",
    "    X_train_scaled = X_scaler.transform(X_train)\n",
    "    X_test_scaled = X_scaler.transform(X_test)\n",
    "    X_val_scaled = X_scaler.transform(X_val)\n",
    "    \n",
    "    LogReg = LogisticRegression()\n",
    "    \n",
    "    t = time.time()\n",
    "    LogReg.fit(X_train_scaled, y_train)\n",
    "    elapsed_time = time.time() - t\n",
    "#     print results of training and testing \n",
    "    print(f\"Training Data Score: {LogReg.score(X_train_scaled, y_train)}\")\n",
    "    print(f\"Testing Data Score: {LogReg.score(X_test_scaled, y_test)}\", '\\n')\n",
    "#     creating predictions\n",
    "    predictions = LogReg.predict(X_val_scaled)\n",
    "#     scoring predictions\n",
    "    print(classification_report(y_val, predictions, target_names=['not hit','hit']), '\\n')\n",
    "# saving model    \n",
    "    pickle.dump(LogReg, open('../models/LogRegW2021.sav', 'wb'))\n",
    "    return LogReg.score(X_train_scaled, y_train), LogReg.score(X_test_scaled, y_test)"
   ]
  },
  {
   "cell_type": "code",
   "execution_count": 6,
   "metadata": {},
   "outputs": [],
   "source": [
    "# setting the X and y values for input into the LogReg model\n",
    "# song numeric fields are x values\n",
    "X = bb_feature_num.loc[:, bb_feature_num.columns != 'hitTF'].values\n",
    "# whether it is a hit is the y value\n",
    "y = bb_feature_num['hitTF'].values"
   ]
  },
  {
   "cell_type": "code",
   "execution_count": 7,
   "metadata": {},
   "outputs": [
    {
     "name": "stdout",
     "output_type": "stream",
     "text": [
      "Training Data Score: 0.9850948509485095\n",
      "Testing Data Score: 0.9796954314720813 \n",
      "\n",
      "              precision    recall  f1-score   support\n",
      "\n",
      "     not hit       0.98      1.00      0.99       840\n",
      "         hit       1.00      0.87      0.93       145\n",
      "\n",
      "    accuracy                           0.98       985\n",
      "   macro avg       0.99      0.93      0.96       985\n",
      "weighted avg       0.98      0.98      0.98       985\n",
      " \n",
      "\n"
     ]
    }
   ],
   "source": [
    "# calling the LogRegModel funct on data w/ test size 20%\n",
    "LogRegModel(X, y, size=0.2);"
   ]
  },
  {
   "cell_type": "code",
   "execution_count": 8,
   "metadata": {},
   "outputs": [],
   "source": [
    "# creating variety of test sizes for the function\n",
    "test_size = [x / 10 for x in range(1,10)]"
   ]
  },
  {
   "cell_type": "code",
   "execution_count": 9,
   "metadata": {
    "scrolled": true
   },
   "outputs": [
    {
     "name": "stdout",
     "output_type": "stream",
     "text": [
      "10.0% of data is test --> 90.0% is training\n",
      "Training Data Score: 0.9853878852284803\n",
      "Testing Data Score: 0.9817444219066938 \n",
      "\n",
      "              precision    recall  f1-score   support\n",
      "\n",
      "     not hit       0.98      1.00      0.99       578\n",
      "         hit       1.00      0.90      0.95        87\n",
      "\n",
      "    accuracy                           0.99       665\n",
      "   macro avg       0.99      0.95      0.97       665\n",
      "weighted avg       0.99      0.99      0.99       665\n",
      " \n",
      "\n",
      "20.0% of data is test --> 80.0% is training\n",
      "Training Data Score: 0.9840785907859079\n",
      "Testing Data Score: 0.983756345177665 \n",
      "\n",
      "              precision    recall  f1-score   support\n",
      "\n",
      "     not hit       0.98      1.00      0.99       858\n",
      "         hit       1.00      0.87      0.93       127\n",
      "\n",
      "    accuracy                           0.98       985\n",
      "   macro avg       0.99      0.93      0.96       985\n",
      "weighted avg       0.98      0.98      0.98       985\n",
      " \n",
      "\n",
      "30.0% of data is test --> 70.0% is training\n",
      "Training Data Score: 0.9852612773559625\n",
      "Testing Data Score: 0.977657413676371 \n",
      "\n",
      "              precision    recall  f1-score   support\n",
      "\n",
      "     not hit       0.97      1.00      0.99      1034\n",
      "         hit       1.00      0.84      0.91       172\n",
      "\n",
      "    accuracy                           0.98      1206\n",
      "   macro avg       0.99      0.92      0.95      1206\n",
      "weighted avg       0.98      0.98      0.98      1206\n",
      " \n",
      "\n",
      "40.0% of data is test --> 60.0% is training\n",
      "Training Data Score: 0.9827586206896551\n",
      "Testing Data Score: 0.9862874555611986 \n",
      "\n",
      "              precision    recall  f1-score   support\n",
      "\n",
      "     not hit       0.97      1.00      0.98      1150\n",
      "         hit       1.00      0.79      0.88       179\n",
      "\n",
      "    accuracy                           0.97      1329\n",
      "   macro avg       0.98      0.90      0.93      1329\n",
      "weighted avg       0.97      0.97      0.97      1329\n",
      " \n",
      "\n",
      "50.0% of data is test --> 50.0% is training\n",
      "Training Data Score: 0.9774164408310749\n",
      "Testing Data Score: 0.9776513612352702 \n",
      "\n",
      "              precision    recall  f1-score   support\n",
      "\n",
      "     not hit       0.97      1.00      0.99      1179\n",
      "         hit       1.00      0.81      0.89       175\n",
      "\n",
      "    accuracy                           0.97      1354\n",
      "   macro avg       0.99      0.90      0.94      1354\n",
      "weighted avg       0.98      0.97      0.97      1354\n",
      " \n",
      "\n",
      "60.0% of data is test --> 40.0% is training\n",
      "Training Data Score: 0.9738372093023255\n",
      "Testing Data Score: 0.9807041299932295 \n",
      "\n",
      "              precision    recall  f1-score   support\n",
      "\n",
      "     not hit       0.98      1.00      0.99      1134\n",
      "         hit       1.00      0.82      0.90       146\n",
      "\n",
      "    accuracy                           0.98      1280\n",
      "   macro avg       0.99      0.91      0.94      1280\n",
      "weighted avg       0.98      0.98      0.98      1280\n",
      " \n",
      "\n",
      "70.0% of data is test --> 30.000000000000004% is training\n",
      "Training Data Score: 0.967479674796748\n",
      "Testing Data Score: 0.9730121880441092 \n",
      "\n",
      "              precision    recall  f1-score   support\n",
      "\n",
      "     not hit       0.97      1.00      0.98       956\n",
      "         hit       1.00      0.78      0.88       151\n",
      "\n",
      "    accuracy                           0.97      1107\n",
      "   macro avg       0.98      0.89      0.93      1107\n",
      "weighted avg       0.97      0.97      0.97      1107\n",
      " \n",
      "\n",
      "80.0% of data is test --> 19.999999999999996% is training\n",
      "Training Data Score: 0.9523809523809523\n",
      "Testing Data Score: 0.9588623666835957 \n",
      "\n",
      "              precision    recall  f1-score   support\n",
      "\n",
      "     not hit       0.94      1.00      0.97       708\n",
      "         hit       1.00      0.62      0.77       129\n",
      "\n",
      "    accuracy                           0.94       837\n",
      "   macro avg       0.97      0.81      0.87       837\n",
      "weighted avg       0.95      0.94      0.94       837\n",
      " \n",
      "\n",
      "90.0% of data is test --> 9.999999999999998% is training\n",
      "Training Data Score: 0.9583333333333334\n",
      "Testing Data Score: 0.9162528216704289 \n",
      "\n",
      "              precision    recall  f1-score   support\n",
      "\n",
      "     not hit       0.92      1.00      0.96       404\n",
      "         hit       1.00      0.44      0.61        64\n",
      "\n",
      "    accuracy                           0.92       468\n",
      "   macro avg       0.96      0.72      0.78       468\n",
      "weighted avg       0.93      0.92      0.91       468\n",
      " \n",
      "\n"
     ]
    }
   ],
   "source": [
    "# calling LogRegModel on data for different %ages of testing sizes\n",
    "scores = {\n",
    "    'test_size': [],\n",
    "    'train_score': [],\n",
    "    'test_score': []\n",
    "}\n",
    "\n",
    "for size in test_size:\n",
    "    print(f'{size * 100}% of data is test --> {(1 - size) * 100}% is training')\n",
    "    train_score, test_score = LogRegModel(X, y, size)\n",
    "    scores['test_size'].append(size)\n",
    "    scores['train_score'].append(train_score)\n",
    "    scores['test_score'].append(test_score)"
   ]
  },
  {
   "cell_type": "code",
   "execution_count": 10,
   "metadata": {},
   "outputs": [],
   "source": [
    "score_df = pd.DataFrame(scores)"
   ]
  },
  {
   "cell_type": "code",
   "execution_count": 11,
   "metadata": {
    "scrolled": true
   },
   "outputs": [
    {
     "data": {
      "image/png": "[encoded data removed]",
      "text/plain": [
       "<Figure size 432x288 with 1 Axes>"
      ]
     },
     "metadata": {
      "needs_background": "light"
     },
     "output_type": "display_data"
    }
   ],
   "source": [
    "# plotting the size of testing data set against how well the model performed on test and train sets\n",
    "score_df.plot.line(x='test_size');"
   ]
  },
  {
   "cell_type": "code",
   "execution_count": 12,
   "metadata": {},
   "outputs": [],
   "source": [
    "# prep for SVM\n",
    "X = bb_feature_num.loc[:, bb_feature_num.columns != 'hitTF'].values\n",
    "y = bb_feature_num['hitTF'].values\n",
    "\n",
    "X_train, X_test, y_train, y_test = train_test_split(X, y, train_size=0.2)\n",
    "\n",
    "X_train, X_val, y_train, y_val = train_test_split(X_train, y_train)\n",
    "\n",
    "# scaling data\n",
    "X_scaler = MinMaxScaler().fit(X_train)\n",
    "\n",
    "X_train_scaled = X_scaler.transform(X_train)\n",
    "X_test_scaled = X_scaler.transform(X_test)\n",
    "X_val_scaled = X_scaler.transform(X_val)"
   ]
  },
  {
   "cell_type": "code",
   "execution_count": 13,
   "metadata": {},
   "outputs": [
    {
     "data": {
      "text/plain": [
       "array([[0.        , 0.        , 0.        , ..., 0.45112627, 0.06219815,\n",
       "        0.8       ],\n",
       "       [0.        , 0.        , 0.        , ..., 0.58805412, 0.0385223 ,\n",
       "        0.8       ],\n",
       "       [0.        , 0.        , 0.        , ..., 0.48970344, 0.04181723,\n",
       "        0.8       ],\n",
       "       ...,\n",
       "       [0.        , 0.        , 0.        , ..., 0.62110906, 0.06105997,\n",
       "        0.8       ],\n",
       "       [0.        , 0.        , 0.        , ..., 0.54078655, 0.05816704,\n",
       "        0.8       ],\n",
       "       [0.        , 0.        , 0.        , ..., 0.55382706, 0.05271203,\n",
       "        0.8       ]])"
      ]
     },
     "execution_count": 13,
     "metadata": {},
     "output_type": "execute_result"
    }
   ],
   "source": [
    "X_train_scaled"
   ]
  },
  {
   "cell_type": "code",
   "execution_count": 14,
   "metadata": {},
   "outputs": [],
   "source": [
    "from sklearn.svm import SVC \n",
    "SVM = SVC(kernel='linear')\n",
    "SVM.fit(X_train_scaled, y_train);"
   ]
  },
  {
   "cell_type": "code",
   "execution_count": 15,
   "metadata": {},
   "outputs": [],
   "source": [
    "svm_predictions = SVM.predict(X_test_scaled)"
   ]
  },
  {
   "cell_type": "code",
   "execution_count": 16,
   "metadata": {},
   "outputs": [
    {
     "name": "stdout",
     "output_type": "stream",
     "text": [
      "              precision    recall  f1-score   support\n",
      "\n",
      "     not hit       0.99      1.00      1.00      3429\n",
      "         hit       1.00      0.96      0.98       509\n",
      "\n",
      "    accuracy                           0.99      3938\n",
      "   macro avg       1.00      0.98      0.99      3938\n",
      "weighted avg       0.99      0.99      0.99      3938\n",
      "\n"
     ]
    }
   ],
   "source": [
    "print(classification_report(y_test, svm_predictions, target_names=['not hit','hit']))"
   ]
  },
  {
   "cell_type": "code",
   "execution_count": 17,
   "metadata": {},
   "outputs": [
    {
     "data": {
      "text/plain": [
       "array([[3429,    0],\n",
       "       [  22,  487]])"
      ]
     },
     "execution_count": 17,
     "metadata": {},
     "output_type": "execute_result"
    }
   ],
   "source": [
    "confusion_matrix(y_test, svm_predictions)"
   ]
  },
  {
   "cell_type": "code",
   "execution_count": 18,
   "metadata": {},
   "outputs": [
    {
     "name": "stdout",
     "output_type": "stream",
     "text": [
      "              precision    recall  f1-score   support\n",
      "\n",
      "     not hit       1.00      1.00      1.00       211\n",
      "         hit       1.00      1.00      1.00        35\n",
      "\n",
      "    accuracy                           1.00       246\n",
      "   macro avg       1.00      1.00      1.00       246\n",
      "weighted avg       1.00      1.00      1.00       246\n",
      "\n"
     ]
    }
   ],
   "source": [
    "svm_predictions = SVM.predict(X_val_scaled)\n",
    "print(classification_report(y_val, svm_predictions, target_names=['not hit','hit']))"
   ]
  },
  {
   "cell_type": "code",
   "execution_count": 19,
   "metadata": {},
   "outputs": [
    {
     "data": {
      "text/plain": [
       "array([[211,   0],\n",
       "       [  0,  35]])"
      ]
     },
     "execution_count": 19,
     "metadata": {},
     "output_type": "execute_result"
    }
   ],
   "source": [
    "confusion_matrix(y_val, svm_predictions)"
   ]
  },
  {
   "cell_type": "code",
   "execution_count": 20,
   "metadata": {},
   "outputs": [],
   "source": [
    "# from sklearn.decomposition import PCA\n",
    "\n",
    "# pca = PCA(n_components=2)\n",
    "# pca.fit(X)\n",
    "\n",
    "# reduced_X = pca.transform(X)"
   ]
  },
  {
   "cell_type": "code",
   "execution_count": 32,
   "metadata": {},
   "outputs": [
    {
     "name": "stdout",
     "output_type": "stream",
     "text": [
      "              precision    recall  f1-score   support\n",
      "\n",
      "     not hit       0.99      1.00      1.00      3420\n",
      "         hit       1.00      0.94      0.97       518\n",
      "\n",
      "    accuracy                           0.99      3938\n",
      "   macro avg       1.00      0.97      0.98      3938\n",
      "weighted avg       0.99      0.99      0.99      3938\n",
      "\n"
     ]
    },
    {
     "data": {
      "text/plain": [
       "array([[3420,    0],\n",
       "       [  33,  485]])"
      ]
     },
     "execution_count": 32,
     "metadata": {},
     "output_type": "execute_result"
    }
   ],
   "source": [
    "y = bb_feature_num['hitTF'].values\n",
    "\n",
    "X_train, X_test, y_train, y_test = train_test_split(X, y, train_size=0.2)\n",
    "\n",
    "X_train, X_val, y_train, y_val = train_test_split(X_train, y_train)\n",
    "\n",
    "# Scale data\n",
    "X_scaler = MinMaxScaler().fit(X_train)\n",
    "\n",
    "X_train_scaled = X_scaler.transform(X_train)\n",
    "X_test_scaled = X_scaler.transform(X_test)\n",
    "X_val_scaled = X_scaler.transform(X_val)\n",
    "\n",
    "SVM = SVC(kernel='linear')\n",
    "SVM.fit(X_train_scaled, y_train)\n",
    "\n",
    "svm_predictions = SVM.predict(X_test_scaled)\n",
    "print(classification_report(y_test, svm_predictions, target_names=['not hit','hit']))\n",
    "\n",
    "confusion_matrix(y_test, svm_predictions)"
   ]
  },
  {
   "cell_type": "code",
   "execution_count": 33,
   "metadata": {},
   "outputs": [
    {
     "name": "stdout",
     "output_type": "stream",
     "text": [
      "Number of support vectors: 75\n"
     ]
    },
    {
     "data": {
      "image/png": "[encoded data removed]",
      "text/plain": [
       "<Figure size 432x288 with 1 Axes>"
      ]
     },
     "metadata": {
      "needs_background": "light"
     },
     "output_type": "display_data"
    }
   ],
   "source": [
    "import numpy as np\n",
    "# get the separating hyperplane\n",
    "w = SVM.coef_[0]\n",
    "a = -w[0] / w[1]\n",
    "xx = np.linspace(-5, 5)\n",
    "yy = a * xx - (SVM.intercept_[0]) / w[1]\n",
    "\n",
    "margin = 1 / np.sqrt(np.sum(SVM.coef_ ** 2))\n",
    "yy_down = yy - np.sqrt(1 + a ** 2) * margin\n",
    "yy_up = yy + np.sqrt(1 + a ** 2) * margin\n",
    "\n",
    "plt.clf()\n",
    "plt.plot(xx, yy, 'k-')\n",
    "plt.plot(xx, yy_down, 'k--')\n",
    "plt.plot(xx, yy_up, 'k--')\n",
    "\n",
    "support_vectors = SVM.support_vectors_\n",
    "plt.scatter(X_train_scaled[:,0], X_train_scaled[:,1])\n",
    "plt.scatter(support_vectors[:,0], support_vectors[:,1], color='red')\n",
    "# plt.title('Linearly separable data with support vectors')\n",
    "plt.xlabel('dim1')\n",
    "plt.ylabel('dim2')\n",
    "\n",
    "plt.axis('tight')\n",
    "\n",
    "print(f'Number of support vectors: {len(support_vectors)}')"
   ]
  },
  {
   "cell_type": "code",
   "execution_count": 34,
   "metadata": {},
   "outputs": [],
   "source": [
    "pickle.dump(SVM, open('../models/SVMw2021.sav', 'wb'))"
   ]
  },
  {
   "cell_type": "code",
   "execution_count": 35,
   "metadata": {},
   "outputs": [],
   "source": [
    "from sklearn.ensemble import RandomForestClassifier"
   ]
  },
  {
   "cell_type": "code",
   "execution_count": 36,
   "metadata": {},
   "outputs": [],
   "source": [
    "rf = RandomForestClassifier(n_estimators=200)"
   ]
  },
  {
   "cell_type": "code",
   "execution_count": 37,
   "metadata": {},
   "outputs": [
    {
     "data": {
      "text/plain": [
       "0.999746063991874"
      ]
     },
     "execution_count": 37,
     "metadata": {},
     "output_type": "execute_result"
    }
   ],
   "source": [
    "rf.fit(X_train_scaled, y_train)\n",
    "rf.score(X_test_scaled, y_test)"
   ]
  },
  {
   "cell_type": "code",
   "execution_count": 39,
   "metadata": {},
   "outputs": [
    {
     "data": {
      "text/plain": [
       "array([4.11686397e-01, 3.56336105e-02, 2.25366224e-01, 2.81160045e-01,\n",
       "       5.52584652e-03, 5.81944144e-03, 8.83835534e-04, 3.55725310e-03,\n",
       "       4.88585638e-04, 6.67124589e-03, 2.20118047e-03, 2.31384031e-03,\n",
       "       4.22776183e-03, 2.99617457e-03, 3.78946844e-03, 7.29659410e-03,\n",
       "       3.82495108e-04])"
      ]
     },
     "execution_count": 39,
     "metadata": {},
     "output_type": "execute_result"
    }
   ],
   "source": [
    "importances = rf.feature_importances_\n",
    "importances"
   ]
  },
  {
   "cell_type": "code",
   "execution_count": 40,
   "metadata": {},
   "outputs": [],
   "source": [
    "feature_cols = bb_feature_num.loc[:, bb_feature_num.columns != 'hitTF'].columns"
   ]
  },
  {
   "cell_type": "code",
   "execution_count": 41,
   "metadata": {},
   "outputs": [],
   "source": [
    "feature_impt = {\n",
    "    'feats':feature_cols,\n",
    "    'importance': importances\n",
    "}"
   ]
  },
  {
   "cell_type": "code",
   "execution_count": 42,
   "metadata": {},
   "outputs": [
    {
     "data": {
      "image/png": "[encoded data removed]",
      "text/plain": [
       "<Figure size 432x288 with 1 Axes>"
      ]
     },
     "metadata": {
      "needs_background": "light"
     },
     "output_type": "display_data"
    }
   ],
   "source": [
    "plt.bar(x=feature_impt['feats'], height=feature_impt['importance'], color='purple')\n",
    "plt.xticks(rotation=90)\n",
    "plt.title('Feature Importance')\n",
    "plt.ylabel('Importance');\n",
    "plt.savefig('../data/feature_importanceW2021.png', dpi=400, bbox_inches='tight');"
   ]
  },
  {
   "cell_type": "code",
   "execution_count": 43,
   "metadata": {},
   "outputs": [
    {
     "ename": "FileNotFoundError",
     "evalue": "[Errno 2] No such file or directory: '../../models/rfW2021.sav'",
     "output_type": "error",
     "traceback": [
      "\u001b[0;31m---------------------------------------------------------------------------\u001b[0m",
      "\u001b[0;31mFileNotFoundError\u001b[0m                         Traceback (most recent call last)",
      "\u001b[0;32m<ipython-input-43-57de24c63edc>\u001b[0m in \u001b[0;36m<module>\u001b[0;34m\u001b[0m\n\u001b[0;32m----> 1\u001b[0;31m \u001b[0mpickle\u001b[0m\u001b[0;34m.\u001b[0m\u001b[0mdump\u001b[0m\u001b[0;34m(\u001b[0m\u001b[0mrf\u001b[0m\u001b[0;34m,\u001b[0m \u001b[0mopen\u001b[0m\u001b[0;34m(\u001b[0m\u001b[0;34m'../../models/rfW2021.sav'\u001b[0m\u001b[0;34m,\u001b[0m \u001b[0;34m'wb'\u001b[0m\u001b[0;34m)\u001b[0m\u001b[0;34m)\u001b[0m\u001b[0;34m\u001b[0m\u001b[0;34m\u001b[0m\u001b[0m\n\u001b[0m",
      "\u001b[0;31mFileNotFoundError\u001b[0m: [Errno 2] No such file or directory: '../../models/rfW2021.sav'"
     ]
    }
   ],
   "source": [
    "pickle.dump(rf, open('../../models/rfW2021.sav', 'wb'))"
   ]
  },
  {
   "cell_type": "code",
   "execution_count": null,
   "metadata": {},
   "outputs": [],
   "source": []
  }
 ],
 "metadata": {
  "kernelspec": {
   "display_name": "Python 3",
   "language": "python",
   "name": "python3"
  },
  "language_info": {
   "codemirror_mode": {
    "name": "ipython",
    "version": 3
   },
   "file_extension": ".py",
   "mimetype": "text/x-python",
   "name": "python",
   "nbconvert_exporter": "python",
   "pygments_lexer": "ipython3",
   "version": "3.8.3"
  }
 },
 "nbformat": 4,
 "nbformat_minor": 4
}
