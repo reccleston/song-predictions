{
 "cells": [
  {
   "cell_type": "code",
   "execution_count": 1,
   "metadata": {},
   "outputs": [],
   "source": [
    "# imports\n",
    "import pandas as pd\n",
    "import time\n",
    "import pickle\n",
    "import matplotlib.pyplot as plt\n",
    "from sklearn.model_selection import train_test_split\n",
    "from sklearn.preprocessing import MinMaxScaler\n",
    "from sklearn.linear_model import LogisticRegression\n",
    "from sklearn.metrics import classification_report, confusion_matrix"
   ]
  },
  {
   "cell_type": "code",
   "execution_count": 2,
   "metadata": {},
   "outputs": [
    {
     "data": {
      "text/html": [
       "<div>\n",
       "<style scoped>\n",
       "    .dataframe tbody tr th:only-of-type {\n",
       "        vertical-align: middle;\n",
       "    }\n",
       "\n",
       "    .dataframe tbody tr th {\n",
       "        vertical-align: top;\n",
       "    }\n",
       "\n",
       "    .dataframe thead th {\n",
       "        text-align: right;\n",
       "    }\n",
       "</style>\n",
       "<table border=\"1\" class=\"dataframe\">\n",
       "  <thead>\n",
       "    <tr style=\"text-align: right;\">\n",
       "      <th></th>\n",
       "      <th>song</th>\n",
       "      <th>performer</th>\n",
       "      <th>chart_position</th>\n",
       "      <th>previous_position</th>\n",
       "      <th>peak</th>\n",
       "      <th>weeks_on_chart</th>\n",
       "      <th>hitTF</th>\n",
       "      <th>id</th>\n",
       "      <th>danceability</th>\n",
       "      <th>energy</th>\n",
       "      <th>...</th>\n",
       "      <th>loudness</th>\n",
       "      <th>mode</th>\n",
       "      <th>speechiness</th>\n",
       "      <th>acousticness</th>\n",
       "      <th>instrumentalness</th>\n",
       "      <th>liveness</th>\n",
       "      <th>valence</th>\n",
       "      <th>tempo</th>\n",
       "      <th>duration_ms</th>\n",
       "      <th>time_signature</th>\n",
       "    </tr>\n",
       "  </thead>\n",
       "  <tbody>\n",
       "    <tr>\n",
       "      <th>0</th>\n",
       "      <td>Dance Monkey</td>\n",
       "      <td>Tones And I</td>\n",
       "      <td>11.0</td>\n",
       "      <td>19.0</td>\n",
       "      <td>11.0</td>\n",
       "      <td>8.0</td>\n",
       "      <td>1.0</td>\n",
       "      <td>2XU0oxnq2qxCpomAAuJY8K</td>\n",
       "      <td>0.824</td>\n",
       "      <td>0.588</td>\n",
       "      <td>...</td>\n",
       "      <td>-6.400</td>\n",
       "      <td>0.0</td>\n",
       "      <td>0.0924</td>\n",
       "      <td>0.6920</td>\n",
       "      <td>0.000104</td>\n",
       "      <td>0.149</td>\n",
       "      <td>0.513</td>\n",
       "      <td>98.027</td>\n",
       "      <td>209438.0</td>\n",
       "      <td>4.0</td>\n",
       "    </tr>\n",
       "    <tr>\n",
       "      <th>1</th>\n",
       "      <td>Mine</td>\n",
       "      <td>Bazzi</td>\n",
       "      <td>56.0</td>\n",
       "      <td>0.0</td>\n",
       "      <td>56.0</td>\n",
       "      <td>1.0</td>\n",
       "      <td>1.0</td>\n",
       "      <td>7uzmGiiJyRfuViKKK3lVmR</td>\n",
       "      <td>0.710</td>\n",
       "      <td>0.789</td>\n",
       "      <td>...</td>\n",
       "      <td>-3.874</td>\n",
       "      <td>1.0</td>\n",
       "      <td>0.0722</td>\n",
       "      <td>0.0161</td>\n",
       "      <td>0.000003</td>\n",
       "      <td>0.451</td>\n",
       "      <td>0.717</td>\n",
       "      <td>142.929</td>\n",
       "      <td>131064.0</td>\n",
       "      <td>4.0</td>\n",
       "    </tr>\n",
       "    <tr>\n",
       "      <th>2</th>\n",
       "      <td>Final Fantasy</td>\n",
       "      <td>Drake</td>\n",
       "      <td>56.0</td>\n",
       "      <td>0.0</td>\n",
       "      <td>56.0</td>\n",
       "      <td>1.0</td>\n",
       "      <td>1.0</td>\n",
       "      <td>44Du2IM1bGY7dicmLfXbUs</td>\n",
       "      <td>0.500</td>\n",
       "      <td>0.449</td>\n",
       "      <td>...</td>\n",
       "      <td>-10.977</td>\n",
       "      <td>1.0</td>\n",
       "      <td>0.4420</td>\n",
       "      <td>0.4220</td>\n",
       "      <td>0.000008</td>\n",
       "      <td>0.115</td>\n",
       "      <td>0.104</td>\n",
       "      <td>144.206</td>\n",
       "      <td>219960.0</td>\n",
       "      <td>1.0</td>\n",
       "    </tr>\n",
       "    <tr>\n",
       "      <th>3</th>\n",
       "      <td>Hear Me Calling</td>\n",
       "      <td>Juice WRLD</td>\n",
       "      <td>56.0</td>\n",
       "      <td>0.0</td>\n",
       "      <td>56.0</td>\n",
       "      <td>1.0</td>\n",
       "      <td>1.0</td>\n",
       "      <td>13ZyrkCDmRz5xY3seuAWYk</td>\n",
       "      <td>0.699</td>\n",
       "      <td>0.687</td>\n",
       "      <td>...</td>\n",
       "      <td>-3.997</td>\n",
       "      <td>0.0</td>\n",
       "      <td>0.1060</td>\n",
       "      <td>0.3080</td>\n",
       "      <td>0.000036</td>\n",
       "      <td>0.121</td>\n",
       "      <td>0.499</td>\n",
       "      <td>88.932</td>\n",
       "      <td>189977.0</td>\n",
       "      <td>4.0</td>\n",
       "    </tr>\n",
       "    <tr>\n",
       "      <th>4</th>\n",
       "      <td>Liar</td>\n",
       "      <td>Camila Cabello</td>\n",
       "      <td>56.0</td>\n",
       "      <td>0.0</td>\n",
       "      <td>56.0</td>\n",
       "      <td>1.0</td>\n",
       "      <td>1.0</td>\n",
       "      <td>7LzouaWGFCy4tkXDOOnEyM</td>\n",
       "      <td>0.740</td>\n",
       "      <td>0.498</td>\n",
       "      <td>...</td>\n",
       "      <td>-6.684</td>\n",
       "      <td>0.0</td>\n",
       "      <td>0.0456</td>\n",
       "      <td>0.0169</td>\n",
       "      <td>0.002820</td>\n",
       "      <td>0.319</td>\n",
       "      <td>0.652</td>\n",
       "      <td>98.016</td>\n",
       "      <td>207039.0</td>\n",
       "      <td>4.0</td>\n",
       "    </tr>\n",
       "  </tbody>\n",
       "</table>\n",
       "<p>5 rows × 21 columns</p>\n",
       "</div>"
      ],
      "text/plain": [
       "              song       performer  chart_position  previous_position  peak  \\\n",
       "0     Dance Monkey     Tones And I            11.0               19.0  11.0   \n",
       "1             Mine           Bazzi            56.0                0.0  56.0   \n",
       "2    Final Fantasy           Drake            56.0                0.0  56.0   \n",
       "3  Hear Me Calling      Juice WRLD            56.0                0.0  56.0   \n",
       "4             Liar  Camila Cabello            56.0                0.0  56.0   \n",
       "\n",
       "   weeks_on_chart  hitTF                      id  danceability  energy  ...  \\\n",
       "0             8.0    1.0  2XU0oxnq2qxCpomAAuJY8K         0.824   0.588  ...   \n",
       "1             1.0    1.0  7uzmGiiJyRfuViKKK3lVmR         0.710   0.789  ...   \n",
       "2             1.0    1.0  44Du2IM1bGY7dicmLfXbUs         0.500   0.449  ...   \n",
       "3             1.0    1.0  13ZyrkCDmRz5xY3seuAWYk         0.699   0.687  ...   \n",
       "4             1.0    1.0  7LzouaWGFCy4tkXDOOnEyM         0.740   0.498  ...   \n",
       "\n",
       "   loudness  mode  speechiness  acousticness  instrumentalness  liveness  \\\n",
       "0    -6.400   0.0       0.0924        0.6920          0.000104     0.149   \n",
       "1    -3.874   1.0       0.0722        0.0161          0.000003     0.451   \n",
       "2   -10.977   1.0       0.4420        0.4220          0.000008     0.115   \n",
       "3    -3.997   0.0       0.1060        0.3080          0.000036     0.121   \n",
       "4    -6.684   0.0       0.0456        0.0169          0.002820     0.319   \n",
       "\n",
       "   valence    tempo  duration_ms  time_signature  \n",
       "0    0.513   98.027     209438.0             4.0  \n",
       "1    0.717  142.929     131064.0             4.0  \n",
       "2    0.104  144.206     219960.0             1.0  \n",
       "3    0.499   88.932     189977.0             4.0  \n",
       "4    0.652   98.016     207039.0             4.0  \n",
       "\n",
       "[5 rows x 21 columns]"
      ]
     },
     "execution_count": 2,
     "metadata": {},
     "output_type": "execute_result"
    }
   ],
   "source": [
    "# reading in final data csv\n",
    "finalDataSet = pd.read_csv('../data/finalDataSet2018to2021.csv')\n",
    "finalDataSet.head()"
   ]
  },
  {
   "cell_type": "code",
   "execution_count": 3,
   "metadata": {},
   "outputs": [
    {
     "data": {
      "text/plain": [
       "song                  object\n",
       "performer             object\n",
       "chart_position       float64\n",
       "previous_position    float64\n",
       "peak                 float64\n",
       "weeks_on_chart       float64\n",
       "hitTF                float64\n",
       "id                    object\n",
       "danceability         float64\n",
       "energy               float64\n",
       "key                  float64\n",
       "loudness             float64\n",
       "mode                 float64\n",
       "speechiness          float64\n",
       "acousticness         float64\n",
       "instrumentalness     float64\n",
       "liveness             float64\n",
       "valence              float64\n",
       "tempo                float64\n",
       "duration_ms          float64\n",
       "time_signature       float64\n",
       "dtype: object"
      ]
     },
     "execution_count": 3,
     "metadata": {},
     "output_type": "execute_result"
    }
   ],
   "source": [
    "# checking dtypes to make sure all numbers are numeric types\n",
    "finalDataSet.dtypes"
   ]
  },
  {
   "cell_type": "code",
   "execution_count": 4,
   "metadata": {},
   "outputs": [],
   "source": [
    "# getting the cols that will be features in the models\n",
    "bb_feature_num = finalDataSet.select_dtypes(['int', 'float'])"
   ]
  },
  {
   "cell_type": "code",
   "execution_count": 5,
   "metadata": {},
   "outputs": [],
   "source": [
    "# Logistic Regression model function\n",
    "def LogRegModel(X, y, size=None):\n",
    "#     splitting test and training datasets\n",
    "    X_train, X_test, y_train, y_test = train_test_split(X, y, test_size=size)\n",
    "    X_train, X_val, y_train, y_val = train_test_split(X_train, y_train, test_size=size + 0.05)\n",
    "#     fitting the scaler to the x_train dataset\n",
    "    X_scaler = MinMaxScaler().fit(X_train)\n",
    "# scaling the x train, test and values datasets\n",
    "    X_train_scaled = X_scaler.transform(X_train)\n",
    "    X_test_scaled = X_scaler.transform(X_test)\n",
    "    X_val_scaled = X_scaler.transform(X_val)\n",
    "    \n",
    "    LogReg = LogisticRegression()\n",
    "    \n",
    "    t = time.time()\n",
    "    LogReg.fit(X_train_scaled, y_train)\n",
    "    elapsed_time = time.time() - t\n",
    "#     print results of training and testing \n",
    "    print(f\"Training Data Score: {LogReg.score(X_train_scaled, y_train)}\")\n",
    "    print(f\"Testing Data Score: {LogReg.score(X_test_scaled, y_test)}\", '\\n')\n",
    "#     creating predictions\n",
    "    predictions = LogReg.predict(X_val_scaled)\n",
    "#     scoring predictions\n",
    "    print(classification_report(y_val, predictions, target_names=['not hit','hit']), '\\n')\n",
    "# saving model    \n",
    "    pickle.dump(LogReg, open('../models/LogRegW2021.sav', 'wb'))\n",
    "    return LogReg.score(X_train_scaled, y_train), LogReg.score(X_test_scaled, y_test)"
   ]
  },
  {
   "cell_type": "code",
   "execution_count": 6,
   "metadata": {},
   "outputs": [],
   "source": [
    "# setting the X and y values for input into the LogReg model\n",
    "# song numeric fields are x values\n",
    "X = bb_feature_num.loc[:, bb_feature_num.columns != 'hitTF'].values\n",
    "# whether it is a hit is the y value\n",
    "y = bb_feature_num['hitTF'].values"
   ]
  },
  {
   "cell_type": "code",
   "execution_count": 7,
   "metadata": {},
   "outputs": [
    {
     "name": "stdout",
     "output_type": "stream",
     "text": [
      "Training Data Score: 0.9871273712737128\n",
      "Testing Data Score: 0.9766497461928934 \n",
      "\n",
      "              precision    recall  f1-score   support\n",
      "\n",
      "     not hit       0.98      1.00      0.99       858\n",
      "         hit       1.00      0.84      0.91       127\n",
      "\n",
      "    accuracy                           0.98       985\n",
      "   macro avg       0.99      0.92      0.95       985\n",
      "weighted avg       0.98      0.98      0.98       985\n",
      " \n",
      "\n"
     ]
    }
   ],
   "source": [
    "# calling the LogRegModel funct on data w/ test size 20%\n",
    "LogRegModel(X, y, size=0.2);"
   ]
  },
  {
   "cell_type": "code",
   "execution_count": 8,
   "metadata": {},
   "outputs": [],
   "source": [
    "# creating variety of test sizes for the function\n",
    "test_size = [x / 10 for x in range(1,10)]"
   ]
  },
  {
   "cell_type": "code",
   "execution_count": 9,
   "metadata": {
    "scrolled": true
   },
   "outputs": [
    {
     "name": "stdout",
     "output_type": "stream",
     "text": [
      "10.0% of data is test --> 90.0% is training\n",
      "Training Data Score: 0.9851222104144527\n",
      "Testing Data Score: 0.9858012170385395 \n",
      "\n",
      "              precision    recall  f1-score   support\n",
      "\n",
      "     not hit       0.98      1.00      0.99       566\n",
      "         hit       1.00      0.88      0.94        99\n",
      "\n",
      "    accuracy                           0.98       665\n",
      "   macro avg       0.99      0.94      0.96       665\n",
      "weighted avg       0.98      0.98      0.98       665\n",
      " \n",
      "\n",
      "20.0% of data is test --> 80.0% is training\n",
      "Training Data Score: 0.9830623306233063\n",
      "Testing Data Score: 0.983756345177665 \n",
      "\n",
      "              precision    recall  f1-score   support\n",
      "\n",
      "     not hit       0.99      1.00      0.99       856\n",
      "         hit       1.00      0.90      0.95       129\n",
      "\n",
      "    accuracy                           0.99       985\n",
      "   macro avg       0.99      0.95      0.97       985\n",
      "weighted avg       0.99      0.99      0.99       985\n",
      " \n",
      "\n",
      "30.0% of data is test --> 70.0% is training\n",
      "Training Data Score: 0.9848146493970522\n",
      "Testing Data Score: 0.982396750169262 \n",
      "\n",
      "              precision    recall  f1-score   support\n",
      "\n",
      "     not hit       0.98      1.00      0.99      1035\n",
      "         hit       1.00      0.86      0.92       171\n",
      "\n",
      "    accuracy                           0.98      1206\n",
      "   macro avg       0.99      0.93      0.96      1206\n",
      "weighted avg       0.98      0.98      0.98      1206\n",
      " \n",
      "\n",
      "40.0% of data is test --> 60.0% is training\n",
      "Training Data Score: 0.9827586206896551\n",
      "Testing Data Score: 0.9857795835449467 \n",
      "\n",
      "              precision    recall  f1-score   support\n",
      "\n",
      "     not hit       0.97      1.00      0.99      1134\n",
      "         hit       1.00      0.83      0.90       195\n",
      "\n",
      "    accuracy                           0.97      1329\n",
      "   macro avg       0.99      0.91      0.94      1329\n",
      "weighted avg       0.98      0.97      0.97      1329\n",
      " \n",
      "\n",
      "50.0% of data is test --> 50.0% is training\n",
      "Training Data Score: 0.98193315266486\n",
      "Testing Data Score: 0.9768386834620073 \n",
      "\n",
      "              precision    recall  f1-score   support\n",
      "\n",
      "     not hit       0.98      1.00      0.99      1173\n",
      "         hit       1.00      0.83      0.91       181\n",
      "\n",
      "    accuracy                           0.98      1354\n",
      "   macro avg       0.99      0.92      0.95      1354\n",
      "weighted avg       0.98      0.98      0.98      1354\n",
      " \n",
      "\n",
      "60.0% of data is test --> 40.0% is training\n",
      "Training Data Score: 0.9665697674418605\n",
      "Testing Data Score: 0.9719025050778606 \n",
      "\n",
      "              precision    recall  f1-score   support\n",
      "\n",
      "     not hit       0.98      1.00      0.99      1123\n",
      "         hit       1.00      0.86      0.92       157\n",
      "\n",
      "    accuracy                           0.98      1280\n",
      "   macro avg       0.99      0.93      0.96      1280\n",
      "weighted avg       0.98      0.98      0.98      1280\n",
      " \n",
      "\n",
      "70.0% of data is test --> 30.000000000000004% is training\n",
      "Training Data Score: 0.967479674796748\n",
      "Testing Data Score: 0.9712710388856646 \n",
      "\n",
      "              precision    recall  f1-score   support\n",
      "\n",
      "     not hit       0.97      1.00      0.99       974\n",
      "         hit       1.00      0.78      0.88       133\n",
      "\n",
      "    accuracy                           0.97      1107\n",
      "   macro avg       0.99      0.89      0.93      1107\n",
      "weighted avg       0.97      0.97      0.97      1107\n",
      " \n",
      "\n",
      "80.0% of data is test --> 19.999999999999996% is training\n",
      "Training Data Score: 0.9863945578231292\n",
      "Testing Data Score: 0.9446419502285424 \n",
      "\n",
      "              precision    recall  f1-score   support\n",
      "\n",
      "     not hit       0.93      1.00      0.96       722\n",
      "         hit       1.00      0.54      0.70       115\n",
      "\n",
      "    accuracy                           0.94       837\n",
      "   macro avg       0.97      0.77      0.83       837\n",
      "weighted avg       0.94      0.94      0.93       837\n",
      " \n",
      "\n",
      "90.0% of data is test --> 9.999999999999998% is training\n",
      "Training Data Score: 1.0\n",
      "Testing Data Score: 0.954627539503386 \n",
      "\n",
      "              precision    recall  f1-score   support\n",
      "\n",
      "     not hit       0.96      1.00      0.98       408\n",
      "         hit       1.00      0.68      0.81        60\n",
      "\n",
      "    accuracy                           0.96       468\n",
      "   macro avg       0.98      0.84      0.89       468\n",
      "weighted avg       0.96      0.96      0.96       468\n",
      " \n",
      "\n"
     ]
    }
   ],
   "source": [
    "# calling LogRegModel on data for different %ages of testing sizes\n",
    "scores = {\n",
    "    'test_size': [],\n",
    "    'train_score': [],\n",
    "    'test_score': []\n",
    "}\n",
    "\n",
    "for size in test_size:\n",
    "    print(f'{size * 100}% of data is test --> {(1 - size) * 100}% is training')\n",
    "    train_score, test_score = LogRegModel(X, y, size)\n",
    "    scores['test_size'].append(size)\n",
    "    scores['train_score'].append(train_score)\n",
    "    scores['test_score'].append(test_score)"
   ]
  },
  {
   "cell_type": "code",
   "execution_count": 10,
   "metadata": {},
   "outputs": [],
   "source": [
    "score_df = pd.DataFrame(scores)"
   ]
  },
  {
   "cell_type": "code",
   "execution_count": 11,
   "metadata": {
    "scrolled": true
   },
   "outputs": [
    {
     "data": {
      "image/png": "[encoded data removed]",
      "text/plain": [
       "<Figure size 432x288 with 1 Axes>"
      ]
     },
     "metadata": {
      "needs_background": "light"
     },
     "output_type": "display_data"
    }
   ],
   "source": [
    "# plotting the size of testing data set against how well the model performed on test and train sets\n",
    "score_df.plot.line(x='test_size');"
   ]
  },
  {
   "cell_type": "code",
   "execution_count": 12,
   "metadata": {},
   "outputs": [],
   "source": [
    "# prep for SVM\n",
    "X = bb_feature_num.loc[:, bb_feature_num.columns != 'hitTF'].values\n",
    "y = bb_feature_num['hitTF'].values\n",
    "\n",
    "X_train, X_test, y_train, y_test = train_test_split(X, y, train_size=0.2)\n",
    "\n",
    "X_train, X_val, y_train, y_val = train_test_split(X_train, y_train)\n",
    "\n",
    "# scaling data\n",
    "X_scaler = MinMaxScaler().fit(X_train)\n",
    "\n",
    "X_train_scaled = X_scaler.transform(X_train)\n",
    "X_test_scaled = X_scaler.transform(X_test)\n",
    "X_val_scaled = X_scaler.transform(X_val)"
   ]
  },
  {
   "cell_type": "code",
   "execution_count": 13,
   "metadata": {},
   "outputs": [],
   "source": [
    "from sklearn.svm import SVC \n",
    "SVM = SVC(kernel='linear')\n",
    "SVM.fit(X_train_scaled, y_train);"
   ]
  },
  {
   "cell_type": "code",
   "execution_count": 14,
   "metadata": {},
   "outputs": [],
   "source": [
    "svm_predictions = SVM.predict(X_test_scaled)"
   ]
  },
  {
   "cell_type": "code",
   "execution_count": 15,
   "metadata": {},
   "outputs": [
    {
     "name": "stdout",
     "output_type": "stream",
     "text": [
      "              precision    recall  f1-score   support\n",
      "\n",
      "     not hit       0.99      1.00      1.00      3421\n",
      "         hit       1.00      0.94      0.97       517\n",
      "\n",
      "    accuracy                           0.99      3938\n",
      "   macro avg       1.00      0.97      0.98      3938\n",
      "weighted avg       0.99      0.99      0.99      3938\n",
      "\n"
     ]
    }
   ],
   "source": [
    "print(classification_report(y_test, svm_predictions, target_names=['not hit','hit']))"
   ]
  },
  {
   "cell_type": "code",
   "execution_count": 16,
   "metadata": {},
   "outputs": [
    {
     "data": {
      "text/plain": [
       "array([[3421,    0],\n",
       "       [  29,  488]])"
      ]
     },
     "execution_count": 16,
     "metadata": {},
     "output_type": "execute_result"
    }
   ],
   "source": [
    "confusion_matrix(y_test, svm_predictions)"
   ]
  },
  {
   "cell_type": "code",
   "execution_count": 17,
   "metadata": {},
   "outputs": [
    {
     "name": "stdout",
     "output_type": "stream",
     "text": [
      "              precision    recall  f1-score   support\n",
      "\n",
      "     not hit       1.00      1.00      1.00       217\n",
      "         hit       1.00      1.00      1.00        29\n",
      "\n",
      "    accuracy                           1.00       246\n",
      "   macro avg       1.00      1.00      1.00       246\n",
      "weighted avg       1.00      1.00      1.00       246\n",
      "\n"
     ]
    }
   ],
   "source": [
    "svm_predictions = SVM.predict(X_val_scaled)\n",
    "print(classification_report(y_val, svm_predictions, target_names=['not hit','hit']))"
   ]
  },
  {
   "cell_type": "code",
   "execution_count": 18,
   "metadata": {},
   "outputs": [
    {
     "data": {
      "text/plain": [
       "array([[217,   0],\n",
       "       [  0,  29]])"
      ]
     },
     "execution_count": 18,
     "metadata": {},
     "output_type": "execute_result"
    }
   ],
   "source": [
    "confusion_matrix(y_val, svm_predictions)"
   ]
  },
  {
   "cell_type": "code",
   "execution_count": 19,
   "metadata": {},
   "outputs": [],
   "source": [
    "from sklearn.decomposition import PCA\n",
    "\n",
    "pca = PCA(n_components=2)\n",
    "pca.fit(X)\n",
    "\n",
    "reduced_X = pca.transform(X)"
   ]
  },
  {
   "cell_type": "code",
   "execution_count": 20,
   "metadata": {},
   "outputs": [
    {
     "name": "stdout",
     "output_type": "stream",
     "text": [
      "              precision    recall  f1-score   support\n",
      "\n",
      "     not hit       0.98      1.00      0.99      3416\n",
      "         hit       1.00      0.88      0.93       522\n",
      "\n",
      "    accuracy                           0.98      3938\n",
      "   macro avg       0.99      0.94      0.96      3938\n",
      "weighted avg       0.98      0.98      0.98      3938\n",
      "\n"
     ]
    },
    {
     "data": {
      "text/plain": [
       "array([[3416,    0],\n",
       "       [  65,  457]])"
      ]
     },
     "execution_count": 20,
     "metadata": {},
     "output_type": "execute_result"
    }
   ],
   "source": [
    "y = bb_feature_num['hitTF'].values\n",
    "\n",
    "X_train, X_test, y_train, y_test = train_test_split(reduced_X, y, train_size=0.2)\n",
    "\n",
    "X_train, X_val, y_train, y_val = train_test_split(X_train, y_train)\n",
    "\n",
    "# Scale data\n",
    "X_scaler = MinMaxScaler().fit(X_train)\n",
    "\n",
    "X_train_scaled = X_scaler.transform(X_train)\n",
    "X_test_scaled = X_scaler.transform(X_test)\n",
    "X_val_scaled = X_scaler.transform(X_val)\n",
    "\n",
    "SVM = SVC(kernel='linear')\n",
    "SVM.fit(X_train_scaled, y_train)\n",
    "\n",
    "svm_predictions = SVM.predict(X_test_scaled)\n",
    "print(classification_report(y_test, svm_predictions, target_names=['not hit','hit']))\n",
    "\n",
    "confusion_matrix(y_test, svm_predictions)"
   ]
  },
  {
   "cell_type": "code",
   "execution_count": 21,
   "metadata": {},
   "outputs": [
    {
     "name": "stdout",
     "output_type": "stream",
     "text": [
      "Number of support vectors: 56\n"
     ]
    },
    {
     "data": {
      "image/png": "[encoded data removed]",
      "text/plain": [
       "<Figure size 432x288 with 1 Axes>"
      ]
     },
     "metadata": {
      "needs_background": "light"
     },
     "output_type": "display_data"
    }
   ],
   "source": [
    "import numpy as np\n",
    "# get the separating hyperplane\n",
    "w = SVM.coef_[0]\n",
    "a = -w[0] / w[1]\n",
    "xx = np.linspace(-5, 5)\n",
    "yy = a * xx - (SVM.intercept_[0]) / w[1]\n",
    "\n",
    "margin = 1 / np.sqrt(np.sum(SVM.coef_ ** 2))\n",
    "yy_down = yy - np.sqrt(1 + a ** 2) * margin\n",
    "yy_up = yy + np.sqrt(1 + a ** 2) * margin\n",
    "\n",
    "plt.clf()\n",
    "plt.plot(xx, yy, 'k-')\n",
    "plt.plot(xx, yy_down, 'k--')\n",
    "plt.plot(xx, yy_up, 'k--')\n",
    "\n",
    "support_vectors = SVM.support_vectors_\n",
    "plt.scatter(X_train_scaled[:,0], X_train_scaled[:,1])\n",
    "plt.scatter(support_vectors[:,0], support_vectors[:,1], color='red')\n",
    "# plt.title('Linearly separable data with support vectors')\n",
    "plt.xlabel('dim1')\n",
    "plt.ylabel('dim2')\n",
    "\n",
    "plt.axis('tight')\n",
    "\n",
    "print(f'Number of support vectors: {len(support_vectors)}')"
   ]
  },
  {
   "cell_type": "code",
   "execution_count": 22,
   "metadata": {},
   "outputs": [],
   "source": [
    "pickle.dump(SVM, open('../models/SVMw2021.sav', 'wb'))"
   ]
  },
  {
   "cell_type": "code",
   "execution_count": 23,
   "metadata": {},
   "outputs": [],
   "source": [
    "from sklearn.ensemble import RandomForestClassifier"
   ]
  },
  {
   "cell_type": "code",
   "execution_count": 24,
   "metadata": {},
   "outputs": [],
   "source": [
    "rf = RandomForestClassifier(n_estimators=200)"
   ]
  },
  {
   "cell_type": "code",
   "execution_count": 25,
   "metadata": {},
   "outputs": [
    {
     "data": {
      "text/plain": [
       "0.9964448958862366"
      ]
     },
     "execution_count": 25,
     "metadata": {},
     "output_type": "execute_result"
    }
   ],
   "source": [
    "rf.fit(X_train_scaled, y_train)\n",
    "rf.score(X_test_scaled, y_test)"
   ]
  },
  {
   "cell_type": "code",
   "execution_count": 26,
   "metadata": {},
   "outputs": [
    {
     "data": {
      "text/plain": [
       "array([0.06595564, 0.93404436])"
      ]
     },
     "execution_count": 26,
     "metadata": {},
     "output_type": "execute_result"
    }
   ],
   "source": [
    "importances = rf.feature_importances_\n",
    "importances"
   ]
  },
  {
   "cell_type": "code",
   "execution_count": 27,
   "metadata": {},
   "outputs": [],
   "source": [
    "feature_cols = bb_feature_num.loc[:, bb_feature_num.columns != 'hitTF'].columns"
   ]
  },
  {
   "cell_type": "code",
   "execution_count": 28,
   "metadata": {},
   "outputs": [],
   "source": [
    "feature_impt = {\n",
    "    'feats':feature_cols,\n",
    "    'importance': importances\n",
    "}"
   ]
  },
  {
   "cell_type": "code",
   "execution_count": 29,
   "metadata": {},
   "outputs": [
    {
     "ename": "ValueError",
     "evalue": "shape mismatch: objects cannot be broadcast to a single shape",
     "output_type": "error",
     "traceback": [
      "\u001b[0;31m---------------------------------------------------------------------------\u001b[0m",
      "\u001b[0;31mValueError\u001b[0m                                Traceback (most recent call last)",
      "\u001b[0;32m<ipython-input-29-6b81a210635b>\u001b[0m in \u001b[0;36m<module>\u001b[0;34m\u001b[0m\n\u001b[0;32m----> 1\u001b[0;31m \u001b[0mplt\u001b[0m\u001b[0;34m.\u001b[0m\u001b[0mbar\u001b[0m\u001b[0;34m(\u001b[0m\u001b[0mx\u001b[0m\u001b[0;34m=\u001b[0m\u001b[0mfeature_impt\u001b[0m\u001b[0;34m[\u001b[0m\u001b[0;34m'feats'\u001b[0m\u001b[0;34m]\u001b[0m\u001b[0;34m,\u001b[0m \u001b[0mheight\u001b[0m\u001b[0;34m=\u001b[0m\u001b[0mfeature_impt\u001b[0m\u001b[0;34m[\u001b[0m\u001b[0;34m'importance'\u001b[0m\u001b[0;34m]\u001b[0m\u001b[0;34m,\u001b[0m \u001b[0mcolor\u001b[0m\u001b[0;34m=\u001b[0m\u001b[0;34m'purple'\u001b[0m\u001b[0;34m)\u001b[0m\u001b[0;34m\u001b[0m\u001b[0;34m\u001b[0m\u001b[0m\n\u001b[0m\u001b[1;32m      2\u001b[0m \u001b[0mplt\u001b[0m\u001b[0;34m.\u001b[0m\u001b[0mxticks\u001b[0m\u001b[0;34m(\u001b[0m\u001b[0mrotation\u001b[0m\u001b[0;34m=\u001b[0m\u001b[0;36m90\u001b[0m\u001b[0;34m)\u001b[0m\u001b[0;34m\u001b[0m\u001b[0;34m\u001b[0m\u001b[0m\n\u001b[1;32m      3\u001b[0m \u001b[0mplt\u001b[0m\u001b[0;34m.\u001b[0m\u001b[0mtitle\u001b[0m\u001b[0;34m(\u001b[0m\u001b[0;34m'Feature Importance'\u001b[0m\u001b[0;34m)\u001b[0m\u001b[0;34m\u001b[0m\u001b[0;34m\u001b[0m\u001b[0m\n\u001b[1;32m      4\u001b[0m \u001b[0mplt\u001b[0m\u001b[0;34m.\u001b[0m\u001b[0mylabel\u001b[0m\u001b[0;34m(\u001b[0m\u001b[0;34m'Importance'\u001b[0m\u001b[0;34m)\u001b[0m\u001b[0;34m;\u001b[0m\u001b[0;34m\u001b[0m\u001b[0;34m\u001b[0m\u001b[0m\n\u001b[1;32m      5\u001b[0m \u001b[0mplt\u001b[0m\u001b[0;34m.\u001b[0m\u001b[0msavefig\u001b[0m\u001b[0;34m(\u001b[0m\u001b[0;34m'../data/feature_importanceW2021.png'\u001b[0m\u001b[0;34m,\u001b[0m \u001b[0mdpi\u001b[0m\u001b[0;34m=\u001b[0m\u001b[0;36m400\u001b[0m\u001b[0;34m,\u001b[0m \u001b[0mbbox_inches\u001b[0m\u001b[0;34m=\u001b[0m\u001b[0;34m'tight'\u001b[0m\u001b[0;34m)\u001b[0m\u001b[0;34m;\u001b[0m\u001b[0;34m\u001b[0m\u001b[0;34m\u001b[0m\u001b[0m\n",
      "\u001b[0;32m~/~Applications/lib/python3.8/site-packages/matplotlib/pyplot.py\u001b[0m in \u001b[0;36mbar\u001b[0;34m(x, height, width, bottom, align, data, **kwargs)\u001b[0m\n\u001b[1;32m   2485\u001b[0m         \u001b[0mx\u001b[0m\u001b[0;34m,\u001b[0m \u001b[0mheight\u001b[0m\u001b[0;34m,\u001b[0m \u001b[0mwidth\u001b[0m\u001b[0;34m=\u001b[0m\u001b[0;36m0.8\u001b[0m\u001b[0;34m,\u001b[0m \u001b[0mbottom\u001b[0m\u001b[0;34m=\u001b[0m\u001b[0;32mNone\u001b[0m\u001b[0;34m,\u001b[0m \u001b[0;34m*\u001b[0m\u001b[0;34m,\u001b[0m \u001b[0malign\u001b[0m\u001b[0;34m=\u001b[0m\u001b[0;34m'center'\u001b[0m\u001b[0;34m,\u001b[0m\u001b[0;34m\u001b[0m\u001b[0;34m\u001b[0m\u001b[0m\n\u001b[1;32m   2486\u001b[0m         data=None, **kwargs):\n\u001b[0;32m-> 2487\u001b[0;31m     return gca().bar(\n\u001b[0m\u001b[1;32m   2488\u001b[0m         \u001b[0mx\u001b[0m\u001b[0;34m,\u001b[0m \u001b[0mheight\u001b[0m\u001b[0;34m,\u001b[0m \u001b[0mwidth\u001b[0m\u001b[0;34m=\u001b[0m\u001b[0mwidth\u001b[0m\u001b[0;34m,\u001b[0m \u001b[0mbottom\u001b[0m\u001b[0;34m=\u001b[0m\u001b[0mbottom\u001b[0m\u001b[0;34m,\u001b[0m \u001b[0malign\u001b[0m\u001b[0;34m=\u001b[0m\u001b[0malign\u001b[0m\u001b[0;34m,\u001b[0m\u001b[0;34m\u001b[0m\u001b[0;34m\u001b[0m\u001b[0m\n\u001b[1;32m   2489\u001b[0m         **({\"data\": data} if data is not None else {}), **kwargs)\n",
      "\u001b[0;32m~/~Applications/lib/python3.8/site-packages/matplotlib/__init__.py\u001b[0m in \u001b[0;36minner\u001b[0;34m(ax, data, *args, **kwargs)\u001b[0m\n\u001b[1;32m   1436\u001b[0m     \u001b[0;32mdef\u001b[0m \u001b[0minner\u001b[0m\u001b[0;34m(\u001b[0m\u001b[0max\u001b[0m\u001b[0;34m,\u001b[0m \u001b[0;34m*\u001b[0m\u001b[0margs\u001b[0m\u001b[0;34m,\u001b[0m \u001b[0mdata\u001b[0m\u001b[0;34m=\u001b[0m\u001b[0;32mNone\u001b[0m\u001b[0;34m,\u001b[0m \u001b[0;34m**\u001b[0m\u001b[0mkwargs\u001b[0m\u001b[0;34m)\u001b[0m\u001b[0;34m:\u001b[0m\u001b[0;34m\u001b[0m\u001b[0;34m\u001b[0m\u001b[0m\n\u001b[1;32m   1437\u001b[0m         \u001b[0;32mif\u001b[0m \u001b[0mdata\u001b[0m \u001b[0;32mis\u001b[0m \u001b[0;32mNone\u001b[0m\u001b[0;34m:\u001b[0m\u001b[0;34m\u001b[0m\u001b[0;34m\u001b[0m\u001b[0m\n\u001b[0;32m-> 1438\u001b[0;31m             \u001b[0;32mreturn\u001b[0m \u001b[0mfunc\u001b[0m\u001b[0;34m(\u001b[0m\u001b[0max\u001b[0m\u001b[0;34m,\u001b[0m \u001b[0;34m*\u001b[0m\u001b[0mmap\u001b[0m\u001b[0;34m(\u001b[0m\u001b[0msanitize_sequence\u001b[0m\u001b[0;34m,\u001b[0m \u001b[0margs\u001b[0m\u001b[0;34m)\u001b[0m\u001b[0;34m,\u001b[0m \u001b[0;34m**\u001b[0m\u001b[0mkwargs\u001b[0m\u001b[0;34m)\u001b[0m\u001b[0;34m\u001b[0m\u001b[0;34m\u001b[0m\u001b[0m\n\u001b[0m\u001b[1;32m   1439\u001b[0m \u001b[0;34m\u001b[0m\u001b[0m\n\u001b[1;32m   1440\u001b[0m         \u001b[0mbound\u001b[0m \u001b[0;34m=\u001b[0m \u001b[0mnew_sig\u001b[0m\u001b[0;34m.\u001b[0m\u001b[0mbind\u001b[0m\u001b[0;34m(\u001b[0m\u001b[0max\u001b[0m\u001b[0;34m,\u001b[0m \u001b[0;34m*\u001b[0m\u001b[0margs\u001b[0m\u001b[0;34m,\u001b[0m \u001b[0;34m**\u001b[0m\u001b[0mkwargs\u001b[0m\u001b[0;34m)\u001b[0m\u001b[0;34m\u001b[0m\u001b[0;34m\u001b[0m\u001b[0m\n",
      "\u001b[0;32m~/~Applications/lib/python3.8/site-packages/matplotlib/axes/_axes.py\u001b[0m in \u001b[0;36mbar\u001b[0;34m(self, x, height, width, bottom, align, **kwargs)\u001b[0m\n\u001b[1;32m   2428\u001b[0m                 \u001b[0myerr\u001b[0m \u001b[0;34m=\u001b[0m \u001b[0mself\u001b[0m\u001b[0;34m.\u001b[0m\u001b[0m_convert_dx\u001b[0m\u001b[0;34m(\u001b[0m\u001b[0myerr\u001b[0m\u001b[0;34m,\u001b[0m \u001b[0my0\u001b[0m\u001b[0;34m,\u001b[0m \u001b[0my\u001b[0m\u001b[0;34m,\u001b[0m \u001b[0mself\u001b[0m\u001b[0;34m.\u001b[0m\u001b[0mconvert_yunits\u001b[0m\u001b[0;34m)\u001b[0m\u001b[0;34m\u001b[0m\u001b[0;34m\u001b[0m\u001b[0m\n\u001b[1;32m   2429\u001b[0m \u001b[0;34m\u001b[0m\u001b[0m\n\u001b[0;32m-> 2430\u001b[0;31m         x, height, width, y, linewidth = np.broadcast_arrays(\n\u001b[0m\u001b[1;32m   2431\u001b[0m             \u001b[0;31m# Make args iterable too.\u001b[0m\u001b[0;34m\u001b[0m\u001b[0;34m\u001b[0m\u001b[0;34m\u001b[0m\u001b[0m\n\u001b[1;32m   2432\u001b[0m             np.atleast_1d(x), height, width, y, linewidth)\n",
      "\u001b[0;32m<__array_function__ internals>\u001b[0m in \u001b[0;36mbroadcast_arrays\u001b[0;34m(*args, **kwargs)\u001b[0m\n",
      "\u001b[0;32m~/~Applications/lib/python3.8/site-packages/numpy/lib/stride_tricks.py\u001b[0m in \u001b[0;36mbroadcast_arrays\u001b[0;34m(subok, *args)\u001b[0m\n\u001b[1;32m    256\u001b[0m     \u001b[0margs\u001b[0m \u001b[0;34m=\u001b[0m \u001b[0;34m[\u001b[0m\u001b[0mnp\u001b[0m\u001b[0;34m.\u001b[0m\u001b[0marray\u001b[0m\u001b[0;34m(\u001b[0m\u001b[0m_m\u001b[0m\u001b[0;34m,\u001b[0m \u001b[0mcopy\u001b[0m\u001b[0;34m=\u001b[0m\u001b[0;32mFalse\u001b[0m\u001b[0;34m,\u001b[0m \u001b[0msubok\u001b[0m\u001b[0;34m=\u001b[0m\u001b[0msubok\u001b[0m\u001b[0;34m)\u001b[0m \u001b[0;32mfor\u001b[0m \u001b[0m_m\u001b[0m \u001b[0;32min\u001b[0m \u001b[0margs\u001b[0m\u001b[0;34m]\u001b[0m\u001b[0;34m\u001b[0m\u001b[0;34m\u001b[0m\u001b[0m\n\u001b[1;32m    257\u001b[0m \u001b[0;34m\u001b[0m\u001b[0m\n\u001b[0;32m--> 258\u001b[0;31m     \u001b[0mshape\u001b[0m \u001b[0;34m=\u001b[0m \u001b[0m_broadcast_shape\u001b[0m\u001b[0;34m(\u001b[0m\u001b[0;34m*\u001b[0m\u001b[0margs\u001b[0m\u001b[0;34m)\u001b[0m\u001b[0;34m\u001b[0m\u001b[0;34m\u001b[0m\u001b[0m\n\u001b[0m\u001b[1;32m    259\u001b[0m \u001b[0;34m\u001b[0m\u001b[0m\n\u001b[1;32m    260\u001b[0m     \u001b[0;32mif\u001b[0m \u001b[0mall\u001b[0m\u001b[0;34m(\u001b[0m\u001b[0marray\u001b[0m\u001b[0;34m.\u001b[0m\u001b[0mshape\u001b[0m \u001b[0;34m==\u001b[0m \u001b[0mshape\u001b[0m \u001b[0;32mfor\u001b[0m \u001b[0marray\u001b[0m \u001b[0;32min\u001b[0m \u001b[0margs\u001b[0m\u001b[0;34m)\u001b[0m\u001b[0;34m:\u001b[0m\u001b[0;34m\u001b[0m\u001b[0;34m\u001b[0m\u001b[0m\n",
      "\u001b[0;32m~/~Applications/lib/python3.8/site-packages/numpy/lib/stride_tricks.py\u001b[0m in \u001b[0;36m_broadcast_shape\u001b[0;34m(*args)\u001b[0m\n\u001b[1;32m    187\u001b[0m     \u001b[0;31m# use the old-iterator because np.nditer does not handle size 0 arrays\u001b[0m\u001b[0;34m\u001b[0m\u001b[0;34m\u001b[0m\u001b[0;34m\u001b[0m\u001b[0m\n\u001b[1;32m    188\u001b[0m     \u001b[0;31m# consistently\u001b[0m\u001b[0;34m\u001b[0m\u001b[0;34m\u001b[0m\u001b[0;34m\u001b[0m\u001b[0m\n\u001b[0;32m--> 189\u001b[0;31m     \u001b[0mb\u001b[0m \u001b[0;34m=\u001b[0m \u001b[0mnp\u001b[0m\u001b[0;34m.\u001b[0m\u001b[0mbroadcast\u001b[0m\u001b[0;34m(\u001b[0m\u001b[0;34m*\u001b[0m\u001b[0margs\u001b[0m\u001b[0;34m[\u001b[0m\u001b[0;34m:\u001b[0m\u001b[0;36m32\u001b[0m\u001b[0;34m]\u001b[0m\u001b[0;34m)\u001b[0m\u001b[0;34m\u001b[0m\u001b[0;34m\u001b[0m\u001b[0m\n\u001b[0m\u001b[1;32m    190\u001b[0m     \u001b[0;31m# unfortunately, it cannot handle 32 or more arguments directly\u001b[0m\u001b[0;34m\u001b[0m\u001b[0;34m\u001b[0m\u001b[0;34m\u001b[0m\u001b[0m\n\u001b[1;32m    191\u001b[0m     \u001b[0;32mfor\u001b[0m \u001b[0mpos\u001b[0m \u001b[0;32min\u001b[0m \u001b[0mrange\u001b[0m\u001b[0;34m(\u001b[0m\u001b[0;36m32\u001b[0m\u001b[0;34m,\u001b[0m \u001b[0mlen\u001b[0m\u001b[0;34m(\u001b[0m\u001b[0margs\u001b[0m\u001b[0;34m)\u001b[0m\u001b[0;34m,\u001b[0m \u001b[0;36m31\u001b[0m\u001b[0;34m)\u001b[0m\u001b[0;34m:\u001b[0m\u001b[0;34m\u001b[0m\u001b[0;34m\u001b[0m\u001b[0m\n",
      "\u001b[0;31mValueError\u001b[0m: shape mismatch: objects cannot be broadcast to a single shape"
     ]
    },
    {
     "data": {
      "image/png": "[encoded data removed]",
      "text/plain": [
       "<Figure size 432x288 with 1 Axes>"
      ]
     },
     "metadata": {
      "needs_background": "light"
     },
     "output_type": "display_data"
    }
   ],
   "source": [
    "plt.bar(x=feature_impt['feats'], height=feature_impt['importance'], color='purple')\n",
    "plt.xticks(rotation=90)\n",
    "plt.title('Feature Importance')\n",
    "plt.ylabel('Importance');\n",
    "plt.savefig('../data/feature_importanceW2021.png', dpi=400, bbox_inches='tight');"
   ]
  },
  {
   "cell_type": "code",
   "execution_count": null,
   "metadata": {},
   "outputs": [],
   "source": [
    "pickle.dump(rf, open('../../models/rfW2021.sav', 'wb'))"
   ]
  }
 ],
 "metadata": {
  "kernelspec": {
   "display_name": "Python 3",
   "language": "python",
   "name": "python3"
  },
  "language_info": {
   "codemirror_mode": {
    "name": "ipython",
    "version": 3
   },
   "file_extension": ".py",
   "mimetype": "text/x-python",
   "name": "python",
   "nbconvert_exporter": "python",
   "pygments_lexer": "ipython3",
   "version": "3.8.5"
  }
 },
 "nbformat": 4,
 "nbformat_minor": 4
}
