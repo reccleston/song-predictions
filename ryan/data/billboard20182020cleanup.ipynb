{
 "cells": [
  {
   "cell_type": "code",
   "execution_count": 2,
   "metadata": {},
   "outputs": [],
   "source": [
    "# imports\n",
    "import pandas as pd"
   ]
  },
  {
   "cell_type": "code",
   "execution_count": null,
   "metadata": {},
   "outputs": [],
   "source": [
    "# read in billboard 2018-2020 data\n",
    "path = '../data/billboardSongsWeekly.csv'\n",
    "billboard_df = pd.read_csv(path)\n",
    "billboard_df.head()"
   ]
  },
  {
   "cell_type": "code",
   "execution_count": null,
   "metadata": {},
   "outputs": [],
   "source": [
    "# checking for null values\n",
    "billboard_df.isnull().sum()"
   ]
  },
  {
   "cell_type": "code",
   "execution_count": null,
   "metadata": {},
   "outputs": [],
   "source": [
    "# checking to see range of instance values\n",
    "billboard_df['Instance'].unique()"
   ]
  },
  {
   "cell_type": "code",
   "execution_count": null,
   "metadata": {},
   "outputs": [],
   "source": [
    "# replacing nans with 0\n",
    "billboard_df = billboard_df.fillna(0)"
   ]
  },
  {
   "cell_type": "code",
   "execution_count": null,
   "metadata": {},
   "outputs": [],
   "source": [
    "# re-checking for null values\n",
    "billboard_df.isnull().sum()"
   ]
  },
  {
   "cell_type": "code",
   "execution_count": null,
   "metadata": {},
   "outputs": [],
   "source": [
    "# change weekid col to datetime\n",
    "billboard_df[\"WeekID\"] = pd.to_datetime(billboard_df[\"WeekID\"])"
   ]
  },
  {
   "cell_type": "code",
   "execution_count": null,
   "metadata": {},
   "outputs": [],
   "source": [
    "# changing unnecessary floats to integers\n",
    "billboard_df = billboard_df.astype({\"Instance\": int, \"Previous Week Position\": int, \"Peak Position\": int, \"Weeks on Chart\": int})"
   ]
  },
  {
   "cell_type": "code",
   "execution_count": null,
   "metadata": {},
   "outputs": [],
   "source": [
    "# checking data types\n",
    "billboard_df.dtypes"
   ]
  },
  {
   "cell_type": "code",
   "execution_count": null,
   "metadata": {},
   "outputs": [],
   "source": [
    "# removing data from before 2018\n",
    "bb_subset = billboard_df[billboard_df['WeekID'].dt.date.astype(str) >= '2017-12-31']\n",
    "bb_subset.head()"
   ]
  },
  {
   "cell_type": "code",
   "execution_count": null,
   "metadata": {},
   "outputs": [],
   "source": [
    "# checking shape of df\n",
    "bb_subset.shape"
   ]
  },
  {
   "cell_type": "code",
   "execution_count": null,
   "metadata": {},
   "outputs": [],
   "source": [
    "# reset index\n",
    "bb_subset = bb_subset.reset_index(drop=True)\n",
    "bb_subset.head()"
   ]
  },
  {
   "cell_type": "code",
   "execution_count": null,
   "metadata": {},
   "outputs": [],
   "source": [
    "# renaming cols\n",
    "bb_subset.columns = ['url', 'date', 'chart_position', 'song', 'performer', 'songID', 'instance', 'previous_position', 'peak', 'weeks_on_chart']\n",
    "bb_subset.head()"
   ]
  },
  {
   "cell_type": "code",
   "execution_count": null,
   "metadata": {
    "scrolled": true
   },
   "outputs": [],
   "source": [
    "# reordering cols\n",
    "bb_subset = bb_subset[['song', 'performer', 'date', 'chart_position','previous_position', 'peak', 'weeks_on_chart', 'instance', 'songID', 'url']]\n",
    "bb_subset.to_csv('billboard_subset.csv')\n",
    "bb_subset.head()"
   ]
  },
  {
   "cell_type": "code",
   "execution_count": null,
   "metadata": {},
   "outputs": [],
   "source": [
    "# path2 = '../data/tracks20102021.csv'\n",
    "# tracks = pd.read_csv(path2)\n",
    "# tracks.head()"
   ]
  },
  {
   "cell_type": "code",
   "execution_count": null,
   "metadata": {},
   "outputs": [],
   "source": [
    "import os\n",
    "from dotenv import load_dotenv\n",
    "import spotipy\n",
    "from spotipy.oauth2 import SpotifyClientCredentials"
   ]
  },
  {
   "cell_type": "code",
   "execution_count": null,
   "metadata": {},
   "outputs": [],
   "source": [
    "load_dotenv('.env')\n",
    "CLIENT_ID = os.getenv('SPOTIFY_CLIENT_ID')\n",
    "CLIENT_SECRET = os.getenv('SPOTIFY_CLIENT_SECRET')"
   ]
  },
  {
   "cell_type": "code",
   "execution_count": null,
   "metadata": {},
   "outputs": [],
   "source": [
    "spotify = spotipy.Spotify(client_credentials_manager=SpotifyClientCredentials(client_id=CLIENT_ID, client_secret=CLIENT_SECRET))"
   ]
  },
  {
   "cell_type": "code",
   "execution_count": null,
   "metadata": {
    "scrolled": true
   },
   "outputs": [],
   "source": [
    "# From the tracks df\n",
    "song_titles = tracks[['name', 'artists']]\n",
    "song_titles.loc[:, 'artists'] = song_titles['artists'].apply(lambda x: x.strip(\"['']\"))"
   ]
  },
  {
   "cell_type": "code",
   "execution_count": null,
   "metadata": {
    "scrolled": true
   },
   "outputs": [],
   "source": [
    "# from the bb_subset df\n",
    "song_titles_bb = bb_subset[['song', 'performer']]\n",
    "song_titles_bb.loc[:, 'performer'] = song_titles_bb.loc[:, 'performer'].apply(lambda x: x.split('Featuring')[0])\n",
    "song_titles_bb.loc[:, 'performer'] = song_titles_bb.loc[:, 'performer'].apply(lambda x: x.split('&')[0])\n",
    "song_titles_bb"
   ]
  },
  {
   "cell_type": "code",
   "execution_count": null,
   "metadata": {},
   "outputs": [],
   "source": [
    "# TRACKS DF\n",
    "song_list = {\n",
    "    'artist': [],\n",
    "    'song': [],\n",
    "    'uri': []\n",
    "}\n",
    "\n",
    "for index, song in song_titles.iterrows():    \n",
    "#     print(song['artists'])\n",
    "    try:\n",
    "        results = spotify.search(q=song)['tracks']['items'][0]\n",
    "        artist = results['album']['artists'][0]['name']\n",
    "        if artist == song['artists']:\n",
    "            song_list['artist'].append(artist)\n",
    "            song_list['song'].append(results['album']['name'])\n",
    "            song_list['uri'].append(results['uri'])\n",
    "        else:\n",
    "            pass\n",
    "    except IndexError:\n",
    "        print(f\"no results for {song['name']} by {song['artists']}\", '\\n')\n",
    "        pass \n",
    "\n",
    "\n",
    "# DOESNT PICK UP MIXES/ must pass an exact title --> \n",
    "#    ex: Plastic Boy's Live Another Life has an Original Mix, 12\" Vocal MIix, ect"
   ]
  },
  {
   "cell_type": "code",
   "execution_count": null,
   "metadata": {},
   "outputs": [],
   "source": [
    "df = pd.DataFrame(song_list)\n",
    "df"
   ]
  },
  {
   "cell_type": "code",
   "execution_count": null,
   "metadata": {
    "scrolled": false
   },
   "outputs": [],
   "source": [
    "def get_song_uri(df, col_with_song_name):\n",
    "    song_list = {\n",
    "        'artist': [],\n",
    "        'song': [],\n",
    "        'uri': []\n",
    "    }\n",
    "\n",
    "    for i, row in df.iterrows():\n",
    "        song = row[f'{col_with_song_name}']\n",
    "    #     artist_from_df = row['performer'].lower()\n",
    "        results = spotify.search(q=song, limit=5)['tracks']['items']\n",
    "        for track in results:\n",
    "            song_list['artist'].append(track['artists'][0]['name'])\n",
    "            song_list['song'].append(track['name'])\n",
    "            song_list['uri'].append(track['uri'])\n",
    "            \n",
    "    return song_list"
   ]
  },
  {
   "cell_type": "code",
   "execution_count": null,
   "metadata": {},
   "outputs": [],
   "source": [
    "song_uri_df = pd.DataFrame(get_song_uri(song_titles_bb, 'song'))"
   ]
  },
  {
   "cell_type": "code",
   "execution_count": null,
   "metadata": {},
   "outputs": [],
   "source": [
    "song_uri_df.to_csv('../ryan/data/bb_uri.csv')"
   ]
  },
  {
   "cell_type": "code",
   "execution_count": null,
   "metadata": {},
   "outputs": [],
   "source": [
    "features = {\n",
    "    'song': [],\n",
    "    'artist': [],\n",
    "    'features': []\n",
    "}\n",
    "for i, row in song_uri_df[11038:].iterrows():\n",
    "    uri = row['uri']\n",
    "    audio_features = spotify.audio_features(uri)[0]\n",
    "    features['song'].append(row['song'])\n",
    "    features['artist'].append(row['artist'])\n",
    "    features['features'].append(audio_features)"
   ]
  },
  {
   "cell_type": "code",
   "execution_count": null,
   "metadata": {},
   "outputs": [],
   "source": [
    "first_bit = features"
   ]
  },
  {
   "cell_type": "code",
   "execution_count": null,
   "metadata": {},
   "outputs": [],
   "source": [
    "second_bit = features "
   ]
  },
  {
   "cell_type": "code",
   "execution_count": null,
   "metadata": {},
   "outputs": [],
   "source": [
    "third_bit = features "
   ]
  },
  {
   "cell_type": "code",
   "execution_count": null,
   "metadata": {},
   "outputs": [],
   "source": [
    "f = pd.DataFrame(first_bit)"
   ]
  },
  {
   "cell_type": "code",
   "execution_count": null,
   "metadata": {
    "scrolled": true
   },
   "outputs": [],
   "source": [
    "s = pd.DataFrame(second_bit)"
   ]
  },
  {
   "cell_type": "code",
   "execution_count": null,
   "metadata": {},
   "outputs": [],
   "source": [
    "t = pd.DataFrame(third_bit)"
   ]
  },
  {
   "cell_type": "code",
   "execution_count": null,
   "metadata": {
    "scrolled": false
   },
   "outputs": [],
   "source": [
    "bb_features = pd.concat([pd.concat([f,s]), t])\n",
    "bb_features = bb_features.rename(columns={'artist': 'performer'})\n",
    "bb_features.to_csv('../ryan/data/bb_features.csv')\n",
    "bb_features"
   ]
  },
  {
   "cell_type": "code",
   "execution_count": null,
   "metadata": {},
   "outputs": [],
   "source": [
    "feats = bb_features['features'].apply(pd.Series)"
   ]
  },
  {
   "cell_type": "code",
   "execution_count": null,
   "metadata": {},
   "outputs": [],
   "source": [
    "bb_features_df = pd.concat([bb_features, feats], axis=1).drop('features', axis=1)"
   ]
  },
  {
   "cell_type": "code",
   "execution_count": null,
   "metadata": {},
   "outputs": [],
   "source": [
    "bb_features_df.to_csv('../ryan/data/bb_features.csv')"
   ]
  },
  {
   "cell_type": "code",
   "execution_count": null,
   "metadata": {},
   "outputs": [],
   "source": [
    "# tracks_uri_1 = pd.DataFrame(get_song_uri(tracks[:5000], 'name'))"
   ]
  },
  {
   "cell_type": "code",
   "execution_count": null,
   "metadata": {},
   "outputs": [],
   "source": [
    "bb_features_df.head()"
   ]
  },
  {
   "cell_type": "code",
   "execution_count": null,
   "metadata": {},
   "outputs": [],
   "source": [
    "song_uri_df = song_uri_df.rename(columns={'artist': 'performer'})"
   ]
  },
  {
   "cell_type": "code",
   "execution_count": null,
   "metadata": {},
   "outputs": [],
   "source": [
    "song_uri_df"
   ]
  },
  {
   "cell_type": "code",
   "execution_count": null,
   "metadata": {},
   "outputs": [],
   "source": [
    "bb_subset['hitTF'] = 1"
   ]
  },
  {
   "cell_type": "code",
   "execution_count": null,
   "metadata": {},
   "outputs": [],
   "source": [
    "hits = bb_subset[['song', 'performer', 'hitTF']].rename(columns={'song': 'song_x'})"
   ]
  },
  {
   "cell_type": "code",
   "execution_count": null,
   "metadata": {},
   "outputs": [],
   "source": [
    "bb_final = bb_final.merge(hits, on=['song_x', 'performer'], how='left').drop_duplicates(['song_x', 'performer'], keep='first')\n",
    "bb_Final = bb_final.fillna(0).iloc[:, 0:23]"
   ]
  },
  {
   "cell_type": "code",
   "execution_count": null,
   "metadata": {},
   "outputs": [],
   "source": [
    "# change in position\n",
    "human_features = bb_subset[['song', 'performer', 'chart_position', 'previous_position', 'weeks_on_chart', 'peak']]"
   ]
  },
  {
   "cell_type": "code",
   "execution_count": null,
   "metadata": {},
   "outputs": [],
   "source": [
    "human_features = human_features.rename(columns={'song': 'song_x'})"
   ]
  },
  {
   "cell_type": "code",
   "execution_count": null,
   "metadata": {},
   "outputs": [],
   "source": [
    "bb_Final = bb_Final.merge(human_features, on=['song_x', 'performer'], how='left').fillna(-1)"
   ]
  },
  {
   "cell_type": "code",
   "execution_count": null,
   "metadata": {},
   "outputs": [],
   "source": [
    "BB_Final = bb_Final.drop_duplicates(['song_x', 'performer'], keep='first')"
   ]
  },
  {
   "cell_type": "code",
   "execution_count": null,
   "metadata": {},
   "outputs": [],
   "source": [
    "BB_Final.to_csv('../ryan/data/BB_FINAL.CSV')"
   ]
  },
  {
   "cell_type": "code",
   "execution_count": 12,
   "metadata": {},
   "outputs": [],
   "source": [
    "# BB_Final = pd.read_csv('../ryan/data/BB_FINAL.CSV')\n",
    "BB_Final = pd.read_csv('../../data/BB_FINAL.CSV')\n",
    "BB_Final = BB_Final.drop('hitTF_x.1', axis=1)"
   ]
  },
  {
   "cell_type": "code",
   "execution_count": 13,
   "metadata": {},
   "outputs": [],
   "source": [
    "bb_feature_num = BB_Final.select_dtypes(['int', 'float'])"
   ]
  },
  {
   "cell_type": "code",
   "execution_count": 14,
   "metadata": {
    "scrolled": false
   },
   "outputs": [
    {
     "data": {
      "text/html": [
       "<div>\n",
       "<style scoped>\n",
       "    .dataframe tbody tr th:only-of-type {\n",
       "        vertical-align: middle;\n",
       "    }\n",
       "\n",
       "    .dataframe tbody tr th {\n",
       "        vertical-align: top;\n",
       "    }\n",
       "\n",
       "    .dataframe thead th {\n",
       "        text-align: right;\n",
       "    }\n",
       "</style>\n",
       "<table border=\"1\" class=\"dataframe\">\n",
       "  <thead>\n",
       "    <tr style=\"text-align: right;\">\n",
       "      <th></th>\n",
       "      <th>danceability</th>\n",
       "      <th>energy</th>\n",
       "      <th>key</th>\n",
       "      <th>loudness</th>\n",
       "      <th>mode</th>\n",
       "      <th>speechiness</th>\n",
       "      <th>acousticness</th>\n",
       "      <th>instrumentalness</th>\n",
       "      <th>liveness</th>\n",
       "      <th>valence</th>\n",
       "      <th>...</th>\n",
       "      <th>weeks_on_chart_x</th>\n",
       "      <th>peak_x</th>\n",
       "      <th>chart_position_y</th>\n",
       "      <th>previous_position_y</th>\n",
       "      <th>weeks_on_chart_y</th>\n",
       "      <th>peak_y</th>\n",
       "      <th>chart_position</th>\n",
       "      <th>previous_position</th>\n",
       "      <th>weeks_on_chart</th>\n",
       "      <th>peak</th>\n",
       "    </tr>\n",
       "  </thead>\n",
       "  <tbody>\n",
       "    <tr>\n",
       "      <th>0</th>\n",
       "      <td>0.824</td>\n",
       "      <td>0.588</td>\n",
       "      <td>6.0</td>\n",
       "      <td>-6.400</td>\n",
       "      <td>0.0</td>\n",
       "      <td>0.0924</td>\n",
       "      <td>0.69200</td>\n",
       "      <td>0.000104</td>\n",
       "      <td>0.1490</td>\n",
       "      <td>0.513</td>\n",
       "      <td>...</td>\n",
       "      <td>8.0</td>\n",
       "      <td>11.0</td>\n",
       "      <td>11.0</td>\n",
       "      <td>19.0</td>\n",
       "      <td>8.0</td>\n",
       "      <td>11.0</td>\n",
       "      <td>11.0</td>\n",
       "      <td>19.0</td>\n",
       "      <td>8.0</td>\n",
       "      <td>11.0</td>\n",
       "    </tr>\n",
       "    <tr>\n",
       "      <th>46656</th>\n",
       "      <td>0.794</td>\n",
       "      <td>0.679</td>\n",
       "      <td>6.0</td>\n",
       "      <td>-5.395</td>\n",
       "      <td>0.0</td>\n",
       "      <td>0.1040</td>\n",
       "      <td>0.16600</td>\n",
       "      <td>0.000002</td>\n",
       "      <td>0.1340</td>\n",
       "      <td>0.547</td>\n",
       "      <td>...</td>\n",
       "      <td>0.0</td>\n",
       "      <td>0.0</td>\n",
       "      <td>0.0</td>\n",
       "      <td>0.0</td>\n",
       "      <td>0.0</td>\n",
       "      <td>0.0</td>\n",
       "      <td>0.0</td>\n",
       "      <td>0.0</td>\n",
       "      <td>0.0</td>\n",
       "      <td>0.0</td>\n",
       "    </tr>\n",
       "    <tr>\n",
       "      <th>46657</th>\n",
       "      <td>0.664</td>\n",
       "      <td>0.212</td>\n",
       "      <td>6.0</td>\n",
       "      <td>-7.762</td>\n",
       "      <td>0.0</td>\n",
       "      <td>0.0460</td>\n",
       "      <td>0.93100</td>\n",
       "      <td>0.000000</td>\n",
       "      <td>0.1020</td>\n",
       "      <td>0.574</td>\n",
       "      <td>...</td>\n",
       "      <td>0.0</td>\n",
       "      <td>0.0</td>\n",
       "      <td>0.0</td>\n",
       "      <td>0.0</td>\n",
       "      <td>0.0</td>\n",
       "      <td>0.0</td>\n",
       "      <td>0.0</td>\n",
       "      <td>0.0</td>\n",
       "      <td>0.0</td>\n",
       "      <td>0.0</td>\n",
       "    </tr>\n",
       "    <tr>\n",
       "      <th>46658</th>\n",
       "      <td>0.535</td>\n",
       "      <td>0.948</td>\n",
       "      <td>6.0</td>\n",
       "      <td>-4.190</td>\n",
       "      <td>0.0</td>\n",
       "      <td>0.0356</td>\n",
       "      <td>0.00225</td>\n",
       "      <td>0.000000</td>\n",
       "      <td>0.3760</td>\n",
       "      <td>0.778</td>\n",
       "      <td>...</td>\n",
       "      <td>0.0</td>\n",
       "      <td>0.0</td>\n",
       "      <td>0.0</td>\n",
       "      <td>0.0</td>\n",
       "      <td>0.0</td>\n",
       "      <td>0.0</td>\n",
       "      <td>0.0</td>\n",
       "      <td>0.0</td>\n",
       "      <td>0.0</td>\n",
       "      <td>0.0</td>\n",
       "    </tr>\n",
       "    <tr>\n",
       "      <th>46659</th>\n",
       "      <td>0.732</td>\n",
       "      <td>0.678</td>\n",
       "      <td>2.0</td>\n",
       "      <td>-4.977</td>\n",
       "      <td>1.0</td>\n",
       "      <td>0.0886</td>\n",
       "      <td>0.08670</td>\n",
       "      <td>0.000024</td>\n",
       "      <td>0.1120</td>\n",
       "      <td>0.196</td>\n",
       "      <td>...</td>\n",
       "      <td>0.0</td>\n",
       "      <td>0.0</td>\n",
       "      <td>0.0</td>\n",
       "      <td>0.0</td>\n",
       "      <td>0.0</td>\n",
       "      <td>0.0</td>\n",
       "      <td>0.0</td>\n",
       "      <td>0.0</td>\n",
       "      <td>0.0</td>\n",
       "      <td>0.0</td>\n",
       "    </tr>\n",
       "    <tr>\n",
       "      <th>...</th>\n",
       "      <td>...</td>\n",
       "      <td>...</td>\n",
       "      <td>...</td>\n",
       "      <td>...</td>\n",
       "      <td>...</td>\n",
       "      <td>...</td>\n",
       "      <td>...</td>\n",
       "      <td>...</td>\n",
       "      <td>...</td>\n",
       "      <td>...</td>\n",
       "      <td>...</td>\n",
       "      <td>...</td>\n",
       "      <td>...</td>\n",
       "      <td>...</td>\n",
       "      <td>...</td>\n",
       "      <td>...</td>\n",
       "      <td>...</td>\n",
       "      <td>...</td>\n",
       "      <td>...</td>\n",
       "      <td>...</td>\n",
       "      <td>...</td>\n",
       "    </tr>\n",
       "    <tr>\n",
       "      <th>3684977</th>\n",
       "      <td>0.391</td>\n",
       "      <td>0.608</td>\n",
       "      <td>7.0</td>\n",
       "      <td>-10.714</td>\n",
       "      <td>1.0</td>\n",
       "      <td>0.2990</td>\n",
       "      <td>0.19000</td>\n",
       "      <td>0.000000</td>\n",
       "      <td>0.1880</td>\n",
       "      <td>0.420</td>\n",
       "      <td>...</td>\n",
       "      <td>0.0</td>\n",
       "      <td>0.0</td>\n",
       "      <td>0.0</td>\n",
       "      <td>0.0</td>\n",
       "      <td>0.0</td>\n",
       "      <td>0.0</td>\n",
       "      <td>0.0</td>\n",
       "      <td>0.0</td>\n",
       "      <td>0.0</td>\n",
       "      <td>0.0</td>\n",
       "    </tr>\n",
       "    <tr>\n",
       "      <th>3684978</th>\n",
       "      <td>0.228</td>\n",
       "      <td>0.125</td>\n",
       "      <td>8.0</td>\n",
       "      <td>-17.576</td>\n",
       "      <td>1.0</td>\n",
       "      <td>0.0369</td>\n",
       "      <td>0.90700</td>\n",
       "      <td>0.000425</td>\n",
       "      <td>0.1710</td>\n",
       "      <td>0.216</td>\n",
       "      <td>...</td>\n",
       "      <td>0.0</td>\n",
       "      <td>0.0</td>\n",
       "      <td>0.0</td>\n",
       "      <td>0.0</td>\n",
       "      <td>0.0</td>\n",
       "      <td>0.0</td>\n",
       "      <td>0.0</td>\n",
       "      <td>0.0</td>\n",
       "      <td>0.0</td>\n",
       "      <td>0.0</td>\n",
       "    </tr>\n",
       "    <tr>\n",
       "      <th>3684979</th>\n",
       "      <td>0.754</td>\n",
       "      <td>0.424</td>\n",
       "      <td>2.0</td>\n",
       "      <td>-8.463</td>\n",
       "      <td>1.0</td>\n",
       "      <td>0.0363</td>\n",
       "      <td>0.64300</td>\n",
       "      <td>0.000000</td>\n",
       "      <td>0.0652</td>\n",
       "      <td>0.806</td>\n",
       "      <td>...</td>\n",
       "      <td>21.0</td>\n",
       "      <td>33.0</td>\n",
       "      <td>33.0</td>\n",
       "      <td>0.0</td>\n",
       "      <td>21.0</td>\n",
       "      <td>33.0</td>\n",
       "      <td>33.0</td>\n",
       "      <td>0.0</td>\n",
       "      <td>21.0</td>\n",
       "      <td>33.0</td>\n",
       "    </tr>\n",
       "    <tr>\n",
       "      <th>3687723</th>\n",
       "      <td>0.666</td>\n",
       "      <td>0.841</td>\n",
       "      <td>2.0</td>\n",
       "      <td>-3.592</td>\n",
       "      <td>1.0</td>\n",
       "      <td>0.0312</td>\n",
       "      <td>0.61300</td>\n",
       "      <td>0.000000</td>\n",
       "      <td>0.1130</td>\n",
       "      <td>0.840</td>\n",
       "      <td>...</td>\n",
       "      <td>0.0</td>\n",
       "      <td>0.0</td>\n",
       "      <td>0.0</td>\n",
       "      <td>0.0</td>\n",
       "      <td>0.0</td>\n",
       "      <td>0.0</td>\n",
       "      <td>0.0</td>\n",
       "      <td>0.0</td>\n",
       "      <td>0.0</td>\n",
       "      <td>0.0</td>\n",
       "    </tr>\n",
       "    <tr>\n",
       "      <th>3687724</th>\n",
       "      <td>0.623</td>\n",
       "      <td>0.738</td>\n",
       "      <td>3.0</td>\n",
       "      <td>-5.709</td>\n",
       "      <td>1.0</td>\n",
       "      <td>0.0281</td>\n",
       "      <td>0.17900</td>\n",
       "      <td>0.000000</td>\n",
       "      <td>0.1460</td>\n",
       "      <td>0.874</td>\n",
       "      <td>...</td>\n",
       "      <td>0.0</td>\n",
       "      <td>0.0</td>\n",
       "      <td>0.0</td>\n",
       "      <td>0.0</td>\n",
       "      <td>0.0</td>\n",
       "      <td>0.0</td>\n",
       "      <td>0.0</td>\n",
       "      <td>0.0</td>\n",
       "      <td>0.0</td>\n",
       "      <td>0.0</td>\n",
       "    </tr>\n",
       "  </tbody>\n",
       "</table>\n",
       "<p>4293 rows × 26 columns</p>\n",
       "</div>"
      ],
      "text/plain": [
       "         danceability  energy  key  loudness  mode  speechiness  acousticness  \\\n",
       "0               0.824   0.588  6.0    -6.400   0.0       0.0924       0.69200   \n",
       "46656           0.794   0.679  6.0    -5.395   0.0       0.1040       0.16600   \n",
       "46657           0.664   0.212  6.0    -7.762   0.0       0.0460       0.93100   \n",
       "46658           0.535   0.948  6.0    -4.190   0.0       0.0356       0.00225   \n",
       "46659           0.732   0.678  2.0    -4.977   1.0       0.0886       0.08670   \n",
       "...               ...     ...  ...       ...   ...          ...           ...   \n",
       "3684977         0.391   0.608  7.0   -10.714   1.0       0.2990       0.19000   \n",
       "3684978         0.228   0.125  8.0   -17.576   1.0       0.0369       0.90700   \n",
       "3684979         0.754   0.424  2.0    -8.463   1.0       0.0363       0.64300   \n",
       "3687723         0.666   0.841  2.0    -3.592   1.0       0.0312       0.61300   \n",
       "3687724         0.623   0.738  3.0    -5.709   1.0       0.0281       0.17900   \n",
       "\n",
       "         instrumentalness  liveness  valence  ...  weeks_on_chart_x  peak_x  \\\n",
       "0                0.000104    0.1490    0.513  ...               8.0    11.0   \n",
       "46656            0.000002    0.1340    0.547  ...               0.0     0.0   \n",
       "46657            0.000000    0.1020    0.574  ...               0.0     0.0   \n",
       "46658            0.000000    0.3760    0.778  ...               0.0     0.0   \n",
       "46659            0.000024    0.1120    0.196  ...               0.0     0.0   \n",
       "...                   ...       ...      ...  ...               ...     ...   \n",
       "3684977          0.000000    0.1880    0.420  ...               0.0     0.0   \n",
       "3684978          0.000425    0.1710    0.216  ...               0.0     0.0   \n",
       "3684979          0.000000    0.0652    0.806  ...              21.0    33.0   \n",
       "3687723          0.000000    0.1130    0.840  ...               0.0     0.0   \n",
       "3687724          0.000000    0.1460    0.874  ...               0.0     0.0   \n",
       "\n",
       "         chart_position_y  previous_position_y  weeks_on_chart_y  peak_y  \\\n",
       "0                    11.0                 19.0               8.0    11.0   \n",
       "46656                 0.0                  0.0               0.0     0.0   \n",
       "46657                 0.0                  0.0               0.0     0.0   \n",
       "46658                 0.0                  0.0               0.0     0.0   \n",
       "46659                 0.0                  0.0               0.0     0.0   \n",
       "...                   ...                  ...               ...     ...   \n",
       "3684977               0.0                  0.0               0.0     0.0   \n",
       "3684978               0.0                  0.0               0.0     0.0   \n",
       "3684979              33.0                  0.0              21.0    33.0   \n",
       "3687723               0.0                  0.0               0.0     0.0   \n",
       "3687724               0.0                  0.0               0.0     0.0   \n",
       "\n",
       "         chart_position  previous_position  weeks_on_chart  peak  \n",
       "0                  11.0               19.0             8.0  11.0  \n",
       "46656               0.0                0.0             0.0   0.0  \n",
       "46657               0.0                0.0             0.0   0.0  \n",
       "46658               0.0                0.0             0.0   0.0  \n",
       "46659               0.0                0.0             0.0   0.0  \n",
       "...                 ...                ...             ...   ...  \n",
       "3684977             0.0                0.0             0.0   0.0  \n",
       "3684978             0.0                0.0             0.0   0.0  \n",
       "3684979            33.0                0.0            21.0  33.0  \n",
       "3687723             0.0                0.0             0.0   0.0  \n",
       "3687724             0.0                0.0             0.0   0.0  \n",
       "\n",
       "[4293 rows x 26 columns]"
      ]
     },
     "execution_count": 14,
     "metadata": {},
     "output_type": "execute_result"
    }
   ],
   "source": [
    "bb_feature_num\n",
    "# how long has song been on chart\n",
    "#     consecutive week count? \n",
    "#\n",
    "# add more features --> something a human use and infer from"
   ]
  },
  {
   "cell_type": "code",
   "execution_count": 15,
   "metadata": {},
   "outputs": [
    {
     "data": {
      "text/plain": [
       "507"
      ]
     },
     "execution_count": 15,
     "metadata": {},
     "output_type": "execute_result"
    }
   ],
   "source": [
    "(bb_feature_num.hitTF_x == 1.0).sum()"
   ]
  },
  {
   "cell_type": "code",
   "execution_count": 43,
   "metadata": {},
   "outputs": [],
   "source": [
    "import time\n",
    "import pickle\n",
    "import matplotlib.pyplot as plt\n",
    "from sklearn.model_selection import train_test_split\n",
    "from sklearn.preprocessing import MinMaxScaler\n",
    "from sklearn.linear_model import LogisticRegression\n",
    "from sklearn.metrics import classification_report, confusion_matrix"
   ]
  },
  {
   "cell_type": "code",
   "execution_count": 53,
   "metadata": {},
   "outputs": [],
   "source": [
    "def LogRegModel(X, y, size=None):\n",
    "    X_train, X_test, y_train, y_test = train_test_split(X, y, test_size=size)\n",
    "    X_train, X_val, y_train, y_val = train_test_split(X_train, y_train, test_size=size + 0.05)\n",
    "    \n",
    "    X_scaler = MinMaxScaler().fit(X_train)\n",
    "\n",
    "    X_train_scaled = X_scaler.transform(X_train)\n",
    "    X_test_scaled = X_scaler.transform(X_test)\n",
    "    X_val_scaled = X_scaler.transform(X_val)\n",
    "    \n",
    "    LogReg = LogisticRegression()\n",
    "    \n",
    "    t = time.time()\n",
    "    LogReg.fit(X_train_scaled, y_train)\n",
    "    elapsed_time = time.time() - t\n",
    "    \n",
    "    print(f\"Training Data Score: {LogReg.score(X_train_scaled, y_train)}\")\n",
    "    print(f\"Testing Data Score: {LogReg.score(X_test_scaled, y_test)}\", '\\n')\n",
    "    \n",
    "    predictions = LogReg.predict(X_val_scaled)\n",
    "    \n",
    "    print(classification_report(y_val, predictions, target_names=['not hit','hit']), '\\n')\n",
    "    \n",
    "    pickle.dump(LogReg, open('../../models/LogReg.sav', 'wb'))\n",
    "    return LogReg.score(X_train_scaled, y_train), LogReg.score(X_test_scaled, y_test)"
   ]
  },
  {
   "cell_type": "code",
   "execution_count": 54,
   "metadata": {},
   "outputs": [],
   "source": [
    "X = bb_feature_num.loc[:, bb_feature_num.columns != 'hitTF_x'].values\n",
    "y = bb_feature_num['hitTF_x'].values"
   ]
  },
  {
   "cell_type": "code",
   "execution_count": 55,
   "metadata": {},
   "outputs": [
    {
     "name": "stdout",
     "output_type": "stream",
     "text": [
      "Training Data Score: 0.9871844660194175\n",
      "Testing Data Score: 0.9941792782305006 \n",
      "\n",
      "              precision    recall  f1-score   support\n",
      "\n",
      "     not hit       0.99      1.00      0.99       752\n",
      "         hit       1.00      0.93      0.96       107\n",
      "\n",
      "    accuracy                           0.99       859\n",
      "   macro avg       0.99      0.96      0.98       859\n",
      "weighted avg       0.99      0.99      0.99       859\n",
      " \n",
      "\n"
     ]
    }
   ],
   "source": [
    "LogRegModel(X, y, size=0.2);"
   ]
  },
  {
   "cell_type": "code",
   "execution_count": 20,
   "metadata": {},
   "outputs": [],
   "source": [
    "test_size = [x / 10 for x in range(1,10)]"
   ]
  },
  {
   "cell_type": "code",
   "execution_count": 21,
   "metadata": {
    "scrolled": true
   },
   "outputs": [
    {
     "name": "stdout",
     "output_type": "stream",
     "text": [
      "10.0% of data is test --> 90.0% is training\n",
      "Training Data Score: 0.9890344197380445\n",
      "Testing Data Score: 0.9953488372093023 \n",
      "\n",
      "              precision    recall  f1-score   support\n",
      "\n",
      "     not hit       0.99      1.00      1.00       517\n",
      "         hit       1.00      0.95      0.98        63\n",
      "\n",
      "    accuracy                           0.99       580\n",
      "   macro avg       1.00      0.98      0.99       580\n",
      "weighted avg       0.99      0.99      0.99       580\n",
      " \n",
      "\n",
      "20.0% of data is test --> 80.0% is training\n",
      "Training Data Score: 0.9883495145631068\n",
      "Testing Data Score: 0.9883585564610011 \n",
      "\n",
      "              precision    recall  f1-score   support\n",
      "\n",
      "     not hit       0.98      1.00      0.99       772\n",
      "         hit       1.00      0.86      0.93        87\n",
      "\n",
      "    accuracy                           0.99       859\n",
      "   macro avg       0.99      0.93      0.96       859\n",
      "weighted avg       0.99      0.99      0.99       859\n",
      " \n",
      "\n",
      "30.0% of data is test --> 70.0% is training\n",
      "Training Data Score: 0.985663082437276\n",
      "Testing Data Score: 0.9906832298136646 \n",
      "\n",
      "              precision    recall  f1-score   support\n",
      "\n",
      "     not hit       0.99      1.00      0.99       920\n",
      "         hit       1.00      0.91      0.95       132\n",
      "\n",
      "    accuracy                           0.99      1052\n",
      "   macro avg       0.99      0.95      0.97      1052\n",
      "weighted avg       0.99      0.99      0.99      1052\n",
      " \n",
      "\n",
      "40.0% of data is test --> 60.0% is training\n",
      "Training Data Score: 0.9865819209039548\n",
      "Testing Data Score: 0.9813736903376019 \n",
      "\n",
      "              precision    recall  f1-score   support\n",
      "\n",
      "     not hit       0.98      1.00      0.99      1025\n",
      "         hit       1.00      0.87      0.93       134\n",
      "\n",
      "    accuracy                           0.99      1159\n",
      "   macro avg       0.99      0.94      0.96      1159\n",
      "weighted avg       0.99      0.99      0.98      1159\n",
      " \n",
      "\n",
      "50.0% of data is test --> 50.0% is training\n",
      "Training Data Score: 0.9886010362694301\n",
      "Testing Data Score: 0.9832324173265021 \n",
      "\n",
      "              precision    recall  f1-score   support\n",
      "\n",
      "     not hit       0.98      1.00      0.99      1033\n",
      "         hit       1.00      0.83      0.91       148\n",
      "\n",
      "    accuracy                           0.98      1181\n",
      "   macro avg       0.99      0.92      0.95      1181\n",
      "weighted avg       0.98      0.98      0.98      1181\n",
      " \n",
      "\n",
      "60.0% of data is test --> 40.0% is training\n",
      "Training Data Score: 0.985\n",
      "Testing Data Score: 0.9790372670807453 \n",
      "\n",
      "              precision    recall  f1-score   support\n",
      "\n",
      "     not hit       0.97      1.00      0.99       975\n",
      "         hit       1.00      0.82      0.90       142\n",
      "\n",
      "    accuracy                           0.98      1117\n",
      "   macro avg       0.99      0.91      0.94      1117\n",
      "weighted avg       0.98      0.98      0.98      1117\n",
      " \n",
      "\n",
      "70.0% of data is test --> 30.000000000000004% is training\n",
      "Training Data Score: 0.9750778816199377\n",
      "Testing Data Score: 0.978709248170326 \n",
      "\n",
      "              precision    recall  f1-score   support\n",
      "\n",
      "     not hit       0.98      1.00      0.99       844\n",
      "         hit       1.00      0.84      0.91       122\n",
      "\n",
      "    accuracy                           0.98       966\n",
      "   macro avg       0.99      0.92      0.95       966\n",
      "weighted avg       0.98      0.98      0.98       966\n",
      " \n",
      "\n",
      "80.0% of data is test --> 19.999999999999996% is training\n",
      "Training Data Score: 0.9921875\n",
      "Testing Data Score: 0.988646288209607 \n",
      "\n",
      "              precision    recall  f1-score   support\n",
      "\n",
      "     not hit       0.99      1.00      1.00       634\n",
      "         hit       1.00      0.94      0.97        96\n",
      "\n",
      "    accuracy                           0.99       730\n",
      "   macro avg       1.00      0.97      0.98       730\n",
      "weighted avg       0.99      0.99      0.99       730\n",
      " \n",
      "\n",
      "90.0% of data is test --> 9.999999999999998% is training\n",
      "Training Data Score: 1.0\n",
      "Testing Data Score: 0.977743271221532 \n",
      "\n",
      "              precision    recall  f1-score   support\n",
      "\n",
      "     not hit       0.98      1.00      0.99       360\n",
      "         hit       1.00      0.88      0.93        48\n",
      "\n",
      "    accuracy                           0.99       408\n",
      "   macro avg       0.99      0.94      0.96       408\n",
      "weighted avg       0.99      0.99      0.98       408\n",
      " \n",
      "\n"
     ]
    }
   ],
   "source": [
    "scores = {\n",
    "    'test_size': [],\n",
    "    'train_score': [],\n",
    "    'test_score': []\n",
    "}\n",
    "\n",
    "for size in test_size:\n",
    "    print(f'{size * 100}% of data is test --> {(1 - size) * 100}% is training')\n",
    "    train_score, test_score = LogRegModel(X, y, size)\n",
    "    scores['test_size'].append(size)\n",
    "    scores['train_score'].append(train_score)\n",
    "    scores['test_score'].append(test_score)"
   ]
  },
  {
   "cell_type": "code",
   "execution_count": 22,
   "metadata": {},
   "outputs": [],
   "source": [
    "score_df = pd.DataFrame(scores)"
   ]
  },
  {
   "cell_type": "code",
   "execution_count": 23,
   "metadata": {
    "scrolled": true
   },
   "outputs": [
    {
     "data": {
      "image/png": "[encoded data removed]",
      "text/plain": [
       "<Figure size 432x288 with 1 Axes>"
      ]
     },
     "metadata": {
      "needs_background": "light"
     },
     "output_type": "display_data"
    }
   ],
   "source": [
    "score_df.plot.line(x='test_size');"
   ]
  },
  {
   "cell_type": "code",
   "execution_count": null,
   "metadata": {},
   "outputs": [],
   "source": []
  },
  {
   "cell_type": "code",
   "execution_count": null,
   "metadata": {},
   "outputs": [],
   "source": [
    "# X = bb_feature_num.loc[:, bb_feature_num.columns != 'hitTF_x'].values\n",
    "# y = bb_feature_num['hitTF_x'].values"
   ]
  },
  {
   "cell_type": "code",
   "execution_count": null,
   "metadata": {},
   "outputs": [],
   "source": [
    "# from sklearn.model_selection import train_test_split\n",
    "\n",
    "# X_train, X_test, y_train, y_test = train_test_split(X, y, train_size=0.2)\n",
    "\n",
    "# X_train, X_val, y_train, y_val = train_test_split(X_train, y_train)"
   ]
  },
  {
   "cell_type": "code",
   "execution_count": null,
   "metadata": {},
   "outputs": [],
   "source": [
    "# # Scale your data\n",
    "# from sklearn.preprocessing import MinMaxScaler\n",
    "\n",
    "# X_scaler = MinMaxScaler().fit(X_train)\n",
    "\n",
    "# X_train_scaled = X_scaler.transform(X_train)\n",
    "# X_test_scaled = X_scaler.transform(X_test)\n",
    "# X_val_scaled = X_scaler.transform(X_val)"
   ]
  },
  {
   "cell_type": "code",
   "execution_count": null,
   "metadata": {},
   "outputs": [],
   "source": [
    "# from sklearn.linear_model import LogisticRegression\n",
    "# LogReg = LogisticRegression()"
   ]
  },
  {
   "cell_type": "code",
   "execution_count": null,
   "metadata": {},
   "outputs": [],
   "source": [
    "# import time"
   ]
  },
  {
   "cell_type": "code",
   "execution_count": null,
   "metadata": {},
   "outputs": [],
   "source": [
    "# t = time.time()\n",
    "# LogReg.fit(X_train_scaled, y_train)\n",
    "# time.time() - t"
   ]
  },
  {
   "cell_type": "code",
   "execution_count": null,
   "metadata": {},
   "outputs": [],
   "source": [
    "# print(f\"Training Data Score: {LogReg.score(X_train_scaled, y_train)}\")\n",
    "# print(f\"Testing Data Score: {LogReg.score(X_test_scaled, y_test)}\")"
   ]
  },
  {
   "cell_type": "code",
   "execution_count": null,
   "metadata": {},
   "outputs": [],
   "source": [
    "# predictions = LogReg.predict(X_val_scaled)\n",
    "# for i, pred in enumerate(predictions):\n",
    "#     print(\"Classes are either 0 (not hit) or 1 (is hit)\")\n",
    "#     print(f\"The new point was classified as: {pred}\")\n",
    "#     print(f'actual: {y_val[i]}', '\\n')"
   ]
  },
  {
   "cell_type": "code",
   "execution_count": null,
   "metadata": {},
   "outputs": [],
   "source": [
    "# from sklearn.metrics import classification_report\n",
    "\n",
    "# print(classification_report(y_val, predictions, target_names=['not hit','hit']))"
   ]
  },
  {
   "cell_type": "code",
   "execution_count": 24,
   "metadata": {},
   "outputs": [],
   "source": [
    "X = bb_feature_num.loc[:, bb_feature_num.columns != 'hitTF_x'].values\n",
    "y = bb_feature_num['hitTF_x'].values\n",
    "\n",
    "X_train, X_test, y_train, y_test = train_test_split(X, y, train_size=0.2)\n",
    "\n",
    "X_train, X_val, y_train, y_val = train_test_split(X_train, y_train)\n",
    "\n",
    "# Scale your data\n",
    "X_scaler = MinMaxScaler().fit(X_train)\n",
    "\n",
    "X_train_scaled = X_scaler.transform(X_train)\n",
    "X_test_scaled = X_scaler.transform(X_test)\n",
    "X_val_scaled = X_scaler.transform(X_val)"
   ]
  },
  {
   "cell_type": "code",
   "execution_count": 25,
   "metadata": {},
   "outputs": [],
   "source": [
    "from sklearn.svm import SVC \n",
    "SVM = SVC(kernel='linear')\n",
    "SVM.fit(X_train_scaled, y_train);"
   ]
  },
  {
   "cell_type": "code",
   "execution_count": 26,
   "metadata": {},
   "outputs": [],
   "source": [
    "svm_predictions = SVM.predict(X_test_scaled)"
   ]
  },
  {
   "cell_type": "code",
   "execution_count": 27,
   "metadata": {},
   "outputs": [
    {
     "name": "stdout",
     "output_type": "stream",
     "text": [
      "              precision    recall  f1-score   support\n",
      "\n",
      "     not hit       0.99      1.00      1.00      3029\n",
      "         hit       1.00      0.96      0.98       406\n",
      "\n",
      "    accuracy                           1.00      3435\n",
      "   macro avg       1.00      0.98      0.99      3435\n",
      "weighted avg       1.00      1.00      1.00      3435\n",
      "\n"
     ]
    }
   ],
   "source": [
    "print(classification_report(y_test, svm_predictions, target_names=['not hit','hit']))"
   ]
  },
  {
   "cell_type": "code",
   "execution_count": 32,
   "metadata": {},
   "outputs": [
    {
     "data": {
      "text/plain": [
       "array([[3029,    0],\n",
       "       [  16,  390]])"
      ]
     },
     "execution_count": 32,
     "metadata": {},
     "output_type": "execute_result"
    }
   ],
   "source": [
    "confusion_matrix(y_test, svm_predictions)"
   ]
  },
  {
   "cell_type": "code",
   "execution_count": 33,
   "metadata": {},
   "outputs": [
    {
     "name": "stdout",
     "output_type": "stream",
     "text": [
      "              precision    recall  f1-score   support\n",
      "\n",
      "     not hit       0.99      1.00      1.00       195\n",
      "         hit       1.00      0.95      0.97        20\n",
      "\n",
      "    accuracy                           1.00       215\n",
      "   macro avg       1.00      0.97      0.99       215\n",
      "weighted avg       1.00      1.00      1.00       215\n",
      "\n"
     ]
    }
   ],
   "source": [
    "svm_predictions = SVM.predict(X_val_scaled)\n",
    "print(classification_report(y_val, svm_predictions, target_names=['not hit','hit']))"
   ]
  },
  {
   "cell_type": "code",
   "execution_count": 34,
   "metadata": {},
   "outputs": [
    {
     "data": {
      "text/plain": [
       "array([[195,   0],\n",
       "       [  1,  19]])"
      ]
     },
     "execution_count": 34,
     "metadata": {},
     "output_type": "execute_result"
    }
   ],
   "source": [
    "confusion_matrix(y_val, svm_predictions)"
   ]
  },
  {
   "cell_type": "code",
   "execution_count": 58,
   "metadata": {},
   "outputs": [],
   "source": [
    "from sklearn.decomposition import PCA\n",
    "\n",
    "pca = PCA(n_components=2)\n",
    "pca.fit(X)\n",
    "\n",
    "reduced_X = pca.transform(X)"
   ]
  },
  {
   "cell_type": "code",
   "execution_count": 71,
   "metadata": {},
   "outputs": [
    {
     "name": "stdout",
     "output_type": "stream",
     "text": [
      "              precision    recall  f1-score   support\n",
      "\n",
      "     not hit       0.98      1.00      0.99      3041\n",
      "         hit       1.00      0.85      0.92       394\n",
      "\n",
      "    accuracy                           0.98      3435\n",
      "   macro avg       0.99      0.92      0.95      3435\n",
      "weighted avg       0.98      0.98      0.98      3435\n",
      "\n"
     ]
    },
    {
     "data": {
      "text/plain": [
       "array([[3041,    0],\n",
       "       [  61,  333]])"
      ]
     },
     "execution_count": 71,
     "metadata": {},
     "output_type": "execute_result"
    }
   ],
   "source": [
    "y = bb_feature_num['hitTF_x'].values\n",
    "\n",
    "X_train, X_test, y_train, y_test = train_test_split(reduced_X, y, train_size=0.2)\n",
    "\n",
    "X_train, X_val, y_train, y_val = train_test_split(X_train, y_train)\n",
    "\n",
    "# Scale your data\n",
    "X_scaler = MinMaxScaler().fit(X_train)\n",
    "\n",
    "X_train_scaled = X_scaler.transform(X_train)\n",
    "X_test_scaled = X_scaler.transform(X_test)\n",
    "X_val_scaled = X_scaler.transform(X_val)\n",
    "\n",
    "SVM = SVC(kernel='linear')\n",
    "SVM.fit(X_train_scaled, y_train)\n",
    "\n",
    "svm_predictions = SVM.predict(X_test_scaled)\n",
    "print(classification_report(y_test, svm_predictions, target_names=['not hit','hit']))\n",
    "\n",
    "confusion_matrix(y_test, svm_predictions)"
   ]
  },
  {
   "cell_type": "code",
   "execution_count": 78,
   "metadata": {},
   "outputs": [
    {
     "name": "stdout",
     "output_type": "stream",
     "text": [
      "Number of support vectors: 47\n"
     ]
    },
    {
     "data": {
      "image/png": "[encoded data removed]",
      "text/plain": [
       "<Figure size 432x288 with 1 Axes>"
      ]
     },
     "metadata": {
      "needs_background": "light"
     },
     "output_type": "display_data"
    }
   ],
   "source": [
    "import numpy as np\n",
    "# get the separating hyperplane\n",
    "w = SVM.coef_[0]\n",
    "a = -w[0] / w[1]\n",
    "xx = np.linspace(-5, 5)\n",
    "yy = a * xx - (SVM.intercept_[0]) / w[1]\n",
    "\n",
    "margin = 1 / np.sqrt(np.sum(SVM.coef_ ** 2))\n",
    "yy_down = yy - np.sqrt(1 + a ** 2) * margin\n",
    "yy_up = yy + np.sqrt(1 + a ** 2) * margin\n",
    "\n",
    "plt.clf()\n",
    "plt.plot(xx, yy, 'k-')\n",
    "plt.plot(xx, yy_down, 'k--')\n",
    "plt.plot(xx, yy_up, 'k--')\n",
    "\n",
    "support_vectors = SVM.support_vectors_\n",
    "plt.scatter(X_train_scaled[:,0], X_train_scaled[:,1])\n",
    "plt.scatter(support_vectors[:,0], support_vectors[:,1], color='red')\n",
    "# plt.title('Linearly separable data with support vectors')\n",
    "plt.xlabel('dim1')\n",
    "plt.ylabel('dim2')\n",
    "\n",
    "plt.axis('tight')\n",
    "\n",
    "print(f'Number of support vectors: {len(support_vectors)}')"
   ]
  },
  {
   "cell_type": "code",
   "execution_count": 56,
   "metadata": {},
   "outputs": [],
   "source": [
    "pickle.dump(SVM, open('../../models/SVM.sav', 'wb'))"
   ]
  },
  {
   "cell_type": "code",
   "execution_count": 35,
   "metadata": {},
   "outputs": [],
   "source": [
    "from sklearn.ensemble import RandomForestClassifier"
   ]
  },
  {
   "cell_type": "code",
   "execution_count": 36,
   "metadata": {},
   "outputs": [],
   "source": [
    "rf = RandomForestClassifier(n_estimators=200)"
   ]
  },
  {
   "cell_type": "code",
   "execution_count": 37,
   "metadata": {},
   "outputs": [
    {
     "data": {
      "text/plain": [
       "0.9991266375545852"
      ]
     },
     "execution_count": 37,
     "metadata": {},
     "output_type": "execute_result"
    }
   ],
   "source": [
    "rf.fit(X_train_scaled, y_train)\n",
    "rf.score(X_test_scaled, y_test)"
   ]
  },
  {
   "cell_type": "code",
   "execution_count": 38,
   "metadata": {},
   "outputs": [
    {
     "data": {
      "text/plain": [
       "array([1.27314865e-03, 1.60208404e-04, 2.48096493e-04, 2.83660671e-04,\n",
       "       0.00000000e+00, 1.04611203e-03, 3.71297100e-04, 2.50704771e-04,\n",
       "       6.43721782e-04, 5.08763698e-04, 5.48401483e-04, 3.21304233e-04,\n",
       "       1.09922133e-05, 2.01832056e-01, 4.58607105e-03, 6.49505129e-02,\n",
       "       7.56467565e-02, 2.13409888e-01, 5.25652599e-04, 7.05835819e-02,\n",
       "       6.58760045e-02, 1.83755916e-01, 1.50524363e-03, 4.07520388e-02,\n",
       "       7.09098664e-02])"
      ]
     },
     "execution_count": 38,
     "metadata": {},
     "output_type": "execute_result"
    }
   ],
   "source": [
    "importances = rf.feature_importances_\n",
    "importances"
   ]
  },
  {
   "cell_type": "code",
   "execution_count": 39,
   "metadata": {},
   "outputs": [],
   "source": [
    "feature_cols = bb_feature_num.loc[:, bb_feature_num.columns != 'hitTF_x'].columns"
   ]
  },
  {
   "cell_type": "code",
   "execution_count": 40,
   "metadata": {},
   "outputs": [],
   "source": [
    "feature_impt = {\n",
    "    'feats':feature_cols,\n",
    "    'importance': importances\n",
    "}"
   ]
  },
  {
   "cell_type": "code",
   "execution_count": 41,
   "metadata": {},
   "outputs": [],
   "source": [
    "import matplotlib.pyplot as plt"
   ]
  },
  {
   "cell_type": "code",
   "execution_count": 42,
   "metadata": {},
   "outputs": [
    {
     "data": {
      "image/png": "[encoded data removed]",
      "text/plain": [
       "<Figure size 432x288 with 1 Axes>"
      ]
     },
     "metadata": {
      "needs_background": "light"
     },
     "output_type": "display_data"
    }
   ],
   "source": [
    "plt.bar(x=feature_impt['feats'], height=feature_impt['importance'], color='purple')\n",
    "plt.xticks(rotation=90)\n",
    "plt.title('Feature Importance')\n",
    "plt.ylabel('Importance');\n",
    "# plt.savefig('../ryan/data/feature_importance.png', dpi=400, bbox_inches='tight');"
   ]
  },
  {
   "cell_type": "code",
   "execution_count": 57,
   "metadata": {},
   "outputs": [],
   "source": [
    "pickle.dump(rf, open('../../models/rf.sav', 'wb'))"
   ]
  },
  {
   "cell_type": "code",
   "execution_count": null,
   "metadata": {},
   "outputs": [],
   "source": []
  }
 ],
 "metadata": {
  "kernelspec": {
   "display_name": "Python 3",
   "language": "python",
   "name": "python3"
  },
  "language_info": {
   "codemirror_mode": {
    "name": "ipython",
    "version": 3
   },
   "file_extension": ".py",
   "mimetype": "text/x-python",
   "name": "python",
   "nbconvert_exporter": "python",
   "pygments_lexer": "ipython3",
   "version": "3.8.3"
  }
 },
 "nbformat": 4,
 "nbformat_minor": 4
}
