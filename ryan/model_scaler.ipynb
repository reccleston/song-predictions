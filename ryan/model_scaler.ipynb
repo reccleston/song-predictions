{
 "cells": [
  {
   "cell_type": "code",
   "execution_count": 52,
   "metadata": {},
   "outputs": [],
   "source": [
    "import time\n",
    "import numpy as np\n",
    "import pickle\n",
    "import pandas as pd\n",
    "from sklearn.preprocessing import MinMaxScaler\n",
    "from sklearn.linear_model import LogisticRegression\n",
    "from sklearn.model_selection import train_test_split\n",
    "from sklearn.metrics import classification_report"
   ]
  },
  {
   "cell_type": "code",
   "execution_count": 53,
   "metadata": {},
   "outputs": [
    {
     "data": {
      "text/html": [
       "<div>\n",
       "<style scoped>\n",
       "    .dataframe tbody tr th:only-of-type {\n",
       "        vertical-align: middle;\n",
       "    }\n",
       "\n",
       "    .dataframe tbody tr th {\n",
       "        vertical-align: top;\n",
       "    }\n",
       "\n",
       "    .dataframe thead th {\n",
       "        text-align: right;\n",
       "    }\n",
       "</style>\n",
       "<table border=\"1\" class=\"dataframe\">\n",
       "  <thead>\n",
       "    <tr style=\"text-align: right;\">\n",
       "      <th></th>\n",
       "      <th>song</th>\n",
       "      <th>performer</th>\n",
       "      <th>chart_position</th>\n",
       "      <th>previous_position</th>\n",
       "      <th>peak</th>\n",
       "      <th>weeks_on_chart</th>\n",
       "      <th>hitTF</th>\n",
       "      <th>id</th>\n",
       "      <th>danceability</th>\n",
       "      <th>energy</th>\n",
       "      <th>...</th>\n",
       "      <th>loudness</th>\n",
       "      <th>mode</th>\n",
       "      <th>speechiness</th>\n",
       "      <th>acousticness</th>\n",
       "      <th>instrumentalness</th>\n",
       "      <th>liveness</th>\n",
       "      <th>valence</th>\n",
       "      <th>tempo</th>\n",
       "      <th>duration_ms</th>\n",
       "      <th>time_signature</th>\n",
       "    </tr>\n",
       "  </thead>\n",
       "  <tbody>\n",
       "    <tr>\n",
       "      <th>0</th>\n",
       "      <td>Dance Monkey</td>\n",
       "      <td>Tones And I</td>\n",
       "      <td>11.0</td>\n",
       "      <td>19.0</td>\n",
       "      <td>11.0</td>\n",
       "      <td>8.0</td>\n",
       "      <td>1.0</td>\n",
       "      <td>2XU0oxnq2qxCpomAAuJY8K</td>\n",
       "      <td>0.824</td>\n",
       "      <td>0.588</td>\n",
       "      <td>...</td>\n",
       "      <td>-6.400</td>\n",
       "      <td>0.0</td>\n",
       "      <td>0.0924</td>\n",
       "      <td>0.6920</td>\n",
       "      <td>0.000104</td>\n",
       "      <td>0.149</td>\n",
       "      <td>0.513</td>\n",
       "      <td>98.027</td>\n",
       "      <td>209438.0</td>\n",
       "      <td>4.0</td>\n",
       "    </tr>\n",
       "    <tr>\n",
       "      <th>1</th>\n",
       "      <td>Mine</td>\n",
       "      <td>Bazzi</td>\n",
       "      <td>56.0</td>\n",
       "      <td>0.0</td>\n",
       "      <td>56.0</td>\n",
       "      <td>1.0</td>\n",
       "      <td>1.0</td>\n",
       "      <td>7uzmGiiJyRfuViKKK3lVmR</td>\n",
       "      <td>0.710</td>\n",
       "      <td>0.789</td>\n",
       "      <td>...</td>\n",
       "      <td>-3.874</td>\n",
       "      <td>1.0</td>\n",
       "      <td>0.0722</td>\n",
       "      <td>0.0161</td>\n",
       "      <td>0.000003</td>\n",
       "      <td>0.451</td>\n",
       "      <td>0.717</td>\n",
       "      <td>142.929</td>\n",
       "      <td>131064.0</td>\n",
       "      <td>4.0</td>\n",
       "    </tr>\n",
       "    <tr>\n",
       "      <th>2</th>\n",
       "      <td>Final Fantasy</td>\n",
       "      <td>Drake</td>\n",
       "      <td>56.0</td>\n",
       "      <td>0.0</td>\n",
       "      <td>56.0</td>\n",
       "      <td>1.0</td>\n",
       "      <td>1.0</td>\n",
       "      <td>44Du2IM1bGY7dicmLfXbUs</td>\n",
       "      <td>0.500</td>\n",
       "      <td>0.449</td>\n",
       "      <td>...</td>\n",
       "      <td>-10.977</td>\n",
       "      <td>1.0</td>\n",
       "      <td>0.4420</td>\n",
       "      <td>0.4220</td>\n",
       "      <td>0.000008</td>\n",
       "      <td>0.115</td>\n",
       "      <td>0.104</td>\n",
       "      <td>144.206</td>\n",
       "      <td>219960.0</td>\n",
       "      <td>1.0</td>\n",
       "    </tr>\n",
       "    <tr>\n",
       "      <th>3</th>\n",
       "      <td>Hear Me Calling</td>\n",
       "      <td>Juice WRLD</td>\n",
       "      <td>56.0</td>\n",
       "      <td>0.0</td>\n",
       "      <td>56.0</td>\n",
       "      <td>1.0</td>\n",
       "      <td>1.0</td>\n",
       "      <td>13ZyrkCDmRz5xY3seuAWYk</td>\n",
       "      <td>0.699</td>\n",
       "      <td>0.687</td>\n",
       "      <td>...</td>\n",
       "      <td>-3.997</td>\n",
       "      <td>0.0</td>\n",
       "      <td>0.1060</td>\n",
       "      <td>0.3080</td>\n",
       "      <td>0.000036</td>\n",
       "      <td>0.121</td>\n",
       "      <td>0.499</td>\n",
       "      <td>88.932</td>\n",
       "      <td>189977.0</td>\n",
       "      <td>4.0</td>\n",
       "    </tr>\n",
       "    <tr>\n",
       "      <th>4</th>\n",
       "      <td>Liar</td>\n",
       "      <td>Camila Cabello</td>\n",
       "      <td>56.0</td>\n",
       "      <td>0.0</td>\n",
       "      <td>56.0</td>\n",
       "      <td>1.0</td>\n",
       "      <td>1.0</td>\n",
       "      <td>7LzouaWGFCy4tkXDOOnEyM</td>\n",
       "      <td>0.740</td>\n",
       "      <td>0.498</td>\n",
       "      <td>...</td>\n",
       "      <td>-6.684</td>\n",
       "      <td>0.0</td>\n",
       "      <td>0.0456</td>\n",
       "      <td>0.0169</td>\n",
       "      <td>0.002820</td>\n",
       "      <td>0.319</td>\n",
       "      <td>0.652</td>\n",
       "      <td>98.016</td>\n",
       "      <td>207039.0</td>\n",
       "      <td>4.0</td>\n",
       "    </tr>\n",
       "  </tbody>\n",
       "</table>\n",
       "<p>5 rows × 21 columns</p>\n",
       "</div>"
      ],
      "text/plain": [
       "              song       performer  chart_position  previous_position  peak  \\\n",
       "0     Dance Monkey     Tones And I            11.0               19.0  11.0   \n",
       "1             Mine           Bazzi            56.0                0.0  56.0   \n",
       "2    Final Fantasy           Drake            56.0                0.0  56.0   \n",
       "3  Hear Me Calling      Juice WRLD            56.0                0.0  56.0   \n",
       "4             Liar  Camila Cabello            56.0                0.0  56.0   \n",
       "\n",
       "   weeks_on_chart  hitTF                      id  danceability  energy  ...  \\\n",
       "0             8.0    1.0  2XU0oxnq2qxCpomAAuJY8K         0.824   0.588  ...   \n",
       "1             1.0    1.0  7uzmGiiJyRfuViKKK3lVmR         0.710   0.789  ...   \n",
       "2             1.0    1.0  44Du2IM1bGY7dicmLfXbUs         0.500   0.449  ...   \n",
       "3             1.0    1.0  13ZyrkCDmRz5xY3seuAWYk         0.699   0.687  ...   \n",
       "4             1.0    1.0  7LzouaWGFCy4tkXDOOnEyM         0.740   0.498  ...   \n",
       "\n",
       "   loudness  mode  speechiness  acousticness  instrumentalness  liveness  \\\n",
       "0    -6.400   0.0       0.0924        0.6920          0.000104     0.149   \n",
       "1    -3.874   1.0       0.0722        0.0161          0.000003     0.451   \n",
       "2   -10.977   1.0       0.4420        0.4220          0.000008     0.115   \n",
       "3    -3.997   0.0       0.1060        0.3080          0.000036     0.121   \n",
       "4    -6.684   0.0       0.0456        0.0169          0.002820     0.319   \n",
       "\n",
       "   valence    tempo  duration_ms  time_signature  \n",
       "0    0.513   98.027     209438.0             4.0  \n",
       "1    0.717  142.929     131064.0             4.0  \n",
       "2    0.104  144.206     219960.0             1.0  \n",
       "3    0.499   88.932     189977.0             4.0  \n",
       "4    0.652   98.016     207039.0             4.0  \n",
       "\n",
       "[5 rows x 21 columns]"
      ]
     },
     "execution_count": 53,
     "metadata": {},
     "output_type": "execute_result"
    }
   ],
   "source": [
    "df = pd.read_csv('../data/finalDataSet2018to2021.csv')\n",
    "df.head()"
   ]
  },
  {
   "cell_type": "code",
   "execution_count": 54,
   "metadata": {},
   "outputs": [],
   "source": [
    "X = df.loc[:, df.columns != 'hitTF'].select_dtypes(['int', 'float']).values\n",
    "y = df.hitTF.values"
   ]
  },
  {
   "cell_type": "code",
   "execution_count": 55,
   "metadata": {},
   "outputs": [
    {
     "data": {
      "text/plain": [
       "array([[1.10000e+01, 1.90000e+01, 1.10000e+01, ..., 9.80270e+01,\n",
       "        2.09438e+05, 4.00000e+00],\n",
       "       [5.60000e+01, 0.00000e+00, 5.60000e+01, ..., 1.42929e+02,\n",
       "        1.31064e+05, 4.00000e+00],\n",
       "       [5.60000e+01, 0.00000e+00, 5.60000e+01, ..., 1.44206e+02,\n",
       "        2.19960e+05, 1.00000e+00],\n",
       "       ...,\n",
       "       [0.00000e+00, 0.00000e+00, 0.00000e+00, ..., 9.89520e+01,\n",
       "        1.67290e+05, 4.00000e+00],\n",
       "       [0.00000e+00, 0.00000e+00, 0.00000e+00, ..., 9.69790e+01,\n",
       "        1.87720e+05, 4.00000e+00],\n",
       "       [0.00000e+00, 0.00000e+00, 0.00000e+00, ..., 1.00098e+02,\n",
       "        2.23450e+05, 4.00000e+00]])"
      ]
     },
     "execution_count": 55,
     "metadata": {},
     "output_type": "execute_result"
    }
   ],
   "source": [
    "X"
   ]
  },
  {
   "cell_type": "code",
   "execution_count": 56,
   "metadata": {},
   "outputs": [],
   "source": [
    "def LogRegModel(X, y, size=None):\n",
    "    X_train, X_test, y_train, y_test = train_test_split(X, y, test_size=size)\n",
    "    X_train, X_val, y_train, y_val = train_test_split(X_train, y_train, test_size=size + 0.05)\n",
    "    \n",
    "    X_scaler = MinMaxScaler().fit(X_train)\n",
    "\n",
    "    X_train_scaled = X_scaler.transform(X_train)\n",
    "    X_test_scaled = X_scaler.transform(X_test)\n",
    "    X_val_scaled = X_scaler.transform(X_val)\n",
    "    \n",
    "    LogReg = LogisticRegression()\n",
    "    \n",
    "    t = time.time()\n",
    "    LogReg.fit(X_train_scaled, y_train)\n",
    "    elapsed_time = time.time() - t\n",
    "    print(elapsed_time)\n",
    "    \n",
    "    print(f\"Training Data Score: {LogReg.score(X_train_scaled, y_train)}\")\n",
    "    print(f\"Testing Data Score: {LogReg.score(X_test_scaled, y_test)}\", '\\n')\n",
    "    \n",
    "    predictions = LogReg.predict(X_val_scaled)\n",
    "    \n",
    "    print(classification_report(y_val, predictions, target_names=['not hit','hit']), '\\n')\n",
    "    \n",
    "    pickle.dump(LogReg, open('../deployment/models/LogReg.sav', 'wb'))\n",
    "    pickle.dump(X_scaler, open('../deployment/models/scaler.gz', 'wb'))\n",
    "    return LogReg.predict(X_train_scaled), LogReg.predict(X_test_scaled), LogReg, X_scaler"
   ]
  },
  {
   "cell_type": "code",
   "execution_count": 67,
   "metadata": {},
   "outputs": [
    {
     "name": "stdout",
     "output_type": "stream",
     "text": [
      "0.15213489532470703\n",
      "Training Data Score: 0.9840785907859079\n",
      "Testing Data Score: 0.9847715736040609 \n",
      "\n",
      "              precision    recall  f1-score   support\n",
      "\n",
      "     not hit       0.99      1.00      0.99       855\n",
      "         hit       1.00      0.90      0.95       130\n",
      "\n",
      "    accuracy                           0.99       985\n",
      "   macro avg       0.99      0.95      0.97       985\n",
      "weighted avg       0.99      0.99      0.99       985\n",
      " \n",
      "\n"
     ]
    }
   ],
   "source": [
    "s1, s2, model, scaler = LogRegModel(X, y, 0.2)"
   ]
  },
  {
   "cell_type": "code",
   "execution_count": 74,
   "metadata": {},
   "outputs": [],
   "source": [
    "drake_song = df.loc[:, df.columns != 'hitTF'].select_dtypes(['int', 'float']).values[3]"
   ]
  },
  {
   "cell_type": "code",
   "execution_count": 75,
   "metadata": {},
   "outputs": [],
   "source": [
    "ds = scaler.transform([drake_song])"
   ]
  },
  {
   "cell_type": "code",
   "execution_count": 76,
   "metadata": {},
   "outputs": [
    {
     "data": {
      "text/plain": [
       "array([[0.00911754, 0.99088246]])"
      ]
     },
     "execution_count": 76,
     "metadata": {},
     "output_type": "execute_result"
    }
   ],
   "source": [
    "model.predict_proba(ds)"
   ]
  },
  {
   "cell_type": "code",
   "execution_count": 77,
   "metadata": {},
   "outputs": [
    {
     "data": {
      "text/plain": [
       "array([[5.60000000e-01, 0.00000000e+00, 5.60000000e-01, 2.04081633e-02,\n",
       "        7.13993871e-01, 6.86993740e-01, 6.36363636e-01, 9.04814024e-01,\n",
       "        0.00000000e+00, 1.10994764e-01, 3.09546962e-01, 3.63000000e-05,\n",
       "        1.03092784e-01, 5.06598985e-01, 4.31893236e-01, 4.98559425e-02,\n",
       "        8.00000000e-01]])"
      ]
     },
     "execution_count": 77,
     "metadata": {},
     "output_type": "execute_result"
    }
   ],
   "source": [
    "ds"
   ]
  },
  {
   "cell_type": "code",
   "execution_count": 78,
   "metadata": {},
   "outputs": [
    {
     "data": {
      "text/plain": [
       "array([[ 8.80994533,  3.10385754,  6.46755897,  3.72406671,  1.3569274 ,\n",
       "        -1.48422635, -0.09288073,  0.49384728,  0.34910384,  1.1056262 ,\n",
       "        -1.17512023, -1.52573595, -0.36707238, -0.48872859, -0.36756887,\n",
       "        -0.39177874, -0.02068741]])"
      ]
     },
     "execution_count": 78,
     "metadata": {},
     "output_type": "execute_result"
    }
   ],
   "source": [
    "model.coef_"
   ]
  },
  {
   "cell_type": "code",
   "execution_count": 79,
   "metadata": {},
   "outputs": [],
   "source": [
    "dance_monkey = df.loc[:, df.columns != 'hitTF'].select_dtypes(['int', 'float']).values[0]"
   ]
  },
  {
   "cell_type": "code",
   "execution_count": 80,
   "metadata": {},
   "outputs": [],
   "source": [
    "dm = scaler.transform([dance_monkey])"
   ]
  },
  {
   "cell_type": "code",
   "execution_count": 81,
   "metadata": {},
   "outputs": [
    {
     "data": {
      "text/plain": [
       "array([[0.77852337, 0.22147663]])"
      ]
     },
     "execution_count": 81,
     "metadata": {},
     "output_type": "execute_result"
    }
   ],
   "source": [
    "model.predict_proba(dm)"
   ]
  },
  {
   "cell_type": "code",
   "execution_count": null,
   "metadata": {},
   "outputs": [],
   "source": []
  }
 ],
 "metadata": {
  "kernelspec": {
   "display_name": "Python 3",
   "language": "python",
   "name": "python3"
  },
  "language_info": {
   "codemirror_mode": {
    "name": "ipython",
    "version": 3
   },
   "file_extension": ".py",
   "mimetype": "text/x-python",
   "name": "python",
   "nbconvert_exporter": "python",
   "pygments_lexer": "ipython3",
   "version": "3.8.3"
  }
 },
 "nbformat": 4,
 "nbformat_minor": 4
}
